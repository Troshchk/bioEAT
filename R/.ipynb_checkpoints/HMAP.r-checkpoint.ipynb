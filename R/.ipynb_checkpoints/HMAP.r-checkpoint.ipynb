{
 "cells": [
  {
   "cell_type": "code",
   "execution_count": 10,
   "metadata": {},
   "outputs": [],
   "source": [
    "library(openxlsx, quietly = TRUE)\n",
    "library(\"readxl\", quietly = TRUE)"
   ]
  },
  {
   "cell_type": "code",
   "execution_count": 2,
   "metadata": {},
   "outputs": [
    {
     "ename": "ERROR",
     "evalue": "Error in heatmap.2(): could not find function \"heatmap.2\"\n",
     "output_type": "error",
     "traceback": [
      "Error in heatmap.2(): could not find function \"heatmap.2\"\nTraceback:\n"
     ]
    }
   ],
   "source": [
    "heatmap.2()"
   ]
  },
  {
   "cell_type": "code",
   "execution_count": 2,
   "metadata": {},
   "outputs": [
    {
     "data": {
      "text/html": [
       "'/mnt/c/Users/troshchenkova/Documents/PACKAGE/'"
      ],
      "text/latex": [
       "'/mnt/c/Users/troshchenkova/Documents/PACKAGE/'"
      ],
      "text/markdown": [
       "'/mnt/c/Users/troshchenkova/Documents/PACKAGE/'"
      ],
      "text/plain": [
       "[1] \"/mnt/c/Users/troshchenkova/Documents/PACKAGE/\""
      ]
     },
     "metadata": {},
     "output_type": "display_data"
    }
   ],
   "source": [
    "def_path = \"/mnt/c/Users/troshchenkova/Documents/\"\n",
    "out = paste(def_path, \"PACKAGE/\", sep=\"\")\n",
    "input_path =  paste(def_path, \"DD-20-12/1_expl_an/\", sep=\"\")\n",
    "out\n",
    "#dir.create(out)\n",
    "setwd(out)\n",
    "#setwd(paste(def_path,\"/PACKAGE/bioEAT/R\",sep=\"\"))"
   ]
  },
  {
   "cell_type": "code",
   "execution_count": 3,
   "metadata": {
    "scrolled": true
   },
   "outputs": [
    {
     "name": "stdout",
     "output_type": "stream",
     "text": [
      "\u001b[32m✔\u001b[39m  \u001b[38;5;247mchecking for file ‘/mnt/c/Users/troshchenkova/Documents/PACKAGE/bioEAT/DESCRIPTION’\u001b[39m\u001b[36m\u001b[36m (779ms)\u001b[36m\u001b[39m\n",
      "\u001b[38;5;247m─\u001b[39m\u001b[38;5;247m  \u001b[39m\u001b[38;5;247mpreparing ‘bioEAT’:\u001b[39m\u001b[36m\u001b[39m\n",
      "\u001b[32m✔\u001b[39m  \u001b[38;5;247mchecking DESCRIPTION meta-information\u001b[39m\u001b[36m\u001b[39m\n",
      "\u001b[38;5;247m─\u001b[39m\u001b[38;5;247m  \u001b[39m\u001b[38;5;247mexcluding invalid files\u001b[39m\u001b[36m\u001b[39m\n",
      "   Subdirectory 'R' contains invalid file names:\n",
      "     ‘HMAP.r.ipynb’\n",
      "\u001b[38;5;247m─\u001b[39m\u001b[38;5;247m  \u001b[39m\u001b[38;5;247mchecking for LF line-endings in source and make files and shell scripts\u001b[39m\u001b[36m\u001b[39m\n",
      "\u001b[38;5;247m─\u001b[39m\u001b[38;5;247m  \u001b[39m\u001b[38;5;247mchecking for empty or unneeded directories\u001b[39m\u001b[36m\u001b[39m\n",
      "\u001b[38;5;247m─\u001b[39m\u001b[38;5;247m  \u001b[39m\u001b[38;5;247mbuilding ‘bioEAT_0.0.0.9000.tar.gz’\u001b[39m\u001b[36m\u001b[39m\n",
      "   \n",
      "Running /usr/lib/R/bin/R CMD INSTALL /tmp/RtmptxhJU4/bioEAT_0.0.0.9000.tar.gz \\\n",
      "  --install-tests \n",
      "\u001b[31m* installing to library ‘/home/troshchenkova/R/x86_64-pc-linux-gnu-library/3.6’\n",
      "\u001b[39m\u001b[31mERROR: failed to lock directory ‘/home/troshchenkova/R/x86_64-pc-linux-gnu-library/3.6’ for modifying\n",
      "Try removing ‘/home/troshchenkova/R/x86_64-pc-linux-gnu-library/3.6/00LOCK-bioEAT’\n",
      "\u001b[39m"
     ]
    },
    {
     "ename": "ERROR",
     "evalue": "Error in (function (command = NULL, args = character(), error_on_status = TRUE, : System command 'R' failed, exit status: 3, stdout & stderr were printed\n",
     "output_type": "error",
     "traceback": [
      "Error in (function (command = NULL, args = character(), error_on_status = TRUE, : System command 'R' failed, exit status: 3, stdout & stderr were printed\nTraceback:\n",
      "1. devtools::install(\"bioEAT\")",
      "2. pkgbuild::with_build_tools(required = FALSE, callr::rcmd(\"INSTALL\", \n .     c(install_path, opts), echo = !quiet, show = !quiet, fail_on_status = TRUE))",
      "3. callr::rcmd(\"INSTALL\", c(install_path, opts), echo = !quiet, \n .     show = !quiet, fail_on_status = TRUE)",
      "4. run_r(options)",
      "5. with(options, with_envvar(env, do.call(processx::run, c(list(bin, \n .     args = real_cmdargs, stdout_line_callback = real_callback(stdout), \n .     stderr_line_callback = real_callback(stderr), stdout_callback = real_block_callback, \n .     stderr_callback = real_block_callback, stderr_to_stdout = stderr_to_stdout, \n .     echo_cmd = echo, echo = show, spinner = spinner, error_on_status = fail_on_status, \n .     timeout = timeout), extra))))",
      "6. with.default(options, with_envvar(env, do.call(processx::run, \n .     c(list(bin, args = real_cmdargs, stdout_line_callback = real_callback(stdout), \n .         stderr_line_callback = real_callback(stderr), stdout_callback = real_block_callback, \n .         stderr_callback = real_block_callback, stderr_to_stdout = stderr_to_stdout, \n .         echo_cmd = echo, echo = show, spinner = spinner, error_on_status = fail_on_status, \n .         timeout = timeout), extra))))",
      "7. eval(substitute(expr), data, enclos = parent.frame())",
      "8. eval(substitute(expr), data, enclos = parent.frame())",
      "9. with_envvar(env, do.call(processx::run, c(list(bin, args = real_cmdargs, \n .     stdout_line_callback = real_callback(stdout), stderr_line_callback = real_callback(stderr), \n .     stdout_callback = real_block_callback, stderr_callback = real_block_callback, \n .     stderr_to_stdout = stderr_to_stdout, echo_cmd = echo, echo = show, \n .     spinner = spinner, error_on_status = fail_on_status, timeout = timeout), \n .     extra)))",
      "10. force(code)",
      "11. do.call(processx::run, c(list(bin, args = real_cmdargs, stdout_line_callback = real_callback(stdout), \n  .     stderr_line_callback = real_callback(stderr), stdout_callback = real_block_callback, \n  .     stderr_callback = real_block_callback, stderr_to_stdout = stderr_to_stdout, \n  .     echo_cmd = echo, echo = show, spinner = spinner, error_on_status = fail_on_status, \n  .     timeout = timeout), extra))",
      "12. (function (command = NULL, args = character(), error_on_status = TRUE, \n  .     wd = NULL, echo_cmd = FALSE, echo = FALSE, spinner = FALSE, \n  .     timeout = Inf, stdout_line_callback = NULL, stdout_callback = NULL, \n  .     stderr_line_callback = NULL, stderr_callback = NULL, stderr_to_stdout = FALSE, \n  .     env = NULL, windows_verbatim_args = FALSE, windows_hide_window = FALSE, \n  .     encoding = \"\", cleanup_tree = FALSE, ...) \n  . {\n  .     assert_that(is_flag(error_on_status))\n  .     assert_that(is_time_interval(timeout))\n  .     assert_that(is_flag(spinner))\n  .     assert_that(is.null(stdout_line_callback) || is.function(stdout_line_callback))\n  .     assert_that(is.null(stderr_line_callback) || is.function(stderr_line_callback))\n  .     assert_that(is.null(stdout_callback) || is.function(stdout_callback))\n  .     assert_that(is.null(stderr_callback) || is.function(stderr_callback))\n  .     assert_that(is_flag(cleanup_tree))\n  .     assert_that(is_flag(stderr_to_stdout))\n  .     \"!DEBUG run() Checked arguments\"\n  .     if (!interactive()) \n  .         spinner <- FALSE\n  .     stderr <- if (stderr_to_stdout) \n  .         \"2>&1\"\n  .     else \"|\"\n  .     pr <- process$new(command, args, echo_cmd = echo_cmd, wd = wd, \n  .         windows_verbatim_args = windows_verbatim_args, windows_hide_window = windows_hide_window, \n  .         stdout = \"|\", stderr = stderr, env = env, encoding = encoding, \n  .         cleanup_tree = cleanup_tree, ...)\n  .     \"#!DEBUG run() Started the process: `pr$get_pid()`\"\n  .     if (cleanup_tree) {\n  .         on.exit(pr$kill_tree(), add = TRUE)\n  .     }\n  .     else {\n  .         on.exit(pr$kill(), add = TRUE)\n  .     }\n  .     if (echo) {\n  .         stdout_callback <- echo_callback(stdout_callback, \"stdout\")\n  .         stderr_callback <- echo_callback(stderr_callback, \"stderr\")\n  .     }\n  .     runcall <- sys.call()\n  .     resenv <- new.env(parent = emptyenv())\n  .     res <- tryCatch(run_manage(pr, timeout, spinner, stdout_line_callback, \n  .         stdout_callback, stderr_line_callback, stderr_callback, \n  .         resenv), interrupt = function(e) {\n  .         \"!DEBUG run() process `pr$get_pid()` killed on interrupt\"\n  .         resenv$stdout <- paste0(resenv$stdout, pr$read_output(), \n  .             pr$read_output())\n  .         resenv$stderr <- paste0(resenv$stderr, pr$read_error(), \n  .             pr$read_error())\n  .         tryCatch(pr$kill(), error = function(e) NULL)\n  .         signalCondition(new_process_interrupt_cond(list(interrupt = TRUE, \n  .             stderr = resenv$stderr, stdout = resenv$stdout, command = command, \n  .             args = args), runcall, echo = echo, stderr_to_stdout = stderr_to_stdout))\n  .         cat(\"\\n\")\n  .         invokeRestart(\"abort\")\n  .     })\n  .     if (error_on_status && (is.na(res$status) || res$status != \n  .         0)) {\n  .         \"!DEBUG run() error on status `res$status` for process `pr$get_pid()`\"\n  .         throw(new_process_error(res, call = sys.call(), echo = echo, \n  .             stderr_to_stdout, res$status, command = command, \n  .             args = args))\n  .     }\n  .     res\n  . })(\"/usr/lib/R/bin/R\", args = c(\"CMD\", \"INSTALL\", \"/tmp/RtmptxhJU4/bioEAT_0.0.0.9000.tar.gz\", \n  . \"--install-tests\", \"\"), stdout_line_callback = function (x, proc) \n  . {\n  .     if (!is.null(stream)) \n  .         cat(x, file = stream, sep = \"\\n\", append = TRUE)\n  . }, stderr_line_callback = function (x, proc) \n  . {\n  .     if (!is.null(stream)) \n  .         cat(x, file = stream, sep = \"\\n\", append = TRUE)\n  . }, stdout_callback = NULL, stderr_callback = NULL, stderr_to_stdout = FALSE, \n  .     echo_cmd = TRUE, echo = TRUE, spinner = FALSE, error_on_status = TRUE, \n  .     timeout = structure(Inf, class = \"difftime\", units = \"secs\"))",
      "13. throw(new_process_error(res, call = sys.call(), echo = echo, \n  .     stderr_to_stdout, res$status, command = command, args = args))"
     ]
    }
   ],
   "source": [
    "devtools::install(\"bioEAT\")\n",
    "library(\"bioEAT\")"
   ]
  },
  {
   "cell_type": "code",
   "execution_count": 190,
   "metadata": {},
   "outputs": [
    {
     "ename": "ERROR",
     "evalue": "Error in heatmap.2(): could not find function \"heatmap.2\"\n",
     "output_type": "error",
     "traceback": [
      "Error in heatmap.2(): could not find function \"heatmap.2\"\nTraceback:\n"
     ]
    }
   ],
   "source": [
    "heatmap.2()"
   ]
  },
  {
   "cell_type": "code",
   "execution_count": 5,
   "metadata": {},
   "outputs": [
    {
     "data": {
      "text/html": [
       "<style>\n",
       ".list-inline {list-style: none; margin:0; padding: 0}\n",
       ".list-inline>li {display: inline-block}\n",
       ".list-inline>li:not(:last-child)::after {content: \"\\00b7\"; padding: 0 .5ex}\n",
       "</style>\n",
       "<ol class=list-inline><li>1</li><li>2</li><li>3</li></ol>\n"
      ],
      "text/latex": [
       "\\begin{enumerate*}\n",
       "\\item 1\n",
       "\\item 2\n",
       "\\item 3\n",
       "\\end{enumerate*}\n"
      ],
      "text/markdown": [
       "1. 1\n",
       "2. 2\n",
       "3. 3\n",
       "\n",
       "\n"
      ],
      "text/plain": [
       "[1] 1 2 3"
      ]
     },
     "metadata": {},
     "output_type": "display_data"
    }
   ],
   "source": [
    "setdiff(1:5,4:7)"
   ]
  },
  {
   "cell_type": "code",
   "execution_count": 6,
   "metadata": {},
   "outputs": [
    {
     "data": {
      "text/html": [
       "'/mnt/c/Users/troshchenkova/Documents/PACKAGE/'"
      ],
      "text/latex": [
       "'/mnt/c/Users/troshchenkova/Documents/PACKAGE/'"
      ],
      "text/markdown": [
       "'/mnt/c/Users/troshchenkova/Documents/PACKAGE/'"
      ],
      "text/plain": [
       "[1] \"/mnt/c/Users/troshchenkova/Documents/PACKAGE/\""
      ]
     },
     "metadata": {},
     "output_type": "display_data"
    }
   ],
   "source": [
    "def_path = \"/mnt/c/Users/troshchenkova/Documents/\"\n",
    "out = paste(def_path, \"PACKAGE/\", sep=\"\")\n",
    "input_path =  paste(def_path, \"DD-20-12/1_expl_an/\", sep=\"\")\n",
    "out\n",
    "#dir.create(out)\n",
    "setwd(out)\n",
    "setwd(paste(def_path,\"/PACKAGE\",sep=\"\"))"
   ]
  },
  {
   "cell_type": "code",
   "execution_count": 24,
   "metadata": {},
   "outputs": [],
   "source": [
    "setwd(paste(def_path,\"/PACKAGE/\",sep=\"\"))"
   ]
  },
  {
   "cell_type": "code",
   "execution_count": 11,
   "metadata": {},
   "outputs": [],
   "source": [
    "xp_data=read.xlsx(paste(input_path,\"mRNA_normalized_CPM.xlsx\",sep=\"\"), rowNames=TRUE)\n",
    "dataNorm_df=xp_data"
   ]
  },
  {
   "cell_type": "code",
   "execution_count": 12,
   "metadata": {},
   "outputs": [
    {
     "name": "stderr",
     "output_type": "stream",
     "text": [
      "New names:\n",
      "* `` -> ...4\n",
      "\n"
     ]
    }
   ],
   "source": [
    "file2 <- read_excel(paste(def_path,\"DD-20-12/0_input/samples_ID.xlsx\", sep=\"\"))\n",
    "file2<-as.data.frame(file2)\n",
    "file2$\"Sample ID\" <- as.character(file2$\"Sample ID\")"
   ]
  },
  {
   "cell_type": "code",
   "execution_count": 13,
   "metadata": {},
   "outputs": [],
   "source": [
    "###############################################\n",
    "#############  COLOR DATAFRAMES  ##############\n",
    "###############################################\n",
    "# Creating a dataframe to assign the sample number to a animal ID, sex, dose according to excel\n",
    "coldf<-NULL\n",
    "\n",
    "for (i in colnames(dataNorm_df)){\n",
    "    r <- which(file2$\"Sample ID\" == i)\n",
    "    animal<-file2[r, 3]\n",
    "    animal <- as.character(animal)\n",
    "    day <- file2[r, 14]\n",
    "    dose <- file2[r, 13]\n",
    "    sex <- file2[r, 4]\n",
    "    rbind(coldf,data.frame(Sample=i,Animal=animal, Sex=sex, Dose=dose, Day=day))->coldf\n",
    "}\n",
    "\n",
    "\n",
    "for (i in 1:ncol(coldf)){\n",
    "    coldf[,i] <- as.factor(as.character(coldf[,i]))\n",
    "}"
   ]
  },
  {
   "cell_type": "code",
   "execution_count": 14,
   "metadata": {},
   "outputs": [],
   "source": [
    "coldf2 <- with(coldf, data.frame(Animal = levels(Animal), color = c(\"green\", \"blue\", \"red\", \"orange\", \"purple\", \"seagreen\"))) \n",
    "coldf3 <- with(coldf, data.frame(Sex = levels(Sex), color = c(\"green\", \"blue\"))) \n",
    "coldf4 <- with(coldf, data.frame(Dose = levels(as.factor(Dose)), color = c(\"green\", \"blue\", \"red\"))) \n",
    "coldf5 <- with(coldf, data.frame(Day = levels(as.factor(Day)), color = c(\"green\", \"blue\", \"red\", \"orange\", \"purple\")))"
   ]
  },
  {
   "cell_type": "code",
   "execution_count": 76,
   "metadata": {},
   "outputs": [
    {
     "data": {
      "image/png": "[encoded data removed]",
      "text/plain": [
       "plot without title"
      ]
     },
     "metadata": {
      "image/png": {
       "height": 420,
       "width": 420
      }
     },
     "output_type": "display_data"
    }
   ],
   "source": [
    "plot_col_hmap(dataNorm_df, coldf2, \"Animal\", coldf, 10)"
   ]
  },
  {
   "cell_type": "code",
   "execution_count": 15,
   "metadata": {},
   "outputs": [
    {
     "ename": "ERROR",
     "evalue": "Error in heatmap.2(): could not find function \"heatmap.2\"\n",
     "output_type": "error",
     "traceback": [
      "Error in heatmap.2(): could not find function \"heatmap.2\"\nTraceback:\n"
     ]
    }
   ],
   "source": [
    "heatmap.2()"
   ]
  },
  {
   "cell_type": "code",
   "execution_count": 33,
   "metadata": {},
   "outputs": [
    {
     "data": {
      "text/html": [
       "<strong>png:</strong> 2"
      ],
      "text/latex": [
       "\\textbf{png:} 2"
      ],
      "text/markdown": [
       "**png:** 2"
      ],
      "text/plain": [
       "png \n",
       "  2 "
      ]
     },
     "metadata": {},
     "output_type": "display_data"
    }
   ],
   "source": [
    "plot_mcd(dataNorm_df, coldf2, \"Animal\", \"total_MDS_CORR\", coldf)"
   ]
  },
  {
   "cell_type": "code",
   "execution_count": 34,
   "metadata": {},
   "outputs": [
    {
     "data": {
      "text/html": [
       "<style>\n",
       ".list-inline {list-style: none; margin:0; padding: 0}\n",
       ".list-inline>li {display: inline-block}\n",
       ".list-inline>li:not(:last-child)::after {content: \"\\00b7\"; padding: 0 .5ex}\n",
       "</style>\n",
       "<ol class=list-inline><li>1</li><li>2</li><li>3</li><li>6</li><li>7</li></ol>\n"
      ],
      "text/latex": [
       "\\begin{enumerate*}\n",
       "\\item 1\n",
       "\\item 2\n",
       "\\item 3\n",
       "\\item 6\n",
       "\\item 7\n",
       "\\end{enumerate*}\n"
      ],
      "text/markdown": [
       "1. 1\n",
       "2. 2\n",
       "3. 3\n",
       "4. 6\n",
       "5. 7\n",
       "\n",
       "\n"
      ],
      "text/plain": [
       "[1] 1 2 3 6 7"
      ]
     },
     "metadata": {},
     "output_type": "display_data"
    }
   ],
   "source": [
    " outersect(1:5, 4:7)"
   ]
  },
  {
   "cell_type": "code",
   "execution_count": 49,
   "metadata": {},
   "outputs": [
    {
     "name": "stderr",
     "output_type": "stream",
     "text": [
      "\n",
      "Attaching package: ‘BiocGenerics’\n",
      "\n",
      "\n",
      "The following objects are masked from ‘package:parallel’:\n",
      "\n",
      "    clusterApply, clusterApplyLB, clusterCall, clusterEvalQ,\n",
      "    clusterExport, clusterMap, parApply, parCapply, parLapply,\n",
      "    parLapplyLB, parRapply, parSapply, parSapplyLB\n",
      "\n",
      "\n",
      "The following objects are masked from ‘package:stats’:\n",
      "\n",
      "    IQR, mad, sd, var, xtabs\n",
      "\n",
      "\n",
      "The following objects are masked from ‘package:base’:\n",
      "\n",
      "    anyDuplicated, append, as.data.frame, basename, cbind, colnames,\n",
      "    dirname, do.call, duplicated, eval, evalq, Filter, Find, get, grep,\n",
      "    grepl, intersect, is.unsorted, lapply, Map, mapply, match, mget,\n",
      "    order, paste, pmax, pmax.int, pmin, pmin.int, Position, rank,\n",
      "    rbind, Reduce, rownames, sapply, setdiff, sort, table, tapply,\n",
      "    union, unique, unsplit, which, which.max, which.min\n",
      "\n",
      "\n",
      "Welcome to Bioconductor\n",
      "\n",
      "    Vignettes contain introductory material; view with\n",
      "    'browseVignettes()'. To cite Bioconductor, see\n",
      "    'citation(\"Biobase\")', and for packages 'citation(\"pkgname\")'.\n",
      "\n",
      "\n",
      "\n",
      "Attaching package: ‘S4Vectors’\n",
      "\n",
      "\n",
      "The following object is masked from ‘package:base’:\n",
      "\n",
      "    expand.grid\n",
      "\n",
      "\n",
      "\n",
      "org.Mmu.eg contains GO mappings based on older data because the\n",
      "  Blast2GO data resource was removed from the public domain just before\n",
      "  the most recent update was produced. We are working on an alternative\n",
      "  means to get this kind of data before the next release.\n",
      "\n",
      "\n"
     ]
    }
   ],
   "source": [
    "library(org.Mmu.eg.db, quietly = TRUE)"
   ]
  },
  {
   "cell_type": "code",
   "execution_count": 77,
   "metadata": {},
   "outputs": [
    {
     "ename": "ERROR",
     "evalue": "Error: Package org.Hsa.eg.db  needed for this function to work. Please install it.\n",
     "output_type": "error",
     "traceback": [
      "Error: Package org.Hsa.eg.db  needed for this function to work. Please install it.\nTraceback:\n",
      "1. conv_ids(rownames(dataNorm_df[1:5, ]), \"ENSEMBL\", c(\"ENTREZID\", \n .     \"GENENAME\"), \"org.Hsa.eg.db\")",
      "2. stop(paste(\"Package\", db, \" needed for this function to work. Please install it.\"), \n .     call. = FALSE)"
     ]
    }
   ],
   "source": [
    "#library(org.Mmu.eg.db, quietly = TRUE) \n",
    "conv_ids(rownames(dataNorm_df[1:5,]), \"ENSEMBL\", c(\"ENTREZID\",\"GENENAME\"),\"org.Hsa.eg.db\")"
   ]
  },
  {
   "cell_type": "code",
   "execution_count": 78,
   "metadata": {},
   "outputs": [
    {
     "data": {
      "text/html": [
       "<style>\n",
       ".list-inline {list-style: none; margin:0; padding: 0}\n",
       ".list-inline>li {display: inline-block}\n",
       ".list-inline>li:not(:last-child)::after {content: \"\\00b7\"; padding: 0 .5ex}\n",
       "</style>\n",
       "<ol class=list-inline><li>'ENSMMUG00000062077'</li><li>'ENSMMUG00000051300'</li><li>'ENSMMUG00000055690'</li></ol>\n"
      ],
      "text/latex": [
       "\\begin{enumerate*}\n",
       "\\item 'ENSMMUG00000062077'\n",
       "\\item 'ENSMMUG00000051300'\n",
       "\\item 'ENSMMUG00000055690'\n",
       "\\end{enumerate*}\n"
      ],
      "text/markdown": [
       "1. 'ENSMMUG00000062077'\n",
       "2. 'ENSMMUG00000051300'\n",
       "3. 'ENSMMUG00000055690'\n",
       "\n",
       "\n"
      ],
      "text/plain": [
       "[1] \"ENSMMUG00000062077\" \"ENSMMUG00000051300\" \"ENSMMUG00000055690\""
      ]
     },
     "metadata": {},
     "output_type": "display_data"
    }
   ],
   "source": [
    "get_main_pca(dataNorm_df, 3)"
   ]
  },
  {
   "cell_type": "code",
   "execution_count": 7,
   "metadata": {},
   "outputs": [],
   "source": [
    "?groupGO_all_groups\n",
    "?conv_ids_mart\n",
    "?logfc_cols"
   ]
  },
  {
   "cell_type": "code",
   "execution_count": 23,
   "metadata": {},
   "outputs": [],
   "source": [
    "?logfc_cols"
   ]
  },
  {
   "cell_type": "code",
   "execution_count": 24,
   "metadata": {},
   "outputs": [
    {
     "data": {
      "text/html": [
       "<table>\n",
       "<caption>A data.frame: 14623 × 3</caption>\n",
       "<thead>\n",
       "\t<tr><th></th><th scope=col>6</th><th scope=col>5</th><th scope=col>log2FC</th></tr>\n",
       "\t<tr><th></th><th scope=col>&lt;dbl&gt;</th><th scope=col>&lt;dbl&gt;</th><th scope=col>&lt;dbl&gt;</th></tr>\n",
       "</thead>\n",
       "<tbody>\n",
       "\t<tr><th scope=row>ENSMMUG00000023412</th><td>465</td><td>465</td><td>0</td></tr>\n",
       "\t<tr><th scope=row>ENSMMUG00000013136</th><td>349</td><td>349</td><td>0</td></tr>\n",
       "\t<tr><th scope=row>ENSMMUG00000010509</th><td>250</td><td>250</td><td>0</td></tr>\n",
       "\t<tr><th scope=row>ENSMMUG00000007450</th><td>322</td><td>322</td><td>0</td></tr>\n",
       "\t<tr><th scope=row>ENSMMUG00000019618</th><td>241</td><td>241</td><td>0</td></tr>\n",
       "\t<tr><th scope=row>ENSMMUG00000011304</th><td>175</td><td>175</td><td>0</td></tr>\n",
       "\t<tr><th scope=row>ENSMMUG00000013746</th><td>189</td><td>189</td><td>0</td></tr>\n",
       "\t<tr><th scope=row>ENSMMUG00000020612</th><td>162</td><td>162</td><td>0</td></tr>\n",
       "\t<tr><th scope=row>ENSMMUG00000013495</th><td>178</td><td>178</td><td>0</td></tr>\n",
       "\t<tr><th scope=row>ENSMMUG00000001050</th><td> 69</td><td> 69</td><td>0</td></tr>\n",
       "\t<tr><th scope=row>ENSMMUG00000021935</th><td>155</td><td>155</td><td>0</td></tr>\n",
       "\t<tr><th scope=row>ENSMMUG00000009279</th><td>168</td><td>168</td><td>0</td></tr>\n",
       "\t<tr><th scope=row>ENSMMUG00000000700</th><td>184</td><td>184</td><td>0</td></tr>\n",
       "\t<tr><th scope=row>ENSMMUG00000016149</th><td>152</td><td>152</td><td>0</td></tr>\n",
       "\t<tr><th scope=row>ENSMMUG00000001960</th><td>137</td><td>137</td><td>0</td></tr>\n",
       "\t<tr><th scope=row>ENSMMUG00000023494</th><td>143</td><td>143</td><td>0</td></tr>\n",
       "\t<tr><th scope=row>ENSMMUG00000020027</th><td>108</td><td>108</td><td>0</td></tr>\n",
       "\t<tr><th scope=row>ENSMMUG00000003956</th><td> 96</td><td> 96</td><td>0</td></tr>\n",
       "\t<tr><th scope=row>ENSMMUG00000003711</th><td>139</td><td>139</td><td>0</td></tr>\n",
       "\t<tr><th scope=row>ENSMMUG00000023321</th><td>115</td><td>115</td><td>0</td></tr>\n",
       "\t<tr><th scope=row>ENSMMUG00000022626</th><td>151</td><td>151</td><td>0</td></tr>\n",
       "\t<tr><th scope=row>ENSMMUG00000011191</th><td> 93</td><td> 93</td><td>0</td></tr>\n",
       "\t<tr><th scope=row>ENSMMUG00000030780</th><td>151</td><td>151</td><td>0</td></tr>\n",
       "\t<tr><th scope=row>ENSMMUG00000015497</th><td> 64</td><td> 64</td><td>0</td></tr>\n",
       "\t<tr><th scope=row>ENSMMUG00000007464</th><td> 97</td><td> 97</td><td>0</td></tr>\n",
       "\t<tr><th scope=row>ENSMMUG00000004690</th><td>109</td><td>109</td><td>0</td></tr>\n",
       "\t<tr><th scope=row>ENSMMUG00000015708</th><td> 86</td><td> 86</td><td>0</td></tr>\n",
       "\t<tr><th scope=row>ENSMMUG00000022079</th><td> 54</td><td> 54</td><td>0</td></tr>\n",
       "\t<tr><th scope=row>ENSMMUG00000006515</th><td> 93</td><td> 93</td><td>0</td></tr>\n",
       "\t<tr><th scope=row>ENSMMUG00000008036</th><td> 84</td><td> 84</td><td>0</td></tr>\n",
       "\t<tr><th scope=row>⋮</th><td>⋮</td><td>⋮</td><td>⋮</td></tr>\n",
       "\t<tr><th scope=row>ENSMMUG00000007757</th><td>  2</td><td> 12</td><td>-2.584963</td></tr>\n",
       "\t<tr><th scope=row>ENSMMUG00000004785</th><td>  1</td><td>  6</td><td>-2.584963</td></tr>\n",
       "\t<tr><th scope=row>ENSMMUG00000015703</th><td>  6</td><td>  1</td><td> 2.584963</td></tr>\n",
       "\t<tr><th scope=row>ENSMMUG00000009625</th><td>  6</td><td>  1</td><td> 2.584963</td></tr>\n",
       "\t<tr><th scope=row>ENSMMUG00000042510</th><td>304</td><td> 44</td><td> 2.788496</td></tr>\n",
       "\t<tr><th scope=row>ENSMMUG00000012564</th><td> 14</td><td>  2</td><td> 2.807355</td></tr>\n",
       "\t<tr><th scope=row>ENSMMUG00000063169</th><td>  2</td><td> 14</td><td>-2.807355</td></tr>\n",
       "\t<tr><th scope=row>ENSMMUG00000017652</th><td> 14</td><td>  2</td><td> 2.807355</td></tr>\n",
       "\t<tr><th scope=row>ENSMMUG00000063093</th><td>  1</td><td>  7</td><td>-2.807355</td></tr>\n",
       "\t<tr><th scope=row>ENSMMUG00000009527</th><td>  7</td><td>  1</td><td> 2.807355</td></tr>\n",
       "\t<tr><th scope=row>ENSMMUG00000056009</th><td>116</td><td> 16</td><td> 2.857981</td></tr>\n",
       "\t<tr><th scope=row>ENSMMUG00000020040</th><td> 31</td><td>  4</td><td> 2.954196</td></tr>\n",
       "\t<tr><th scope=row>ENSMMUG00000023780</th><td>  2</td><td> 16</td><td>-3.000000</td></tr>\n",
       "\t<tr><th scope=row>ENSMMUG00000020157</th><td>  1</td><td>  8</td><td>-3.000000</td></tr>\n",
       "\t<tr><th scope=row>ENSMMUG00000043715</th><td>  1</td><td>  8</td><td>-3.000000</td></tr>\n",
       "\t<tr><th scope=row>ENSMMUG00000005948</th><td>  8</td><td>  1</td><td> 3.000000</td></tr>\n",
       "\t<tr><th scope=row>ENSMMUG00000001409</th><td>  9</td><td>  1</td><td> 3.169925</td></tr>\n",
       "\t<tr><th scope=row>ENSMMUG00000011335</th><td> 38</td><td>  4</td><td> 3.247928</td></tr>\n",
       "\t<tr><th scope=row>ENSMMUG00000004576</th><td> 98</td><td> 10</td><td> 3.292782</td></tr>\n",
       "\t<tr><th scope=row>ENSMMUG00000054889</th><td>  2</td><td> 23</td><td>-3.523562</td></tr>\n",
       "\t<tr><th scope=row>ENSMMUG00000064807</th><td> 36</td><td>  3</td><td> 3.584963</td></tr>\n",
       "\t<tr><th scope=row>ENSMMUG00000001427</th><td>  1</td><td> 12</td><td>-3.584963</td></tr>\n",
       "\t<tr><th scope=row>ENSMMUG00000063637</th><td> 73</td><td>  6</td><td> 3.604862</td></tr>\n",
       "\t<tr><th scope=row>ENSMMUG00000011973</th><td> 74</td><td>  6</td><td> 3.624491</td></tr>\n",
       "\t<tr><th scope=row>ENSMMUG00000002075</th><td> 15</td><td>  1</td><td> 3.906891</td></tr>\n",
       "\t<tr><th scope=row>ENSMMUG00000001905</th><td>  2</td><td> 38</td><td>-4.247928</td></tr>\n",
       "\t<tr><th scope=row>ENSMMUG00000056331</th><td>  5</td><td>110</td><td>-4.459432</td></tr>\n",
       "\t<tr><th scope=row>ENSMMUG00000002435</th><td> 30</td><td>  1</td><td> 4.906891</td></tr>\n",
       "\t<tr><th scope=row>ENSMMUG00000038824</th><td>  1</td><td> 38</td><td>-5.247928</td></tr>\n",
       "\t<tr><th scope=row>ENSMMUG00000050639</th><td>  1</td><td> 46</td><td>-5.523562</td></tr>\n",
       "</tbody>\n",
       "</table>\n"
      ],
      "text/latex": [
       "A data.frame: 14623 × 3\n",
       "\\begin{tabular}{r|lll}\n",
       "  & 6 & 5 & log2FC\\\\\n",
       "  & <dbl> & <dbl> & <dbl>\\\\\n",
       "\\hline\n",
       "\tENSMMUG00000023412 & 465 & 465 & 0\\\\\n",
       "\tENSMMUG00000013136 & 349 & 349 & 0\\\\\n",
       "\tENSMMUG00000010509 & 250 & 250 & 0\\\\\n",
       "\tENSMMUG00000007450 & 322 & 322 & 0\\\\\n",
       "\tENSMMUG00000019618 & 241 & 241 & 0\\\\\n",
       "\tENSMMUG00000011304 & 175 & 175 & 0\\\\\n",
       "\tENSMMUG00000013746 & 189 & 189 & 0\\\\\n",
       "\tENSMMUG00000020612 & 162 & 162 & 0\\\\\n",
       "\tENSMMUG00000013495 & 178 & 178 & 0\\\\\n",
       "\tENSMMUG00000001050 &  69 &  69 & 0\\\\\n",
       "\tENSMMUG00000021935 & 155 & 155 & 0\\\\\n",
       "\tENSMMUG00000009279 & 168 & 168 & 0\\\\\n",
       "\tENSMMUG00000000700 & 184 & 184 & 0\\\\\n",
       "\tENSMMUG00000016149 & 152 & 152 & 0\\\\\n",
       "\tENSMMUG00000001960 & 137 & 137 & 0\\\\\n",
       "\tENSMMUG00000023494 & 143 & 143 & 0\\\\\n",
       "\tENSMMUG00000020027 & 108 & 108 & 0\\\\\n",
       "\tENSMMUG00000003956 &  96 &  96 & 0\\\\\n",
       "\tENSMMUG00000003711 & 139 & 139 & 0\\\\\n",
       "\tENSMMUG00000023321 & 115 & 115 & 0\\\\\n",
       "\tENSMMUG00000022626 & 151 & 151 & 0\\\\\n",
       "\tENSMMUG00000011191 &  93 &  93 & 0\\\\\n",
       "\tENSMMUG00000030780 & 151 & 151 & 0\\\\\n",
       "\tENSMMUG00000015497 &  64 &  64 & 0\\\\\n",
       "\tENSMMUG00000007464 &  97 &  97 & 0\\\\\n",
       "\tENSMMUG00000004690 & 109 & 109 & 0\\\\\n",
       "\tENSMMUG00000015708 &  86 &  86 & 0\\\\\n",
       "\tENSMMUG00000022079 &  54 &  54 & 0\\\\\n",
       "\tENSMMUG00000006515 &  93 &  93 & 0\\\\\n",
       "\tENSMMUG00000008036 &  84 &  84 & 0\\\\\n",
       "\t⋮ & ⋮ & ⋮ & ⋮\\\\\n",
       "\tENSMMUG00000007757 &   2 &  12 & -2.584963\\\\\n",
       "\tENSMMUG00000004785 &   1 &   6 & -2.584963\\\\\n",
       "\tENSMMUG00000015703 &   6 &   1 &  2.584963\\\\\n",
       "\tENSMMUG00000009625 &   6 &   1 &  2.584963\\\\\n",
       "\tENSMMUG00000042510 & 304 &  44 &  2.788496\\\\\n",
       "\tENSMMUG00000012564 &  14 &   2 &  2.807355\\\\\n",
       "\tENSMMUG00000063169 &   2 &  14 & -2.807355\\\\\n",
       "\tENSMMUG00000017652 &  14 &   2 &  2.807355\\\\\n",
       "\tENSMMUG00000063093 &   1 &   7 & -2.807355\\\\\n",
       "\tENSMMUG00000009527 &   7 &   1 &  2.807355\\\\\n",
       "\tENSMMUG00000056009 & 116 &  16 &  2.857981\\\\\n",
       "\tENSMMUG00000020040 &  31 &   4 &  2.954196\\\\\n",
       "\tENSMMUG00000023780 &   2 &  16 & -3.000000\\\\\n",
       "\tENSMMUG00000020157 &   1 &   8 & -3.000000\\\\\n",
       "\tENSMMUG00000043715 &   1 &   8 & -3.000000\\\\\n",
       "\tENSMMUG00000005948 &   8 &   1 &  3.000000\\\\\n",
       "\tENSMMUG00000001409 &   9 &   1 &  3.169925\\\\\n",
       "\tENSMMUG00000011335 &  38 &   4 &  3.247928\\\\\n",
       "\tENSMMUG00000004576 &  98 &  10 &  3.292782\\\\\n",
       "\tENSMMUG00000054889 &   2 &  23 & -3.523562\\\\\n",
       "\tENSMMUG00000064807 &  36 &   3 &  3.584963\\\\\n",
       "\tENSMMUG00000001427 &   1 &  12 & -3.584963\\\\\n",
       "\tENSMMUG00000063637 &  73 &   6 &  3.604862\\\\\n",
       "\tENSMMUG00000011973 &  74 &   6 &  3.624491\\\\\n",
       "\tENSMMUG00000002075 &  15 &   1 &  3.906891\\\\\n",
       "\tENSMMUG00000001905 &   2 &  38 & -4.247928\\\\\n",
       "\tENSMMUG00000056331 &   5 & 110 & -4.459432\\\\\n",
       "\tENSMMUG00000002435 &  30 &   1 &  4.906891\\\\\n",
       "\tENSMMUG00000038824 &   1 &  38 & -5.247928\\\\\n",
       "\tENSMMUG00000050639 &   1 &  46 & -5.523562\\\\\n",
       "\\end{tabular}\n"
      ],
      "text/markdown": [
       "\n",
       "A data.frame: 14623 × 3\n",
       "\n",
       "| <!--/--> | 6 &lt;dbl&gt; | 5 &lt;dbl&gt; | log2FC &lt;dbl&gt; |\n",
       "|---|---|---|---|\n",
       "| ENSMMUG00000023412 | 465 | 465 | 0 |\n",
       "| ENSMMUG00000013136 | 349 | 349 | 0 |\n",
       "| ENSMMUG00000010509 | 250 | 250 | 0 |\n",
       "| ENSMMUG00000007450 | 322 | 322 | 0 |\n",
       "| ENSMMUG00000019618 | 241 | 241 | 0 |\n",
       "| ENSMMUG00000011304 | 175 | 175 | 0 |\n",
       "| ENSMMUG00000013746 | 189 | 189 | 0 |\n",
       "| ENSMMUG00000020612 | 162 | 162 | 0 |\n",
       "| ENSMMUG00000013495 | 178 | 178 | 0 |\n",
       "| ENSMMUG00000001050 |  69 |  69 | 0 |\n",
       "| ENSMMUG00000021935 | 155 | 155 | 0 |\n",
       "| ENSMMUG00000009279 | 168 | 168 | 0 |\n",
       "| ENSMMUG00000000700 | 184 | 184 | 0 |\n",
       "| ENSMMUG00000016149 | 152 | 152 | 0 |\n",
       "| ENSMMUG00000001960 | 137 | 137 | 0 |\n",
       "| ENSMMUG00000023494 | 143 | 143 | 0 |\n",
       "| ENSMMUG00000020027 | 108 | 108 | 0 |\n",
       "| ENSMMUG00000003956 |  96 |  96 | 0 |\n",
       "| ENSMMUG00000003711 | 139 | 139 | 0 |\n",
       "| ENSMMUG00000023321 | 115 | 115 | 0 |\n",
       "| ENSMMUG00000022626 | 151 | 151 | 0 |\n",
       "| ENSMMUG00000011191 |  93 |  93 | 0 |\n",
       "| ENSMMUG00000030780 | 151 | 151 | 0 |\n",
       "| ENSMMUG00000015497 |  64 |  64 | 0 |\n",
       "| ENSMMUG00000007464 |  97 |  97 | 0 |\n",
       "| ENSMMUG00000004690 | 109 | 109 | 0 |\n",
       "| ENSMMUG00000015708 |  86 |  86 | 0 |\n",
       "| ENSMMUG00000022079 |  54 |  54 | 0 |\n",
       "| ENSMMUG00000006515 |  93 |  93 | 0 |\n",
       "| ENSMMUG00000008036 |  84 |  84 | 0 |\n",
       "| ⋮ | ⋮ | ⋮ | ⋮ |\n",
       "| ENSMMUG00000007757 |   2 |  12 | -2.584963 |\n",
       "| ENSMMUG00000004785 |   1 |   6 | -2.584963 |\n",
       "| ENSMMUG00000015703 |   6 |   1 |  2.584963 |\n",
       "| ENSMMUG00000009625 |   6 |   1 |  2.584963 |\n",
       "| ENSMMUG00000042510 | 304 |  44 |  2.788496 |\n",
       "| ENSMMUG00000012564 |  14 |   2 |  2.807355 |\n",
       "| ENSMMUG00000063169 |   2 |  14 | -2.807355 |\n",
       "| ENSMMUG00000017652 |  14 |   2 |  2.807355 |\n",
       "| ENSMMUG00000063093 |   1 |   7 | -2.807355 |\n",
       "| ENSMMUG00000009527 |   7 |   1 |  2.807355 |\n",
       "| ENSMMUG00000056009 | 116 |  16 |  2.857981 |\n",
       "| ENSMMUG00000020040 |  31 |   4 |  2.954196 |\n",
       "| ENSMMUG00000023780 |   2 |  16 | -3.000000 |\n",
       "| ENSMMUG00000020157 |   1 |   8 | -3.000000 |\n",
       "| ENSMMUG00000043715 |   1 |   8 | -3.000000 |\n",
       "| ENSMMUG00000005948 |   8 |   1 |  3.000000 |\n",
       "| ENSMMUG00000001409 |   9 |   1 |  3.169925 |\n",
       "| ENSMMUG00000011335 |  38 |   4 |  3.247928 |\n",
       "| ENSMMUG00000004576 |  98 |  10 |  3.292782 |\n",
       "| ENSMMUG00000054889 |   2 |  23 | -3.523562 |\n",
       "| ENSMMUG00000064807 |  36 |   3 |  3.584963 |\n",
       "| ENSMMUG00000001427 |   1 |  12 | -3.584963 |\n",
       "| ENSMMUG00000063637 |  73 |   6 |  3.604862 |\n",
       "| ENSMMUG00000011973 |  74 |   6 |  3.624491 |\n",
       "| ENSMMUG00000002075 |  15 |   1 |  3.906891 |\n",
       "| ENSMMUG00000001905 |   2 |  38 | -4.247928 |\n",
       "| ENSMMUG00000056331 |   5 | 110 | -4.459432 |\n",
       "| ENSMMUG00000002435 |  30 |   1 |  4.906891 |\n",
       "| ENSMMUG00000038824 |   1 |  38 | -5.247928 |\n",
       "| ENSMMUG00000050639 |   1 |  46 | -5.523562 |\n",
       "\n"
      ],
      "text/plain": [
       "                   6   5   log2FC   \n",
       "ENSMMUG00000023412 465 465 0        \n",
       "ENSMMUG00000013136 349 349 0        \n",
       "ENSMMUG00000010509 250 250 0        \n",
       "ENSMMUG00000007450 322 322 0        \n",
       "ENSMMUG00000019618 241 241 0        \n",
       "ENSMMUG00000011304 175 175 0        \n",
       "ENSMMUG00000013746 189 189 0        \n",
       "ENSMMUG00000020612 162 162 0        \n",
       "ENSMMUG00000013495 178 178 0        \n",
       "ENSMMUG00000001050  69  69 0        \n",
       "ENSMMUG00000021935 155 155 0        \n",
       "ENSMMUG00000009279 168 168 0        \n",
       "ENSMMUG00000000700 184 184 0        \n",
       "ENSMMUG00000016149 152 152 0        \n",
       "ENSMMUG00000001960 137 137 0        \n",
       "ENSMMUG00000023494 143 143 0        \n",
       "ENSMMUG00000020027 108 108 0        \n",
       "ENSMMUG00000003956  96  96 0        \n",
       "ENSMMUG00000003711 139 139 0        \n",
       "ENSMMUG00000023321 115 115 0        \n",
       "ENSMMUG00000022626 151 151 0        \n",
       "ENSMMUG00000011191  93  93 0        \n",
       "ENSMMUG00000030780 151 151 0        \n",
       "ENSMMUG00000015497  64  64 0        \n",
       "ENSMMUG00000007464  97  97 0        \n",
       "ENSMMUG00000004690 109 109 0        \n",
       "ENSMMUG00000015708  86  86 0        \n",
       "ENSMMUG00000022079  54  54 0        \n",
       "ENSMMUG00000006515  93  93 0        \n",
       "ENSMMUG00000008036  84  84 0        \n",
       "⋮                  ⋮   ⋮   ⋮        \n",
       "ENSMMUG00000007757   2  12 -2.584963\n",
       "ENSMMUG00000004785   1   6 -2.584963\n",
       "ENSMMUG00000015703   6   1  2.584963\n",
       "ENSMMUG00000009625   6   1  2.584963\n",
       "ENSMMUG00000042510 304  44  2.788496\n",
       "ENSMMUG00000012564  14   2  2.807355\n",
       "ENSMMUG00000063169   2  14 -2.807355\n",
       "ENSMMUG00000017652  14   2  2.807355\n",
       "ENSMMUG00000063093   1   7 -2.807355\n",
       "ENSMMUG00000009527   7   1  2.807355\n",
       "ENSMMUG00000056009 116  16  2.857981\n",
       "ENSMMUG00000020040  31   4  2.954196\n",
       "ENSMMUG00000023780   2  16 -3.000000\n",
       "ENSMMUG00000020157   1   8 -3.000000\n",
       "ENSMMUG00000043715   1   8 -3.000000\n",
       "ENSMMUG00000005948   8   1  3.000000\n",
       "ENSMMUG00000001409   9   1  3.169925\n",
       "ENSMMUG00000011335  38   4  3.247928\n",
       "ENSMMUG00000004576  98  10  3.292782\n",
       "ENSMMUG00000054889   2  23 -3.523562\n",
       "ENSMMUG00000064807  36   3  3.584963\n",
       "ENSMMUG00000001427   1  12 -3.584963\n",
       "ENSMMUG00000063637  73   6  3.604862\n",
       "ENSMMUG00000011973  74   6  3.624491\n",
       "ENSMMUG00000002075  15   1  3.906891\n",
       "ENSMMUG00000001905   2  38 -4.247928\n",
       "ENSMMUG00000056331   5 110 -4.459432\n",
       "ENSMMUG00000002435  30   1  4.906891\n",
       "ENSMMUG00000038824   1  38 -5.247928\n",
       "ENSMMUG00000050639   1  46 -5.523562"
      ]
     },
     "metadata": {},
     "output_type": "display_data"
    }
   ],
   "source": [
    "logfc_cols(dataNorm_df, \"6\", \"5\")"
   ]
  },
  {
   "cell_type": "code",
   "execution_count": 30,
   "metadata": {},
   "outputs": [],
   "source": [
    "?conv_ids_cp"
   ]
  },
  {
   "cell_type": "code",
   "execution_count": 28,
   "metadata": {},
   "outputs": [
    {
     "ename": "ERROR",
     "evalue": "Error in detach(\"package:dplyr\", unload = TRUE): invalid 'name' argument\n",
     "output_type": "error",
     "traceback": [
      "Error in detach(\"package:dplyr\", unload = TRUE): invalid 'name' argument\nTraceback:\n",
      "1. conv_ids_mart(rownames(dataNorm), mmulatta_gene_ensembl)",
      "2. detach(\"package:dplyr\", unload = TRUE)",
      "3. stop(\"invalid 'name' argument\")"
     ]
    }
   ],
   "source": [
    "conv_ids_mart(rownames(dataNorm), mmulatta_gene_ensembl)"
   ]
  },
  {
   "cell_type": "code",
   "execution_count": 18,
   "metadata": {},
   "outputs": [
    {
     "ename": "ERROR",
     "evalue": "Error in detach(\"package:dplyr\", unload = TRUE): invalid 'name' argument\n",
     "output_type": "error",
     "traceback": [
      "Error in detach(\"package:dplyr\", unload = TRUE): invalid 'name' argument\nTraceback:\n",
      "1. detach(\"package:dplyr\", unload = TRUE)",
      "2. stop(\"invalid 'name' argument\")"
     ]
    }
   ],
   "source": [
    "detach(\"package:dplyr\", unload=TRUE)"
   ]
  },
  {
   "cell_type": "code",
   "execution_count": 29,
   "metadata": {},
   "outputs": [
    {
     "data": {
      "text/html": [
       "<pre class=language-r><code>function (input, mart) \n",
       "{\n",
       "<span style=white-space:pre-wrap>    detach(\"package:dplyr\", unload = TRUE)</span>\n",
       "<span style=white-space:pre-wrap>    ensembl = useMart(\"ensembl\")</span>\n",
       "<span style=white-space:pre-wrap>    ensembl = useDataset(\"mmulatta_gene_ensembl\", mart = ensembl)</span>\n",
       "<span style=white-space:pre-wrap>    go_enr &lt;- select(ensembl, keys = names(gene_enr), keytype = \"ensembl_gene_id\", </span>\n",
       "<span style=white-space:pre-wrap>        columns = c(\"ensembl_gene_id\", \"hgnc_symbol\", \"entrezgene_id\", </span>\n",
       "<span style=white-space:pre-wrap>            \"description\", \"external_gene_name\"))</span>\n",
       "}</code></pre>"
      ],
      "text/latex": [
       "\\begin{minted}{r}\n",
       "function (input, mart) \n",
       "\\{\n",
       "    detach(\"package:dplyr\", unload = TRUE)\n",
       "    ensembl = useMart(\"ensembl\")\n",
       "    ensembl = useDataset(\"mmulatta\\_gene\\_ensembl\", mart = ensembl)\n",
       "    go\\_enr <- select(ensembl, keys = names(gene\\_enr), keytype = \"ensembl\\_gene\\_id\", \n",
       "        columns = c(\"ensembl\\_gene\\_id\", \"hgnc\\_symbol\", \"entrezgene\\_id\", \n",
       "            \"description\", \"external\\_gene\\_name\"))\n",
       "\\}\n",
       "\\end{minted}"
      ],
      "text/markdown": [
       "```r\n",
       "function (input, mart) \n",
       "{\n",
       "    detach(\"package:dplyr\", unload = TRUE)\n",
       "    ensembl = useMart(\"ensembl\")\n",
       "    ensembl = useDataset(\"mmulatta_gene_ensembl\", mart = ensembl)\n",
       "    go_enr <- select(ensembl, keys = names(gene_enr), keytype = \"ensembl_gene_id\", \n",
       "        columns = c(\"ensembl_gene_id\", \"hgnc_symbol\", \"entrezgene_id\", \n",
       "            \"description\", \"external_gene_name\"))\n",
       "}\n",
       "```"
      ],
      "text/plain": [
       "function (input, mart) \n",
       "{\n",
       "    detach(\"package:dplyr\", unload = TRUE)\n",
       "    ensembl = useMart(\"ensembl\")\n",
       "    ensembl = useDataset(\"mmulatta_gene_ensembl\", mart = ensembl)\n",
       "    go_enr <- select(ensembl, keys = names(gene_enr), keytype = \"ensembl_gene_id\", \n",
       "        columns = c(\"ensembl_gene_id\", \"hgnc_symbol\", \"entrezgene_id\", \n",
       "            \"description\", \"external_gene_name\"))\n",
       "}\n",
       "<bytecode: 0x7f576f0cffc8>\n",
       "<environment: namespace:bioEAT>"
      ]
     },
     "metadata": {},
     "output_type": "display_data"
    }
   ],
   "source": [
    "conv_ids_mart"
   ]
  },
  {
   "cell_type": "code",
   "execution_count": 43,
   "metadata": {},
   "outputs": [
    {
     "name": "stderr",
     "output_type": "stream",
     "text": [
      "'select()' returned 1:many mapping between keys and columns\n",
      "\n",
      "Warning message in bitr(myGenes, fromType = from, toType = to, OrgDb = db):\n",
      "“12% of input gene IDs are fail to map...”\n"
     ]
    }
   ],
   "source": [
    "test <- conv_ids_cp(rownames(dataNorm_df[1:100,]), \"ENSEMBL\", c(\"ENTREZID\",\"GENENAME\"), \"org.Mmu.eg.db\")\n"
   ]
  },
  {
   "cell_type": "code",
   "execution_count": 33,
   "metadata": {},
   "outputs": [],
   "source": [
    "?groupGO_all_groups"
   ]
  },
  {
   "cell_type": "code",
   "execution_count": 66,
   "metadata": {},
   "outputs": [],
   "source": [
    "groupGO_all_groups(test$ENTREZID, \"GO_out\", org.Mmu.eg.db)"
   ]
  },
  {
   "cell_type": "code",
   "execution_count": 47,
   "metadata": {},
   "outputs": [
    {
     "name": "stderr",
     "output_type": "stream",
     "text": [
      "clusterProfiler v3.14.3  For help: https://guangchuangyu.github.io/software/clusterProfiler\n",
      "\n",
      "If you use clusterProfiler in published research, please cite:\n",
      "Guangchuang Yu, Li-Gen Wang, Yanyan Han, Qing-Yu He. clusterProfiler: an R package for comparing biological themes among gene clusters. OMICS: A Journal of Integrative Biology. 2012, 16(5):284-287.\n",
      "\n"
     ]
    }
   ],
   "source": [
    "library(\"clusterProfiler\")"
   ]
  },
  {
   "cell_type": "code",
   "execution_count": 51,
   "metadata": {},
   "outputs": [],
   "source": [
    "g <- groupGO(gene = test$ENTREZID, OrgDb = org.Mmu.eg.db, \n",
    "            ont = \"CC\", level = 2, readable = TRUE)"
   ]
  },
  {
   "cell_type": "code",
   "execution_count": 52,
   "metadata": {},
   "outputs": [
    {
     "name": "stderr",
     "output_type": "stream",
     "text": [
      "Warning message in summary(g):\n",
      "“summary method to convert the object to data.frame is deprecated, please use as.data.frame instead.”\n"
     ]
    },
    {
     "data": {
      "text/html": [
       "<table>\n",
       "<caption>A data.frame: 21 × 5</caption>\n",
       "<thead>\n",
       "\t<tr><th></th><th scope=col>ID</th><th scope=col>Description</th><th scope=col>Count</th><th scope=col>GeneRatio</th><th scope=col>geneID</th></tr>\n",
       "\t<tr><th></th><th scope=col>&lt;fct&gt;</th><th scope=col>&lt;fct&gt;</th><th scope=col>&lt;int&gt;</th><th scope=col>&lt;fct&gt;</th><th scope=col>&lt;chr&gt;</th></tr>\n",
       "</thead>\n",
       "<tbody>\n",
       "\t<tr><th scope=row>GO:0016020</th><td>GO:0016020</td><td>membrane                                 </td><td>32</td><td>32/109</td><td>EEF1A1/MAMU-A3/MAMU-A/MAMU-AG/B2M/FLNA/CD74/MYH9/ACTG1/CSF3R/MSN/SORL1/PTPRC/VSIR/TNFRSF1B/ITGAL/LAPTM5/MCL1/FGR/MAMU-DRA/IQGAP1/SUN2/LSP1/LRP1/NOTCH2/RPSA/LOC708140/WDR83OS/ITGA4/GRN/IL2RB/CTSD                                                                                                                          </td></tr>\n",
       "\t<tr><th scope=row>GO:0005576</th><td>GO:0005576</td><td>extracellular region                     </td><td> 5</td><td>5/109 </td><td>B2M/CTSB/SORL1/CTSS/GRN                                                                                                                                                                                                                                                                                                     </td></tr>\n",
       "\t<tr><th scope=row>GO:0005623</th><td>GO:0005623</td><td>cell                                     </td><td>55</td><td>55/109</td><td>EEF1A1/ACTB/MAMU-A3/MAMU-A/B2M/FLNA/CD74/TLN1/MYH9/FTL/TXNIP/TMSB4X/ACTG1/CSF3R/MSN/VIM/CTSB/SORL1/PABPC1/RPL13A/VSIR/RPL3/ITGAL/SOD2/LAPTM5/AKNA/RPLP0/MCL1/FGR/RPL10/MNDA/XPO6/WDR74/MAMU-DRA/IQGAP1/SUN2/CTSS/RPS2/LSP1/LRP1/SEPTIN9/RPS14/RPSA/LOC708140/RPL13/EEF1G/ETS1/RPL18/ITGA4/GRN/ARHGEF1/IL2RB/CTSD/NBEAL2/RPL4</td></tr>\n",
       "\t<tr><th scope=row>GO:0009295</th><td>GO:0009295</td><td>nucleoid                                 </td><td> 0</td><td>0/109 </td><td>                                                                                                                                                                                                                                                                                                                            </td></tr>\n",
       "\t<tr><th scope=row>GO:0019012</th><td>GO:0019012</td><td>virion                                   </td><td> 0</td><td>0/109 </td><td>                                                                                                                                                                                                                                                                                                                            </td></tr>\n",
       "\t<tr><th scope=row>GO:0030054</th><td>GO:0030054</td><td>cell junction                            </td><td> 5</td><td>5/109 </td><td>FLNA/TLN1/MYH9/ACTG1/MSN                                                                                                                                                                                                                                                                                                    </td></tr>\n",
       "\t<tr><th scope=row>GO:0031974</th><td>GO:0031974</td><td>membrane-enclosed lumen                  </td><td>11</td><td>11/109</td><td>EEF1A1/ACTB/FLNA/CTSB/SORL1/RPL3/AKNA/MNDA/WDR74/SUN2/RPS2                                                                                                                                                                                                                                                                  </td></tr>\n",
       "\t<tr><th scope=row>GO:0032991</th><td>GO:0032991</td><td>protein-containing complex               </td><td>29</td><td>29/109</td><td>ACTB/MAMU-A3/MAMU-A/B2M/FLNA/CD74/MYH9/CSF3R/VIM/RPL13A/RPL3/ITGAL/RPLP0/MCL1/RPL10/WDR74/MAMU-DRA/IQGAP1/SUN2/RPS2/LRP1/SEPTIN9/RPS14/RPSA/LOC708140/RPL13/RPL18/ITGA4/RPL4                                                                                                                                                </td></tr>\n",
       "\t<tr><th scope=row>GO:0043226</th><td>GO:0043226</td><td>organelle                                </td><td>42</td><td>42/109</td><td>EEF1A1/ACTB/FLNA/CD74/TLN1/MYH9/TMSB4X/ACTG1/MSN/VIM/CTSB/SORL1/RPL13A/RPL3/SOD2/LAPTM5/AKNA/RPLP0/MCL1/FGR/RPL10/MNDA/XPO6/WDR74/MAMU-DRA/IQGAP1/SUN2/CTSS/RPS2/LRP1/SEPTIN9/RPS14/RPSA/LOC708140/RPL13/EEF1G/ETS1/RPL18/GRN/CTSD/NBEAL2/RPL4                                                                              </td></tr>\n",
       "\t<tr><th scope=row>GO:0044215</th><td>GO:0044215</td><td>other organism                           </td><td> 0</td><td>0/109 </td><td>                                                                                                                                                                                                                                                                                                                            </td></tr>\n",
       "\t<tr><th scope=row>GO:0044217</th><td>GO:0044217</td><td>other organism part                      </td><td> 0</td><td>0/109 </td><td>                                                                                                                                                                                                                                                                                                                            </td></tr>\n",
       "\t<tr><th scope=row>GO:0044421</th><td>GO:0044421</td><td>extracellular region part                </td><td> 4</td><td>4/109 </td><td>CTSB/SORL1/CTSS/GRN                                                                                                                                                                                                                                                                                                         </td></tr>\n",
       "\t<tr><th scope=row>GO:0044422</th><td>GO:0044422</td><td>organelle part                           </td><td>23</td><td>23/109</td><td>EEF1A1/ACTB/FLNA/MYH9/VIM/CTSB/SORL1/RPL13A/RPL3/AKNA/MCL1/MNDA/WDR74/MAMU-DRA/IQGAP1/SUN2/RPS2/SEPTIN9/RPSA/LOC708140/GRN/CTSD/RPL4                                                                                                                                                                                        </td></tr>\n",
       "\t<tr><th scope=row>GO:0044423</th><td>GO:0044423</td><td>virion part                              </td><td> 0</td><td>0/109 </td><td>                                                                                                                                                                                                                                                                                                                            </td></tr>\n",
       "\t<tr><th scope=row>GO:0044425</th><td>GO:0044425</td><td>membrane part                            </td><td>26</td><td>26/109</td><td>EEF1A1/MAMU-A3/MAMU-A/MAMU-AG/B2M/CD74/MYH9/CSF3R/MSN/SORL1/PTPRC/VSIR/TNFRSF1B/ITGAL/LAPTM5/MCL1/FGR/MAMU-DRA/IQGAP1/SUN2/LRP1/NOTCH2/WDR83OS/ITGA4/IL2RB/CTSD                                                                                                                                                             </td></tr>\n",
       "\t<tr><th scope=row>GO:0044456</th><td>GO:0044456</td><td>synapse part                             </td><td> 1</td><td>1/109 </td><td>ACTB                                                                                                                                                                                                                                                                                                                        </td></tr>\n",
       "\t<tr><th scope=row>GO:0044464</th><td>GO:0044464</td><td>cell part                                </td><td>54</td><td>54/109</td><td>EEF1A1/ACTB/MAMU-A3/MAMU-A/B2M/FLNA/CD74/TLN1/MYH9/TXNIP/TMSB4X/ACTG1/CSF3R/MSN/VIM/CTSB/SORL1/PABPC1/RPL13A/VSIR/RPL3/ITGAL/SOD2/LAPTM5/AKNA/RPLP0/MCL1/FGR/RPL10/MNDA/XPO6/WDR74/MAMU-DRA/IQGAP1/SUN2/CTSS/RPS2/LSP1/LRP1/SEPTIN9/RPS14/RPSA/LOC708140/RPL13/EEF1G/ETS1/RPL18/ITGA4/GRN/ARHGEF1/IL2RB/CTSD/NBEAL2/RPL4    </td></tr>\n",
       "\t<tr><th scope=row>GO:0045202</th><td>GO:0045202</td><td>synapse                                  </td><td> 2</td><td>2/109 </td><td>ACTB/MYH9                                                                                                                                                                                                                                                                                                                   </td></tr>\n",
       "\t<tr><th scope=row>GO:0055044</th><td>GO:0055044</td><td>symplast                                 </td><td> 0</td><td>0/109 </td><td>                                                                                                                                                                                                                                                                                                                            </td></tr>\n",
       "\t<tr><th scope=row>GO:0097423</th><td>GO:0097423</td><td>mitochondrion-associated adherens complex</td><td> 0</td><td>0/109 </td><td>                                                                                                                                                                                                                                                                                                                            </td></tr>\n",
       "\t<tr><th scope=row>GO:0099080</th><td>GO:0099080</td><td>supramolecular complex                   </td><td> 4</td><td>4/109 </td><td>VIM/AKNA/IQGAP1/SEPTIN9                                                                                                                                                                                                                                                                                                     </td></tr>\n",
       "</tbody>\n",
       "</table>\n"
      ],
      "text/latex": [
       "A data.frame: 21 × 5\n",
       "\\begin{tabular}{r|lllll}\n",
       "  & ID & Description & Count & GeneRatio & geneID\\\\\n",
       "  & <fct> & <fct> & <int> & <fct> & <chr>\\\\\n",
       "\\hline\n",
       "\tGO:0016020 & GO:0016020 & membrane                                  & 32 & 32/109 & EEF1A1/MAMU-A3/MAMU-A/MAMU-AG/B2M/FLNA/CD74/MYH9/ACTG1/CSF3R/MSN/SORL1/PTPRC/VSIR/TNFRSF1B/ITGAL/LAPTM5/MCL1/FGR/MAMU-DRA/IQGAP1/SUN2/LSP1/LRP1/NOTCH2/RPSA/LOC708140/WDR83OS/ITGA4/GRN/IL2RB/CTSD                                                                                                                          \\\\\n",
       "\tGO:0005576 & GO:0005576 & extracellular region                      &  5 & 5/109  & B2M/CTSB/SORL1/CTSS/GRN                                                                                                                                                                                                                                                                                                     \\\\\n",
       "\tGO:0005623 & GO:0005623 & cell                                      & 55 & 55/109 & EEF1A1/ACTB/MAMU-A3/MAMU-A/B2M/FLNA/CD74/TLN1/MYH9/FTL/TXNIP/TMSB4X/ACTG1/CSF3R/MSN/VIM/CTSB/SORL1/PABPC1/RPL13A/VSIR/RPL3/ITGAL/SOD2/LAPTM5/AKNA/RPLP0/MCL1/FGR/RPL10/MNDA/XPO6/WDR74/MAMU-DRA/IQGAP1/SUN2/CTSS/RPS2/LSP1/LRP1/SEPTIN9/RPS14/RPSA/LOC708140/RPL13/EEF1G/ETS1/RPL18/ITGA4/GRN/ARHGEF1/IL2RB/CTSD/NBEAL2/RPL4\\\\\n",
       "\tGO:0009295 & GO:0009295 & nucleoid                                  &  0 & 0/109  &                                                                                                                                                                                                                                                                                                                             \\\\\n",
       "\tGO:0019012 & GO:0019012 & virion                                    &  0 & 0/109  &                                                                                                                                                                                                                                                                                                                             \\\\\n",
       "\tGO:0030054 & GO:0030054 & cell junction                             &  5 & 5/109  & FLNA/TLN1/MYH9/ACTG1/MSN                                                                                                                                                                                                                                                                                                    \\\\\n",
       "\tGO:0031974 & GO:0031974 & membrane-enclosed lumen                   & 11 & 11/109 & EEF1A1/ACTB/FLNA/CTSB/SORL1/RPL3/AKNA/MNDA/WDR74/SUN2/RPS2                                                                                                                                                                                                                                                                  \\\\\n",
       "\tGO:0032991 & GO:0032991 & protein-containing complex                & 29 & 29/109 & ACTB/MAMU-A3/MAMU-A/B2M/FLNA/CD74/MYH9/CSF3R/VIM/RPL13A/RPL3/ITGAL/RPLP0/MCL1/RPL10/WDR74/MAMU-DRA/IQGAP1/SUN2/RPS2/LRP1/SEPTIN9/RPS14/RPSA/LOC708140/RPL13/RPL18/ITGA4/RPL4                                                                                                                                                \\\\\n",
       "\tGO:0043226 & GO:0043226 & organelle                                 & 42 & 42/109 & EEF1A1/ACTB/FLNA/CD74/TLN1/MYH9/TMSB4X/ACTG1/MSN/VIM/CTSB/SORL1/RPL13A/RPL3/SOD2/LAPTM5/AKNA/RPLP0/MCL1/FGR/RPL10/MNDA/XPO6/WDR74/MAMU-DRA/IQGAP1/SUN2/CTSS/RPS2/LRP1/SEPTIN9/RPS14/RPSA/LOC708140/RPL13/EEF1G/ETS1/RPL18/GRN/CTSD/NBEAL2/RPL4                                                                              \\\\\n",
       "\tGO:0044215 & GO:0044215 & other organism                            &  0 & 0/109  &                                                                                                                                                                                                                                                                                                                             \\\\\n",
       "\tGO:0044217 & GO:0044217 & other organism part                       &  0 & 0/109  &                                                                                                                                                                                                                                                                                                                             \\\\\n",
       "\tGO:0044421 & GO:0044421 & extracellular region part                 &  4 & 4/109  & CTSB/SORL1/CTSS/GRN                                                                                                                                                                                                                                                                                                         \\\\\n",
       "\tGO:0044422 & GO:0044422 & organelle part                            & 23 & 23/109 & EEF1A1/ACTB/FLNA/MYH9/VIM/CTSB/SORL1/RPL13A/RPL3/AKNA/MCL1/MNDA/WDR74/MAMU-DRA/IQGAP1/SUN2/RPS2/SEPTIN9/RPSA/LOC708140/GRN/CTSD/RPL4                                                                                                                                                                                        \\\\\n",
       "\tGO:0044423 & GO:0044423 & virion part                               &  0 & 0/109  &                                                                                                                                                                                                                                                                                                                             \\\\\n",
       "\tGO:0044425 & GO:0044425 & membrane part                             & 26 & 26/109 & EEF1A1/MAMU-A3/MAMU-A/MAMU-AG/B2M/CD74/MYH9/CSF3R/MSN/SORL1/PTPRC/VSIR/TNFRSF1B/ITGAL/LAPTM5/MCL1/FGR/MAMU-DRA/IQGAP1/SUN2/LRP1/NOTCH2/WDR83OS/ITGA4/IL2RB/CTSD                                                                                                                                                             \\\\\n",
       "\tGO:0044456 & GO:0044456 & synapse part                              &  1 & 1/109  & ACTB                                                                                                                                                                                                                                                                                                                        \\\\\n",
       "\tGO:0044464 & GO:0044464 & cell part                                 & 54 & 54/109 & EEF1A1/ACTB/MAMU-A3/MAMU-A/B2M/FLNA/CD74/TLN1/MYH9/TXNIP/TMSB4X/ACTG1/CSF3R/MSN/VIM/CTSB/SORL1/PABPC1/RPL13A/VSIR/RPL3/ITGAL/SOD2/LAPTM5/AKNA/RPLP0/MCL1/FGR/RPL10/MNDA/XPO6/WDR74/MAMU-DRA/IQGAP1/SUN2/CTSS/RPS2/LSP1/LRP1/SEPTIN9/RPS14/RPSA/LOC708140/RPL13/EEF1G/ETS1/RPL18/ITGA4/GRN/ARHGEF1/IL2RB/CTSD/NBEAL2/RPL4    \\\\\n",
       "\tGO:0045202 & GO:0045202 & synapse                                   &  2 & 2/109  & ACTB/MYH9                                                                                                                                                                                                                                                                                                                   \\\\\n",
       "\tGO:0055044 & GO:0055044 & symplast                                  &  0 & 0/109  &                                                                                                                                                                                                                                                                                                                             \\\\\n",
       "\tGO:0097423 & GO:0097423 & mitochondrion-associated adherens complex &  0 & 0/109  &                                                                                                                                                                                                                                                                                                                             \\\\\n",
       "\tGO:0099080 & GO:0099080 & supramolecular complex                    &  4 & 4/109  & VIM/AKNA/IQGAP1/SEPTIN9                                                                                                                                                                                                                                                                                                     \\\\\n",
       "\\end{tabular}\n"
      ],
      "text/markdown": [
       "\n",
       "A data.frame: 21 × 5\n",
       "\n",
       "| <!--/--> | ID &lt;fct&gt; | Description &lt;fct&gt; | Count &lt;int&gt; | GeneRatio &lt;fct&gt; | geneID &lt;chr&gt; |\n",
       "|---|---|---|---|---|---|\n",
       "| GO:0016020 | GO:0016020 | membrane                                  | 32 | 32/109 | EEF1A1/MAMU-A3/MAMU-A/MAMU-AG/B2M/FLNA/CD74/MYH9/ACTG1/CSF3R/MSN/SORL1/PTPRC/VSIR/TNFRSF1B/ITGAL/LAPTM5/MCL1/FGR/MAMU-DRA/IQGAP1/SUN2/LSP1/LRP1/NOTCH2/RPSA/LOC708140/WDR83OS/ITGA4/GRN/IL2RB/CTSD                                                                                                                           |\n",
       "| GO:0005576 | GO:0005576 | extracellular region                      |  5 | 5/109  | B2M/CTSB/SORL1/CTSS/GRN                                                                                                                                                                                                                                                                                                      |\n",
       "| GO:0005623 | GO:0005623 | cell                                      | 55 | 55/109 | EEF1A1/ACTB/MAMU-A3/MAMU-A/B2M/FLNA/CD74/TLN1/MYH9/FTL/TXNIP/TMSB4X/ACTG1/CSF3R/MSN/VIM/CTSB/SORL1/PABPC1/RPL13A/VSIR/RPL3/ITGAL/SOD2/LAPTM5/AKNA/RPLP0/MCL1/FGR/RPL10/MNDA/XPO6/WDR74/MAMU-DRA/IQGAP1/SUN2/CTSS/RPS2/LSP1/LRP1/SEPTIN9/RPS14/RPSA/LOC708140/RPL13/EEF1G/ETS1/RPL18/ITGA4/GRN/ARHGEF1/IL2RB/CTSD/NBEAL2/RPL4 |\n",
       "| GO:0009295 | GO:0009295 | nucleoid                                  |  0 | 0/109  | <!----> |\n",
       "| GO:0019012 | GO:0019012 | virion                                    |  0 | 0/109  | <!----> |\n",
       "| GO:0030054 | GO:0030054 | cell junction                             |  5 | 5/109  | FLNA/TLN1/MYH9/ACTG1/MSN                                                                                                                                                                                                                                                                                                     |\n",
       "| GO:0031974 | GO:0031974 | membrane-enclosed lumen                   | 11 | 11/109 | EEF1A1/ACTB/FLNA/CTSB/SORL1/RPL3/AKNA/MNDA/WDR74/SUN2/RPS2                                                                                                                                                                                                                                                                   |\n",
       "| GO:0032991 | GO:0032991 | protein-containing complex                | 29 | 29/109 | ACTB/MAMU-A3/MAMU-A/B2M/FLNA/CD74/MYH9/CSF3R/VIM/RPL13A/RPL3/ITGAL/RPLP0/MCL1/RPL10/WDR74/MAMU-DRA/IQGAP1/SUN2/RPS2/LRP1/SEPTIN9/RPS14/RPSA/LOC708140/RPL13/RPL18/ITGA4/RPL4                                                                                                                                                 |\n",
       "| GO:0043226 | GO:0043226 | organelle                                 | 42 | 42/109 | EEF1A1/ACTB/FLNA/CD74/TLN1/MYH9/TMSB4X/ACTG1/MSN/VIM/CTSB/SORL1/RPL13A/RPL3/SOD2/LAPTM5/AKNA/RPLP0/MCL1/FGR/RPL10/MNDA/XPO6/WDR74/MAMU-DRA/IQGAP1/SUN2/CTSS/RPS2/LRP1/SEPTIN9/RPS14/RPSA/LOC708140/RPL13/EEF1G/ETS1/RPL18/GRN/CTSD/NBEAL2/RPL4                                                                               |\n",
       "| GO:0044215 | GO:0044215 | other organism                            |  0 | 0/109  | <!----> |\n",
       "| GO:0044217 | GO:0044217 | other organism part                       |  0 | 0/109  | <!----> |\n",
       "| GO:0044421 | GO:0044421 | extracellular region part                 |  4 | 4/109  | CTSB/SORL1/CTSS/GRN                                                                                                                                                                                                                                                                                                          |\n",
       "| GO:0044422 | GO:0044422 | organelle part                            | 23 | 23/109 | EEF1A1/ACTB/FLNA/MYH9/VIM/CTSB/SORL1/RPL13A/RPL3/AKNA/MCL1/MNDA/WDR74/MAMU-DRA/IQGAP1/SUN2/RPS2/SEPTIN9/RPSA/LOC708140/GRN/CTSD/RPL4                                                                                                                                                                                         |\n",
       "| GO:0044423 | GO:0044423 | virion part                               |  0 | 0/109  | <!----> |\n",
       "| GO:0044425 | GO:0044425 | membrane part                             | 26 | 26/109 | EEF1A1/MAMU-A3/MAMU-A/MAMU-AG/B2M/CD74/MYH9/CSF3R/MSN/SORL1/PTPRC/VSIR/TNFRSF1B/ITGAL/LAPTM5/MCL1/FGR/MAMU-DRA/IQGAP1/SUN2/LRP1/NOTCH2/WDR83OS/ITGA4/IL2RB/CTSD                                                                                                                                                              |\n",
       "| GO:0044456 | GO:0044456 | synapse part                              |  1 | 1/109  | ACTB                                                                                                                                                                                                                                                                                                                         |\n",
       "| GO:0044464 | GO:0044464 | cell part                                 | 54 | 54/109 | EEF1A1/ACTB/MAMU-A3/MAMU-A/B2M/FLNA/CD74/TLN1/MYH9/TXNIP/TMSB4X/ACTG1/CSF3R/MSN/VIM/CTSB/SORL1/PABPC1/RPL13A/VSIR/RPL3/ITGAL/SOD2/LAPTM5/AKNA/RPLP0/MCL1/FGR/RPL10/MNDA/XPO6/WDR74/MAMU-DRA/IQGAP1/SUN2/CTSS/RPS2/LSP1/LRP1/SEPTIN9/RPS14/RPSA/LOC708140/RPL13/EEF1G/ETS1/RPL18/ITGA4/GRN/ARHGEF1/IL2RB/CTSD/NBEAL2/RPL4     |\n",
       "| GO:0045202 | GO:0045202 | synapse                                   |  2 | 2/109  | ACTB/MYH9                                                                                                                                                                                                                                                                                                                    |\n",
       "| GO:0055044 | GO:0055044 | symplast                                  |  0 | 0/109  | <!----> |\n",
       "| GO:0097423 | GO:0097423 | mitochondrion-associated adherens complex |  0 | 0/109  | <!----> |\n",
       "| GO:0099080 | GO:0099080 | supramolecular complex                    |  4 | 4/109  | VIM/AKNA/IQGAP1/SEPTIN9                                                                                                                                                                                                                                                                                                      |\n",
       "\n"
      ],
      "text/plain": [
       "           ID         Description                               Count GeneRatio\n",
       "GO:0016020 GO:0016020 membrane                                  32    32/109   \n",
       "GO:0005576 GO:0005576 extracellular region                       5    5/109    \n",
       "GO:0005623 GO:0005623 cell                                      55    55/109   \n",
       "GO:0009295 GO:0009295 nucleoid                                   0    0/109    \n",
       "GO:0019012 GO:0019012 virion                                     0    0/109    \n",
       "GO:0030054 GO:0030054 cell junction                              5    5/109    \n",
       "GO:0031974 GO:0031974 membrane-enclosed lumen                   11    11/109   \n",
       "GO:0032991 GO:0032991 protein-containing complex                29    29/109   \n",
       "GO:0043226 GO:0043226 organelle                                 42    42/109   \n",
       "GO:0044215 GO:0044215 other organism                             0    0/109    \n",
       "GO:0044217 GO:0044217 other organism part                        0    0/109    \n",
       "GO:0044421 GO:0044421 extracellular region part                  4    4/109    \n",
       "GO:0044422 GO:0044422 organelle part                            23    23/109   \n",
       "GO:0044423 GO:0044423 virion part                                0    0/109    \n",
       "GO:0044425 GO:0044425 membrane part                             26    26/109   \n",
       "GO:0044456 GO:0044456 synapse part                               1    1/109    \n",
       "GO:0044464 GO:0044464 cell part                                 54    54/109   \n",
       "GO:0045202 GO:0045202 synapse                                    2    2/109    \n",
       "GO:0055044 GO:0055044 symplast                                   0    0/109    \n",
       "GO:0097423 GO:0097423 mitochondrion-associated adherens complex  0    0/109    \n",
       "GO:0099080 GO:0099080 supramolecular complex                     4    4/109    \n",
       "           geneID                                                                                                                                                                                                                                                                                                                      \n",
       "GO:0016020 EEF1A1/MAMU-A3/MAMU-A/MAMU-AG/B2M/FLNA/CD74/MYH9/ACTG1/CSF3R/MSN/SORL1/PTPRC/VSIR/TNFRSF1B/ITGAL/LAPTM5/MCL1/FGR/MAMU-DRA/IQGAP1/SUN2/LSP1/LRP1/NOTCH2/RPSA/LOC708140/WDR83OS/ITGA4/GRN/IL2RB/CTSD                                                                                                                          \n",
       "GO:0005576 B2M/CTSB/SORL1/CTSS/GRN                                                                                                                                                                                                                                                                                                     \n",
       "GO:0005623 EEF1A1/ACTB/MAMU-A3/MAMU-A/B2M/FLNA/CD74/TLN1/MYH9/FTL/TXNIP/TMSB4X/ACTG1/CSF3R/MSN/VIM/CTSB/SORL1/PABPC1/RPL13A/VSIR/RPL3/ITGAL/SOD2/LAPTM5/AKNA/RPLP0/MCL1/FGR/RPL10/MNDA/XPO6/WDR74/MAMU-DRA/IQGAP1/SUN2/CTSS/RPS2/LSP1/LRP1/SEPTIN9/RPS14/RPSA/LOC708140/RPL13/EEF1G/ETS1/RPL18/ITGA4/GRN/ARHGEF1/IL2RB/CTSD/NBEAL2/RPL4\n",
       "GO:0009295                                                                                                                                                                                                                                                                                                                             \n",
       "GO:0019012                                                                                                                                                                                                                                                                                                                             \n",
       "GO:0030054 FLNA/TLN1/MYH9/ACTG1/MSN                                                                                                                                                                                                                                                                                                    \n",
       "GO:0031974 EEF1A1/ACTB/FLNA/CTSB/SORL1/RPL3/AKNA/MNDA/WDR74/SUN2/RPS2                                                                                                                                                                                                                                                                  \n",
       "GO:0032991 ACTB/MAMU-A3/MAMU-A/B2M/FLNA/CD74/MYH9/CSF3R/VIM/RPL13A/RPL3/ITGAL/RPLP0/MCL1/RPL10/WDR74/MAMU-DRA/IQGAP1/SUN2/RPS2/LRP1/SEPTIN9/RPS14/RPSA/LOC708140/RPL13/RPL18/ITGA4/RPL4                                                                                                                                                \n",
       "GO:0043226 EEF1A1/ACTB/FLNA/CD74/TLN1/MYH9/TMSB4X/ACTG1/MSN/VIM/CTSB/SORL1/RPL13A/RPL3/SOD2/LAPTM5/AKNA/RPLP0/MCL1/FGR/RPL10/MNDA/XPO6/WDR74/MAMU-DRA/IQGAP1/SUN2/CTSS/RPS2/LRP1/SEPTIN9/RPS14/RPSA/LOC708140/RPL13/EEF1G/ETS1/RPL18/GRN/CTSD/NBEAL2/RPL4                                                                              \n",
       "GO:0044215                                                                                                                                                                                                                                                                                                                             \n",
       "GO:0044217                                                                                                                                                                                                                                                                                                                             \n",
       "GO:0044421 CTSB/SORL1/CTSS/GRN                                                                                                                                                                                                                                                                                                         \n",
       "GO:0044422 EEF1A1/ACTB/FLNA/MYH9/VIM/CTSB/SORL1/RPL13A/RPL3/AKNA/MCL1/MNDA/WDR74/MAMU-DRA/IQGAP1/SUN2/RPS2/SEPTIN9/RPSA/LOC708140/GRN/CTSD/RPL4                                                                                                                                                                                        \n",
       "GO:0044423                                                                                                                                                                                                                                                                                                                             \n",
       "GO:0044425 EEF1A1/MAMU-A3/MAMU-A/MAMU-AG/B2M/CD74/MYH9/CSF3R/MSN/SORL1/PTPRC/VSIR/TNFRSF1B/ITGAL/LAPTM5/MCL1/FGR/MAMU-DRA/IQGAP1/SUN2/LRP1/NOTCH2/WDR83OS/ITGA4/IL2RB/CTSD                                                                                                                                                             \n",
       "GO:0044456 ACTB                                                                                                                                                                                                                                                                                                                        \n",
       "GO:0044464 EEF1A1/ACTB/MAMU-A3/MAMU-A/B2M/FLNA/CD74/TLN1/MYH9/TXNIP/TMSB4X/ACTG1/CSF3R/MSN/VIM/CTSB/SORL1/PABPC1/RPL13A/VSIR/RPL3/ITGAL/SOD2/LAPTM5/AKNA/RPLP0/MCL1/FGR/RPL10/MNDA/XPO6/WDR74/MAMU-DRA/IQGAP1/SUN2/CTSS/RPS2/LSP1/LRP1/SEPTIN9/RPS14/RPSA/LOC708140/RPL13/EEF1G/ETS1/RPL18/ITGA4/GRN/ARHGEF1/IL2RB/CTSD/NBEAL2/RPL4    \n",
       "GO:0045202 ACTB/MYH9                                                                                                                                                                                                                                                                                                                   \n",
       "GO:0055044                                                                                                                                                                                                                                                                                                                             \n",
       "GO:0097423                                                                                                                                                                                                                                                                                                                             \n",
       "GO:0099080 VIM/AKNA/IQGAP1/SEPTIN9                                                                                                                                                                                                                                                                                                     "
      ]
     },
     "metadata": {},
     "output_type": "display_data"
    }
   ],
   "source": [
    "summary(g)"
   ]
  },
  {
   "cell_type": "code",
   "execution_count": 53,
   "metadata": {},
   "outputs": [
    {
     "data": {
      "image/png": "[encoded data removed]",
      "text/plain": [
       "plot without title"
      ]
     },
     "metadata": {
      "image/png": {
       "height": 420,
       "width": 420
      }
     },
     "output_type": "display_data"
    }
   ],
   "source": [
    "barplot(g)"
   ]
  },
  {
   "cell_type": "code",
   "execution_count": 57,
   "metadata": {},
   "outputs": [
    {
     "data": {
      "text/html": [
       "<pre class=language-r><code>function (gene_entrezIDs, name, orgDB) \n",
       "{\n",
       "<span style=white-space:pre-wrap>    for (i in c(\"BP\", \"CC\", \"MF\")) {</span>\n",
       "<span style=white-space:pre-wrap>        if (i == \"BP\") {</span>\n",
       "<span style=white-space:pre-wrap>            level &lt;- 2</span>\n",
       "<span style=white-space:pre-wrap>        }</span>\n",
       "<span style=white-space:pre-wrap>        else {</span>\n",
       "<span style=white-space:pre-wrap>            level &lt;- 3</span>\n",
       "<span style=white-space:pre-wrap>        }</span>\n",
       "<span style=white-space:pre-wrap>        ggo2 &lt;- groupGO(gene = gene_entrezIDs, OrgDb = orgDB, </span>\n",
       "<span style=white-space:pre-wrap>            ont = i, level = level, readable = TRUE)</span>\n",
       "<span style=white-space:pre-wrap>        if (missing(name)) {</span>\n",
       "<span style=white-space:pre-wrap>            out_name = \"\"</span>\n",
       "<span style=white-space:pre-wrap>        }</span>\n",
       "<span style=white-space:pre-wrap>        else {</span>\n",
       "<span style=white-space:pre-wrap>            out_name = name</span>\n",
       "<span style=white-space:pre-wrap>        }</span>\n",
       "<span style=white-space:pre-wrap>        write.table(summary(ggo2), paste(name, i, \".xlsx\", sep = \"\"), </span>\n",
       "<span style=white-space:pre-wrap>            row.names = TRUE)</span>\n",
       "<span style=white-space:pre-wrap>        pdf(paste(name, i, \".pdf\", sep = \"\"))</span>\n",
       "<span style=white-space:pre-wrap>        print(barplot(ggo2, main = \"\"))</span>\n",
       "<span style=white-space:pre-wrap>        dev.off()</span>\n",
       "<span style=white-space:pre-wrap>    }</span>\n",
       "}</code></pre>"
      ],
      "text/latex": [
       "\\begin{minted}{r}\n",
       "function (gene\\_entrezIDs, name, orgDB) \n",
       "\\{\n",
       "    for (i in c(\"BP\", \"CC\", \"MF\")) \\{\n",
       "        if (i == \"BP\") \\{\n",
       "            level <- 2\n",
       "        \\}\n",
       "        else \\{\n",
       "            level <- 3\n",
       "        \\}\n",
       "        ggo2 <- groupGO(gene = gene\\_entrezIDs, OrgDb = orgDB, \n",
       "            ont = i, level = level, readable = TRUE)\n",
       "        if (missing(name)) \\{\n",
       "            out\\_name = \"\"\n",
       "        \\}\n",
       "        else \\{\n",
       "            out\\_name = name\n",
       "        \\}\n",
       "        write.table(summary(ggo2), paste(name, i, \".xlsx\", sep = \"\"), \n",
       "            row.names = TRUE)\n",
       "        pdf(paste(name, i, \".pdf\", sep = \"\"))\n",
       "        print(barplot(ggo2, main = \"\"))\n",
       "        dev.off()\n",
       "    \\}\n",
       "\\}\n",
       "\\end{minted}"
      ],
      "text/markdown": [
       "```r\n",
       "function (gene_entrezIDs, name, orgDB) \n",
       "{\n",
       "    for (i in c(\"BP\", \"CC\", \"MF\")) {\n",
       "        if (i == \"BP\") {\n",
       "            level <- 2\n",
       "        }\n",
       "        else {\n",
       "            level <- 3\n",
       "        }\n",
       "        ggo2 <- groupGO(gene = gene_entrezIDs, OrgDb = orgDB, \n",
       "            ont = i, level = level, readable = TRUE)\n",
       "        if (missing(name)) {\n",
       "            out_name = \"\"\n",
       "        }\n",
       "        else {\n",
       "            out_name = name\n",
       "        }\n",
       "        write.table(summary(ggo2), paste(name, i, \".xlsx\", sep = \"\"), \n",
       "            row.names = TRUE)\n",
       "        pdf(paste(name, i, \".pdf\", sep = \"\"))\n",
       "        print(barplot(ggo2, main = \"\"))\n",
       "        dev.off()\n",
       "    }\n",
       "}\n",
       "```"
      ],
      "text/plain": [
       "function (gene_entrezIDs, name, orgDB) \n",
       "{\n",
       "    for (i in c(\"BP\", \"CC\", \"MF\")) {\n",
       "        if (i == \"BP\") {\n",
       "            level <- 2\n",
       "        }\n",
       "        else {\n",
       "            level <- 3\n",
       "        }\n",
       "        ggo2 <- groupGO(gene = gene_entrezIDs, OrgDb = orgDB, \n",
       "            ont = i, level = level, readable = TRUE)\n",
       "        if (missing(name)) {\n",
       "            out_name = \"\"\n",
       "        }\n",
       "        else {\n",
       "            out_name = name\n",
       "        }\n",
       "        write.table(summary(ggo2), paste(name, i, \".xlsx\", sep = \"\"), \n",
       "            row.names = TRUE)\n",
       "        pdf(paste(name, i, \".pdf\", sep = \"\"))\n",
       "        print(barplot(ggo2, main = \"\"))\n",
       "        dev.off()\n",
       "    }\n",
       "}\n",
       "<bytecode: 0x7f576e01e770>\n",
       "<environment: namespace:bioEAT>"
      ]
     },
     "metadata": {},
     "output_type": "display_data"
    }
   ],
   "source": [
    "groupGO_all_groups"
   ]
  },
  {
   "cell_type": "code",
   "execution_count": 41,
   "metadata": {},
   "outputs": [
    {
     "data": {
      "text/html": [
       "<style>\n",
       ".list-inline {list-style: none; margin:0; padding: 0}\n",
       ".list-inline>li {display: inline-block}\n",
       ".list-inline>li:not(:last-child)::after {content: \"\\00b7\"; padding: 0 .5ex}\n",
       "</style>\n",
       "<ol class=list-inline><li>'716010'</li><li>'100425937'</li><li>'718802'</li><li>'574285'</li><li>'699243'</li><li>'711832'</li><li>'100187576'</li><li>'712428'</li><li>'699524'</li><li>'709510'</li><li>'694372'</li><li>'106996627'</li><li>'718073'</li><li>'710820'</li><li>'696298'</li><li>'695017'</li><li>'710577'</li><li>'698477'</li><li>'721806'</li><li>'718964'</li><li>'698683'</li><li>'699517'</li><li>'710959'</li><li>'713687'</li><li>'702155'</li><li>'711798'</li><li>'713485'</li><li>'712934'</li><li>'711712'</li><li>'705289'</li><li>'100424758'</li><li>'710813'</li><li>'713011'</li><li>'703429'</li><li>'100426363'</li><li>'712657'</li><li>'705847'</li><li>'574314'</li><li>'709595'</li><li>'715454'</li><li>'693573'</li><li>'707176'</li><li>'711945'</li><li>'574097'</li><li>'704041'</li><li>'708252'</li><li>'721173'</li><li>'716211'</li><li>'694283'</li><li>'694538'</li><li>'694684'</li></ol>\n"
      ],
      "text/latex": [
       "\\begin{enumerate*}\n",
       "\\item '716010'\n",
       "\\item '100425937'\n",
       "\\item '718802'\n",
       "\\item '574285'\n",
       "\\item '699243'\n",
       "\\item '711832'\n",
       "\\item '100187576'\n",
       "\\item '712428'\n",
       "\\item '699524'\n",
       "\\item '709510'\n",
       "\\item '694372'\n",
       "\\item '106996627'\n",
       "\\item '718073'\n",
       "\\item '710820'\n",
       "\\item '696298'\n",
       "\\item '695017'\n",
       "\\item '710577'\n",
       "\\item '698477'\n",
       "\\item '721806'\n",
       "\\item '718964'\n",
       "\\item '698683'\n",
       "\\item '699517'\n",
       "\\item '710959'\n",
       "\\item '713687'\n",
       "\\item '702155'\n",
       "\\item '711798'\n",
       "\\item '713485'\n",
       "\\item '712934'\n",
       "\\item '711712'\n",
       "\\item '705289'\n",
       "\\item '100424758'\n",
       "\\item '710813'\n",
       "\\item '713011'\n",
       "\\item '703429'\n",
       "\\item '100426363'\n",
       "\\item '712657'\n",
       "\\item '705847'\n",
       "\\item '574314'\n",
       "\\item '709595'\n",
       "\\item '715454'\n",
       "\\item '693573'\n",
       "\\item '707176'\n",
       "\\item '711945'\n",
       "\\item '574097'\n",
       "\\item '704041'\n",
       "\\item '708252'\n",
       "\\item '721173'\n",
       "\\item '716211'\n",
       "\\item '694283'\n",
       "\\item '694538'\n",
       "\\item '694684'\n",
       "\\end{enumerate*}\n"
      ],
      "text/markdown": [
       "1. '716010'\n",
       "2. '100425937'\n",
       "3. '718802'\n",
       "4. '574285'\n",
       "5. '699243'\n",
       "6. '711832'\n",
       "7. '100187576'\n",
       "8. '712428'\n",
       "9. '699524'\n",
       "10. '709510'\n",
       "11. '694372'\n",
       "12. '106996627'\n",
       "13. '718073'\n",
       "14. '710820'\n",
       "15. '696298'\n",
       "16. '695017'\n",
       "17. '710577'\n",
       "18. '698477'\n",
       "19. '721806'\n",
       "20. '718964'\n",
       "21. '698683'\n",
       "22. '699517'\n",
       "23. '710959'\n",
       "24. '713687'\n",
       "25. '702155'\n",
       "26. '711798'\n",
       "27. '713485'\n",
       "28. '712934'\n",
       "29. '711712'\n",
       "30. '705289'\n",
       "31. '100424758'\n",
       "32. '710813'\n",
       "33. '713011'\n",
       "34. '703429'\n",
       "35. '100426363'\n",
       "36. '712657'\n",
       "37. '705847'\n",
       "38. '574314'\n",
       "39. '709595'\n",
       "40. '715454'\n",
       "41. '693573'\n",
       "42. '707176'\n",
       "43. '711945'\n",
       "44. '574097'\n",
       "45. '704041'\n",
       "46. '708252'\n",
       "47. '721173'\n",
       "48. '716211'\n",
       "49. '694283'\n",
       "50. '694538'\n",
       "51. '694684'\n",
       "\n",
       "\n"
      ],
      "text/plain": [
       " [1] \"716010\"    \"100425937\" \"718802\"    \"574285\"    \"699243\"    \"711832\"   \n",
       " [7] \"100187576\" \"712428\"    \"699524\"    \"709510\"    \"694372\"    \"106996627\"\n",
       "[13] \"718073\"    \"710820\"    \"696298\"    \"695017\"    \"710577\"    \"698477\"   \n",
       "[19] \"721806\"    \"718964\"    \"698683\"    \"699517\"    \"710959\"    \"713687\"   \n",
       "[25] \"702155\"    \"711798\"    \"713485\"    \"712934\"    \"711712\"    \"705289\"   \n",
       "[31] \"100424758\" \"710813\"    \"713011\"    \"703429\"    \"100426363\" \"712657\"   \n",
       "[37] \"705847\"    \"574314\"    \"709595\"    \"715454\"    \"693573\"    \"707176\"   \n",
       "[43] \"711945\"    \"574097\"    \"704041\"    \"708252\"    \"721173\"    \"716211\"   \n",
       "[49] \"694283\"    \"694538\"    \"694684\"   "
      ]
     },
     "metadata": {},
     "output_type": "display_data"
    }
   ],
   "source": [
    "test$ENTREZID"
   ]
  },
  {
   "cell_type": "code",
   "execution_count": 42,
   "metadata": {},
   "outputs": [
    {
     "data": {
      "text/html": [
       "<table>\n",
       "<caption>A data.frame: 51 × 3</caption>\n",
       "<thead>\n",
       "\t<tr><th></th><th scope=col>ENSEMBL</th><th scope=col>ENTREZID</th><th scope=col>GENENAME</th></tr>\n",
       "\t<tr><th></th><th scope=col>&lt;chr&gt;</th><th scope=col>&lt;chr&gt;</th><th scope=col>&lt;chr&gt;</th></tr>\n",
       "</thead>\n",
       "<tbody>\n",
       "\t<tr><th scope=row>1</th><td>ENSMMUG00000004852</td><td>716010   </td><td>eukaryotic translation elongation factor 1 alpha 1              </td></tr>\n",
       "\t<tr><th scope=row>2</th><td>ENSMMUG00000004852</td><td>100425937</td><td>elongation factor 1-alpha 1                                     </td></tr>\n",
       "\t<tr><th scope=row>4</th><td>ENSMMUG00000022301</td><td>718802   </td><td>AHNAK nucleoprotein                                             </td></tr>\n",
       "\t<tr><th scope=row>5</th><td>ENSMMUG00000011153</td><td>574285   </td><td>actin beta                                                      </td></tr>\n",
       "\t<tr><th scope=row>6</th><td>ENSMMUG00000056914</td><td>699243   </td><td>major histocompatibility complex, class I, A                    </td></tr>\n",
       "\t<tr><th scope=row>7</th><td>ENSMMUG00000056914</td><td>711832   </td><td>major histocompatibility complex, class I, A                    </td></tr>\n",
       "\t<tr><th scope=row>8</th><td>ENSMMUG00000056914</td><td>100187576</td><td>major histocompatibility complex, class I, AG                   </td></tr>\n",
       "\t<tr><th scope=row>9</th><td>ENSMMUG00000060797</td><td>712428   </td><td>beta-2-microglobulin                                            </td></tr>\n",
       "\t<tr><th scope=row>11</th><td>ENSMMUG00000013668</td><td>699524   </td><td>filamin A                                                       </td></tr>\n",
       "\t<tr><th scope=row>12</th><td>ENSMMUG00000012969</td><td>709510   </td><td>prosaposin                                                      </td></tr>\n",
       "\t<tr><th scope=row>13</th><td>ENSMMUG00000054038</td><td>694372   </td><td>class I histocompatibility antigen, Gogo-B*0103 alpha chain-like</td></tr>\n",
       "\t<tr><th scope=row>14</th><td>ENSMMUG00000054038</td><td>106996627</td><td>HLA class I histocompatibility antigen, B-15 alpha chain-like   </td></tr>\n",
       "\t<tr><th scope=row>17</th><td>ENSMMUG00000005455</td><td>718073   </td><td>ring finger protein 213                                         </td></tr>\n",
       "\t<tr><th scope=row>18</th><td>ENSMMUG00000009113</td><td>710820   </td><td>CD74 molecule                                                   </td></tr>\n",
       "\t<tr><th scope=row>19</th><td>ENSMMUG00000031856</td><td>696298   </td><td>talin 1                                                         </td></tr>\n",
       "\t<tr><th scope=row>20</th><td>ENSMMUG00000006101</td><td>695017   </td><td>myosin heavy chain 9                                            </td></tr>\n",
       "\t<tr><th scope=row>21</th><td>ENSMMUG00000000951</td><td>710577   </td><td>integrin subunit beta 2                                         </td></tr>\n",
       "\t<tr><th scope=row>22</th><td>ENSMMUG00000018858</td><td>698477   </td><td>serine/arginine repetitive matrix 2                             </td></tr>\n",
       "\t<tr><th scope=row>23</th><td>ENSMMUG00000022767</td><td>721806   </td><td>eukaryotic translation elongation factor 2                      </td></tr>\n",
       "\t<tr><th scope=row>24</th><td>ENSMMUG00000003909</td><td>718964   </td><td>ferritin light chain                                            </td></tr>\n",
       "\t<tr><th scope=row>25</th><td>ENSMMUG00000007338</td><td>698683   </td><td>thioredoxin interacting protein                                 </td></tr>\n",
       "\t<tr><th scope=row>26</th><td>ENSMMUG00000000388</td><td>699517   </td><td>plectin                                                         </td></tr>\n",
       "\t<tr><th scope=row>27</th><td>ENSMMUG00000014256</td><td>710959   </td><td>thymosin beta 4 X-linked                                        </td></tr>\n",
       "\t<tr><th scope=row>29</th><td>ENSMMUG00000012054</td><td>713687   </td><td>actin gamma 1                                                   </td></tr>\n",
       "\t<tr><th scope=row>30</th><td>ENSMMUG00000022979</td><td>702155   </td><td>tumor protein, translationally-controlled 1                     </td></tr>\n",
       "\t<tr><th scope=row>31</th><td>ENSMMUG00000022979</td><td>711798   </td><td>translationally-controlled tumor protein                        </td></tr>\n",
       "\t<tr><th scope=row>32</th><td>ENSMMUG00000020434</td><td>713485   </td><td>colony stimulating factor 3 receptor                            </td></tr>\n",
       "\t<tr><th scope=row>33</th><td>ENSMMUG00000002320</td><td>712934   </td><td>ubiquitin C                                                     </td></tr>\n",
       "\t<tr><th scope=row>34</th><td>ENSMMUG00000015653</td><td>711712   </td><td>moesin                                                          </td></tr>\n",
       "\t<tr><th scope=row>35</th><td>ENSMMUG00000003193</td><td>705289   </td><td>vimentin                                                        </td></tr>\n",
       "\t<tr><th scope=row>36</th><td>ENSMMUG00000019212</td><td>100424758</td><td>cathepsin B                                                     </td></tr>\n",
       "\t<tr><th scope=row>37</th><td>ENSMMUG00000007329</td><td>710813   </td><td>coronin 1A                                                      </td></tr>\n",
       "\t<tr><th scope=row>38</th><td>ENSMMUG00000014880</td><td>713011   </td><td>sortilin related receptor 1                                     </td></tr>\n",
       "\t<tr><th scope=row>39</th><td>ENSMMUG00000017033</td><td>703429   </td><td>lymphocyte cytosolic protein 1                                  </td></tr>\n",
       "\t<tr><th scope=row>40</th><td>ENSMMUG00000005722</td><td>100426363</td><td>adhesion G protein-coupled receptor E5                          </td></tr>\n",
       "\t<tr><th scope=row>41</th><td>ENSMMUG00000000009</td><td>712657   </td><td>protein tyrosine phosphatase receptor type C                    </td></tr>\n",
       "\t<tr><th scope=row>43</th><td>ENSMMUG00000017786</td><td>705847   </td><td>poly(A) binding protein cytoplasmic 1                           </td></tr>\n",
       "\t<tr><th scope=row>45</th><td>ENSMMUG00000007551</td><td>574314   </td><td>ribosomal protein L13a                                          </td></tr>\n",
       "\t<tr><th scope=row>46</th><td>ENSMMUG00000012967</td><td>709595   </td><td>V-set immunoregulatory receptor                                 </td></tr>\n",
       "\t<tr><th scope=row>47</th><td>ENSMMUG00000021447</td><td>715454   </td><td>TNF receptor superfamily member 1B                              </td></tr>\n",
       "\t<tr><th scope=row>48</th><td>ENSMMUG00000010029</td><td>693573   </td><td>ribosomal protein L3-like                                       </td></tr>\n",
       "\t<tr><th scope=row>49</th><td>ENSMMUG00000010029</td><td>707176   </td><td>ribosomal protein L3                                            </td></tr>\n",
       "\t<tr><th scope=row>50</th><td>ENSMMUG00000016876</td><td>711945   </td><td>integrin subunit alpha L                                        </td></tr>\n",
       "\t<tr><th scope=row>51</th><td>ENSMMUG00000050418</td><td>574097   </td><td>superoxide dismutase 2                                          </td></tr>\n",
       "\t<tr><th scope=row>52</th><td>ENSMMUG00000008744</td><td>704041   </td><td>lysosomal protein transmembrane 5                               </td></tr>\n",
       "\t<tr><th scope=row>53</th><td>ENSMMUG00000008018</td><td>708252   </td><td>AT-hook transcription factor                                    </td></tr>\n",
       "\t<tr><th scope=row>54</th><td>ENSMMUG00000015301</td><td>721173   </td><td>Rho GTPase activating protein 45                                </td></tr>\n",
       "\t<tr><th scope=row>55</th><td>ENSMMUG00000007859</td><td>716211   </td><td>formin like 1                                                   </td></tr>\n",
       "\t<tr><th scope=row>56</th><td>ENSMMUG00000000662</td><td>694283   </td><td>guanylate binding protein 3                                     </td></tr>\n",
       "\t<tr><th scope=row>57</th><td>ENSMMUG00000000662</td><td>694538   </td><td>guanylate-binding protein 1                                     </td></tr>\n",
       "\t<tr><th scope=row>58</th><td>ENSMMUG00000000662</td><td>694684   </td><td>guanylate-binding protein 2                                     </td></tr>\n",
       "</tbody>\n",
       "</table>\n"
      ],
      "text/latex": [
       "A data.frame: 51 × 3\n",
       "\\begin{tabular}{r|lll}\n",
       "  & ENSEMBL & ENTREZID & GENENAME\\\\\n",
       "  & <chr> & <chr> & <chr>\\\\\n",
       "\\hline\n",
       "\t1 & ENSMMUG00000004852 & 716010    & eukaryotic translation elongation factor 1 alpha 1              \\\\\n",
       "\t2 & ENSMMUG00000004852 & 100425937 & elongation factor 1-alpha 1                                     \\\\\n",
       "\t4 & ENSMMUG00000022301 & 718802    & AHNAK nucleoprotein                                             \\\\\n",
       "\t5 & ENSMMUG00000011153 & 574285    & actin beta                                                      \\\\\n",
       "\t6 & ENSMMUG00000056914 & 699243    & major histocompatibility complex, class I, A                    \\\\\n",
       "\t7 & ENSMMUG00000056914 & 711832    & major histocompatibility complex, class I, A                    \\\\\n",
       "\t8 & ENSMMUG00000056914 & 100187576 & major histocompatibility complex, class I, AG                   \\\\\n",
       "\t9 & ENSMMUG00000060797 & 712428    & beta-2-microglobulin                                            \\\\\n",
       "\t11 & ENSMMUG00000013668 & 699524    & filamin A                                                       \\\\\n",
       "\t12 & ENSMMUG00000012969 & 709510    & prosaposin                                                      \\\\\n",
       "\t13 & ENSMMUG00000054038 & 694372    & class I histocompatibility antigen, Gogo-B*0103 alpha chain-like\\\\\n",
       "\t14 & ENSMMUG00000054038 & 106996627 & HLA class I histocompatibility antigen, B-15 alpha chain-like   \\\\\n",
       "\t17 & ENSMMUG00000005455 & 718073    & ring finger protein 213                                         \\\\\n",
       "\t18 & ENSMMUG00000009113 & 710820    & CD74 molecule                                                   \\\\\n",
       "\t19 & ENSMMUG00000031856 & 696298    & talin 1                                                         \\\\\n",
       "\t20 & ENSMMUG00000006101 & 695017    & myosin heavy chain 9                                            \\\\\n",
       "\t21 & ENSMMUG00000000951 & 710577    & integrin subunit beta 2                                         \\\\\n",
       "\t22 & ENSMMUG00000018858 & 698477    & serine/arginine repetitive matrix 2                             \\\\\n",
       "\t23 & ENSMMUG00000022767 & 721806    & eukaryotic translation elongation factor 2                      \\\\\n",
       "\t24 & ENSMMUG00000003909 & 718964    & ferritin light chain                                            \\\\\n",
       "\t25 & ENSMMUG00000007338 & 698683    & thioredoxin interacting protein                                 \\\\\n",
       "\t26 & ENSMMUG00000000388 & 699517    & plectin                                                         \\\\\n",
       "\t27 & ENSMMUG00000014256 & 710959    & thymosin beta 4 X-linked                                        \\\\\n",
       "\t29 & ENSMMUG00000012054 & 713687    & actin gamma 1                                                   \\\\\n",
       "\t30 & ENSMMUG00000022979 & 702155    & tumor protein, translationally-controlled 1                     \\\\\n",
       "\t31 & ENSMMUG00000022979 & 711798    & translationally-controlled tumor protein                        \\\\\n",
       "\t32 & ENSMMUG00000020434 & 713485    & colony stimulating factor 3 receptor                            \\\\\n",
       "\t33 & ENSMMUG00000002320 & 712934    & ubiquitin C                                                     \\\\\n",
       "\t34 & ENSMMUG00000015653 & 711712    & moesin                                                          \\\\\n",
       "\t35 & ENSMMUG00000003193 & 705289    & vimentin                                                        \\\\\n",
       "\t36 & ENSMMUG00000019212 & 100424758 & cathepsin B                                                     \\\\\n",
       "\t37 & ENSMMUG00000007329 & 710813    & coronin 1A                                                      \\\\\n",
       "\t38 & ENSMMUG00000014880 & 713011    & sortilin related receptor 1                                     \\\\\n",
       "\t39 & ENSMMUG00000017033 & 703429    & lymphocyte cytosolic protein 1                                  \\\\\n",
       "\t40 & ENSMMUG00000005722 & 100426363 & adhesion G protein-coupled receptor E5                          \\\\\n",
       "\t41 & ENSMMUG00000000009 & 712657    & protein tyrosine phosphatase receptor type C                    \\\\\n",
       "\t43 & ENSMMUG00000017786 & 705847    & poly(A) binding protein cytoplasmic 1                           \\\\\n",
       "\t45 & ENSMMUG00000007551 & 574314    & ribosomal protein L13a                                          \\\\\n",
       "\t46 & ENSMMUG00000012967 & 709595    & V-set immunoregulatory receptor                                 \\\\\n",
       "\t47 & ENSMMUG00000021447 & 715454    & TNF receptor superfamily member 1B                              \\\\\n",
       "\t48 & ENSMMUG00000010029 & 693573    & ribosomal protein L3-like                                       \\\\\n",
       "\t49 & ENSMMUG00000010029 & 707176    & ribosomal protein L3                                            \\\\\n",
       "\t50 & ENSMMUG00000016876 & 711945    & integrin subunit alpha L                                        \\\\\n",
       "\t51 & ENSMMUG00000050418 & 574097    & superoxide dismutase 2                                          \\\\\n",
       "\t52 & ENSMMUG00000008744 & 704041    & lysosomal protein transmembrane 5                               \\\\\n",
       "\t53 & ENSMMUG00000008018 & 708252    & AT-hook transcription factor                                    \\\\\n",
       "\t54 & ENSMMUG00000015301 & 721173    & Rho GTPase activating protein 45                                \\\\\n",
       "\t55 & ENSMMUG00000007859 & 716211    & formin like 1                                                   \\\\\n",
       "\t56 & ENSMMUG00000000662 & 694283    & guanylate binding protein 3                                     \\\\\n",
       "\t57 & ENSMMUG00000000662 & 694538    & guanylate-binding protein 1                                     \\\\\n",
       "\t58 & ENSMMUG00000000662 & 694684    & guanylate-binding protein 2                                     \\\\\n",
       "\\end{tabular}\n"
      ],
      "text/markdown": [
       "\n",
       "A data.frame: 51 × 3\n",
       "\n",
       "| <!--/--> | ENSEMBL &lt;chr&gt; | ENTREZID &lt;chr&gt; | GENENAME &lt;chr&gt; |\n",
       "|---|---|---|---|\n",
       "| 1 | ENSMMUG00000004852 | 716010    | eukaryotic translation elongation factor 1 alpha 1               |\n",
       "| 2 | ENSMMUG00000004852 | 100425937 | elongation factor 1-alpha 1                                      |\n",
       "| 4 | ENSMMUG00000022301 | 718802    | AHNAK nucleoprotein                                              |\n",
       "| 5 | ENSMMUG00000011153 | 574285    | actin beta                                                       |\n",
       "| 6 | ENSMMUG00000056914 | 699243    | major histocompatibility complex, class I, A                     |\n",
       "| 7 | ENSMMUG00000056914 | 711832    | major histocompatibility complex, class I, A                     |\n",
       "| 8 | ENSMMUG00000056914 | 100187576 | major histocompatibility complex, class I, AG                    |\n",
       "| 9 | ENSMMUG00000060797 | 712428    | beta-2-microglobulin                                             |\n",
       "| 11 | ENSMMUG00000013668 | 699524    | filamin A                                                        |\n",
       "| 12 | ENSMMUG00000012969 | 709510    | prosaposin                                                       |\n",
       "| 13 | ENSMMUG00000054038 | 694372    | class I histocompatibility antigen, Gogo-B*0103 alpha chain-like |\n",
       "| 14 | ENSMMUG00000054038 | 106996627 | HLA class I histocompatibility antigen, B-15 alpha chain-like    |\n",
       "| 17 | ENSMMUG00000005455 | 718073    | ring finger protein 213                                          |\n",
       "| 18 | ENSMMUG00000009113 | 710820    | CD74 molecule                                                    |\n",
       "| 19 | ENSMMUG00000031856 | 696298    | talin 1                                                          |\n",
       "| 20 | ENSMMUG00000006101 | 695017    | myosin heavy chain 9                                             |\n",
       "| 21 | ENSMMUG00000000951 | 710577    | integrin subunit beta 2                                          |\n",
       "| 22 | ENSMMUG00000018858 | 698477    | serine/arginine repetitive matrix 2                              |\n",
       "| 23 | ENSMMUG00000022767 | 721806    | eukaryotic translation elongation factor 2                       |\n",
       "| 24 | ENSMMUG00000003909 | 718964    | ferritin light chain                                             |\n",
       "| 25 | ENSMMUG00000007338 | 698683    | thioredoxin interacting protein                                  |\n",
       "| 26 | ENSMMUG00000000388 | 699517    | plectin                                                          |\n",
       "| 27 | ENSMMUG00000014256 | 710959    | thymosin beta 4 X-linked                                         |\n",
       "| 29 | ENSMMUG00000012054 | 713687    | actin gamma 1                                                    |\n",
       "| 30 | ENSMMUG00000022979 | 702155    | tumor protein, translationally-controlled 1                      |\n",
       "| 31 | ENSMMUG00000022979 | 711798    | translationally-controlled tumor protein                         |\n",
       "| 32 | ENSMMUG00000020434 | 713485    | colony stimulating factor 3 receptor                             |\n",
       "| 33 | ENSMMUG00000002320 | 712934    | ubiquitin C                                                      |\n",
       "| 34 | ENSMMUG00000015653 | 711712    | moesin                                                           |\n",
       "| 35 | ENSMMUG00000003193 | 705289    | vimentin                                                         |\n",
       "| 36 | ENSMMUG00000019212 | 100424758 | cathepsin B                                                      |\n",
       "| 37 | ENSMMUG00000007329 | 710813    | coronin 1A                                                       |\n",
       "| 38 | ENSMMUG00000014880 | 713011    | sortilin related receptor 1                                      |\n",
       "| 39 | ENSMMUG00000017033 | 703429    | lymphocyte cytosolic protein 1                                   |\n",
       "| 40 | ENSMMUG00000005722 | 100426363 | adhesion G protein-coupled receptor E5                           |\n",
       "| 41 | ENSMMUG00000000009 | 712657    | protein tyrosine phosphatase receptor type C                     |\n",
       "| 43 | ENSMMUG00000017786 | 705847    | poly(A) binding protein cytoplasmic 1                            |\n",
       "| 45 | ENSMMUG00000007551 | 574314    | ribosomal protein L13a                                           |\n",
       "| 46 | ENSMMUG00000012967 | 709595    | V-set immunoregulatory receptor                                  |\n",
       "| 47 | ENSMMUG00000021447 | 715454    | TNF receptor superfamily member 1B                               |\n",
       "| 48 | ENSMMUG00000010029 | 693573    | ribosomal protein L3-like                                        |\n",
       "| 49 | ENSMMUG00000010029 | 707176    | ribosomal protein L3                                             |\n",
       "| 50 | ENSMMUG00000016876 | 711945    | integrin subunit alpha L                                         |\n",
       "| 51 | ENSMMUG00000050418 | 574097    | superoxide dismutase 2                                           |\n",
       "| 52 | ENSMMUG00000008744 | 704041    | lysosomal protein transmembrane 5                                |\n",
       "| 53 | ENSMMUG00000008018 | 708252    | AT-hook transcription factor                                     |\n",
       "| 54 | ENSMMUG00000015301 | 721173    | Rho GTPase activating protein 45                                 |\n",
       "| 55 | ENSMMUG00000007859 | 716211    | formin like 1                                                    |\n",
       "| 56 | ENSMMUG00000000662 | 694283    | guanylate binding protein 3                                      |\n",
       "| 57 | ENSMMUG00000000662 | 694538    | guanylate-binding protein 1                                      |\n",
       "| 58 | ENSMMUG00000000662 | 694684    | guanylate-binding protein 2                                      |\n",
       "\n"
      ],
      "text/plain": [
       "   ENSEMBL            ENTREZID \n",
       "1  ENSMMUG00000004852 716010   \n",
       "2  ENSMMUG00000004852 100425937\n",
       "4  ENSMMUG00000022301 718802   \n",
       "5  ENSMMUG00000011153 574285   \n",
       "6  ENSMMUG00000056914 699243   \n",
       "7  ENSMMUG00000056914 711832   \n",
       "8  ENSMMUG00000056914 100187576\n",
       "9  ENSMMUG00000060797 712428   \n",
       "11 ENSMMUG00000013668 699524   \n",
       "12 ENSMMUG00000012969 709510   \n",
       "13 ENSMMUG00000054038 694372   \n",
       "14 ENSMMUG00000054038 106996627\n",
       "17 ENSMMUG00000005455 718073   \n",
       "18 ENSMMUG00000009113 710820   \n",
       "19 ENSMMUG00000031856 696298   \n",
       "20 ENSMMUG00000006101 695017   \n",
       "21 ENSMMUG00000000951 710577   \n",
       "22 ENSMMUG00000018858 698477   \n",
       "23 ENSMMUG00000022767 721806   \n",
       "24 ENSMMUG00000003909 718964   \n",
       "25 ENSMMUG00000007338 698683   \n",
       "26 ENSMMUG00000000388 699517   \n",
       "27 ENSMMUG00000014256 710959   \n",
       "29 ENSMMUG00000012054 713687   \n",
       "30 ENSMMUG00000022979 702155   \n",
       "31 ENSMMUG00000022979 711798   \n",
       "32 ENSMMUG00000020434 713485   \n",
       "33 ENSMMUG00000002320 712934   \n",
       "34 ENSMMUG00000015653 711712   \n",
       "35 ENSMMUG00000003193 705289   \n",
       "36 ENSMMUG00000019212 100424758\n",
       "37 ENSMMUG00000007329 710813   \n",
       "38 ENSMMUG00000014880 713011   \n",
       "39 ENSMMUG00000017033 703429   \n",
       "40 ENSMMUG00000005722 100426363\n",
       "41 ENSMMUG00000000009 712657   \n",
       "43 ENSMMUG00000017786 705847   \n",
       "45 ENSMMUG00000007551 574314   \n",
       "46 ENSMMUG00000012967 709595   \n",
       "47 ENSMMUG00000021447 715454   \n",
       "48 ENSMMUG00000010029 693573   \n",
       "49 ENSMMUG00000010029 707176   \n",
       "50 ENSMMUG00000016876 711945   \n",
       "51 ENSMMUG00000050418 574097   \n",
       "52 ENSMMUG00000008744 704041   \n",
       "53 ENSMMUG00000008018 708252   \n",
       "54 ENSMMUG00000015301 721173   \n",
       "55 ENSMMUG00000007859 716211   \n",
       "56 ENSMMUG00000000662 694283   \n",
       "57 ENSMMUG00000000662 694538   \n",
       "58 ENSMMUG00000000662 694684   \n",
       "   GENENAME                                                        \n",
       "1  eukaryotic translation elongation factor 1 alpha 1              \n",
       "2  elongation factor 1-alpha 1                                     \n",
       "4  AHNAK nucleoprotein                                             \n",
       "5  actin beta                                                      \n",
       "6  major histocompatibility complex, class I, A                    \n",
       "7  major histocompatibility complex, class I, A                    \n",
       "8  major histocompatibility complex, class I, AG                   \n",
       "9  beta-2-microglobulin                                            \n",
       "11 filamin A                                                       \n",
       "12 prosaposin                                                      \n",
       "13 class I histocompatibility antigen, Gogo-B*0103 alpha chain-like\n",
       "14 HLA class I histocompatibility antigen, B-15 alpha chain-like   \n",
       "17 ring finger protein 213                                         \n",
       "18 CD74 molecule                                                   \n",
       "19 talin 1                                                         \n",
       "20 myosin heavy chain 9                                            \n",
       "21 integrin subunit beta 2                                         \n",
       "22 serine/arginine repetitive matrix 2                             \n",
       "23 eukaryotic translation elongation factor 2                      \n",
       "24 ferritin light chain                                            \n",
       "25 thioredoxin interacting protein                                 \n",
       "26 plectin                                                         \n",
       "27 thymosin beta 4 X-linked                                        \n",
       "29 actin gamma 1                                                   \n",
       "30 tumor protein, translationally-controlled 1                     \n",
       "31 translationally-controlled tumor protein                        \n",
       "32 colony stimulating factor 3 receptor                            \n",
       "33 ubiquitin C                                                     \n",
       "34 moesin                                                          \n",
       "35 vimentin                                                        \n",
       "36 cathepsin B                                                     \n",
       "37 coronin 1A                                                      \n",
       "38 sortilin related receptor 1                                     \n",
       "39 lymphocyte cytosolic protein 1                                  \n",
       "40 adhesion G protein-coupled receptor E5                          \n",
       "41 protein tyrosine phosphatase receptor type C                    \n",
       "43 poly(A) binding protein cytoplasmic 1                           \n",
       "45 ribosomal protein L13a                                          \n",
       "46 V-set immunoregulatory receptor                                 \n",
       "47 TNF receptor superfamily member 1B                              \n",
       "48 ribosomal protein L3-like                                       \n",
       "49 ribosomal protein L3                                            \n",
       "50 integrin subunit alpha L                                        \n",
       "51 superoxide dismutase 2                                          \n",
       "52 lysosomal protein transmembrane 5                               \n",
       "53 AT-hook transcription factor                                    \n",
       "54 Rho GTPase activating protein 45                                \n",
       "55 formin like 1                                                   \n",
       "56 guanylate binding protein 3                                     \n",
       "57 guanylate-binding protein 1                                     \n",
       "58 guanylate-binding protein 2                                     "
      ]
     },
     "metadata": {},
     "output_type": "display_data"
    }
   ],
   "source": [
    "test"
   ]
  },
  {
   "cell_type": "code",
   "execution_count": null,
   "metadata": {},
   "outputs": [],
   "source": []
  },
  {
   "cell_type": "code",
   "execution_count": null,
   "metadata": {},
   "outputs": [],
   "source": []
  },
  {
   "cell_type": "code",
   "execution_count": null,
   "metadata": {},
   "outputs": [],
   "source": [
    "##############################################\n",
    "### FUNCTION FOR TEXTRACTING LEADING GENES ###\n",
    "##############################################\n",
    "\n",
    "get_leading_genes <- function(gseGO_out, from, to){\n",
    "\n",
    "    gseGO_1_leadingGenes <- list()\n",
    "    for (i in as.data.frame(gseGO_out)$core_enrichment){\n",
    "        append(gseGO_1_leadingGenes, strsplit(i, \"/|[^[:print:]]\",fixed=FALSE)) -> gseGO_1_leadingGenes\n",
    "    }\n",
    "    gseGO_1_leadingGenes <- unlist(gseGO_1_leadingGenes)\n",
    "    gseGO_1_leadingGenes <- unique(gseGO_1_leadingGenes)\n",
    "    gseGO_1_leadingGenes_annot <- TRANSLATE_easy_macaca(gseGO_1_leadingGenes,from, to)\n",
    "\n",
    "    gseGO_1_leadingGenes_annot <- gseGO_1_leadingGenes_annot[!duplicated(gseGO_1_leadingGenes_annot$SYMBOL), ]\n",
    "    return(gseGO_1_leadingGenes_annot)\n",
    "\n",
    "}\n",
    "\n",
    "getLeadingGenes(ego32, \"ENTREZID\", c(\"SYMBOL\",\"GENENAME\",\"ENSEMBL\"))"
   ]
  },
  {
   "cell_type": "code",
   "execution_count": null,
   "metadata": {},
   "outputs": [],
   "source": []
  },
  {
   "cell_type": "code",
   "execution_count": null,
   "metadata": {},
   "outputs": [],
   "source": []
  },
  {
   "cell_type": "code",
   "execution_count": null,
   "metadata": {},
   "outputs": [],
   "source": []
  },
  {
   "cell_type": "code",
   "execution_count": null,
   "metadata": {},
   "outputs": [],
   "source": [
    "findByEntrez <- function (input, data){\n",
    "    nanostring_genes <- input\n",
    "    #nanostring_genes <- TRANSLATE_easy(nanostring_genes,\"SYMBOL\", \"ENTREZID\")\n",
    "    hom_nanostring_genes <- cbind(nanostring_genes, getHOMOLOG(nanostring_genes, 9544, homologeneFile))\n",
    "    hom_nanostring_genes\n",
    "    colnames(hom_nanostring_genes) <- c(\"ENTREZID_human\",\"ENTREZID_macaca\")\n",
    "    hom_nanostring_genes <- as.data.frame(hom_nanostring_genes)\n",
    "    head(hom_nanostring_genes)\n",
    "    hom_nanostring_genes$ENTREZID_macaca <- unlist(hom_nanostring_genes$ENTREZID_macaca)\n",
    "    hom_nanostring_genes <- merge(hom_nanostring_genes, TRANSLATE_easy_macaca(unlist(hom_nanostring_genes$ENTREZID_macaca),\"ENTREZID\", \"ENSEMBL\"), by.x=\"ENTREZID_macaca\", by.y=\"ENTREZID\")\n",
    "    #counts <- xp_data[rownames(xp_data) %in% hom_nanostring_genes$ENSEMBL,colnames(xp_data) %in% c(\"1\",\"2\",\"3\",\"4\",\"5\",\"6\")]\n",
    "    counts <- xp_data[rownames(xp_data) %in% hom_nanostring_genes$ENSEMBL,]\n",
    "    hom_nanostring_genes_final <- merge(hom_nanostring_genes, counts,by.x = \"ENSEMBL\", by.y = \"row.names\")\n",
    "    hom_nanostring_genes_final\n",
    "    #outersect(unlist(hom_nanostring_genes_final$SYMBOL_human), unlist(nanostring_genes$SYMBOL))\n",
    "}"
   ]
  },
  {
   "cell_type": "code",
   "execution_count": null,
   "metadata": {},
   "outputs": [],
   "source": [
    "findByEntrez(fgsea_g[,1], xp_data)"
   ]
  },
  {
   "cell_type": "code",
   "execution_count": null,
   "metadata": {},
   "outputs": [],
   "source": [
    "###################### FUNCTION #############################               \n",
    "### PRINT OUT THE HEATMAP OF SAMPLES COLOURED BY FEATURES ###\n",
    "#############################################################\n",
    "\n",
    "getMacacaExp <- function(genes) { \n",
    "    nk_up <- genes\n",
    "    nk_up_df <- bitr(nk_up, fromType = \"SYMBOL\", toType = c(\"ENTREZID\", \"ENSEMBL\"), OrgDb = org.Hs.eg.db)\n",
    "\n",
    "    nk_up_df_macaca <- cbind(nk_up_df$SYMBOL, nk_up_df$ENTREZID, nk_up_df$ENSEMBL, getHOMOLOG(nk_up_df$ENTREZID, 9544, homologeneFile))\n",
    "    nk_up_df_macaca <- as.data.frame(nk_up_df_macaca)\n",
    "    colnames(nk_up_df_macaca) <- c(\"SYMBOL\", \"ENTREZID\", \"ENSEMBL\", \"macaca\")\n",
    "    #nk_up_df_macaca\n",
    "    nk_up_df_macaca_final <- bitr(nk_up_df_macaca$macaca, fromType = \"ENTREZID\", toType = c(\"SYMBOL\", \"ENSEMBL\"), OrgDb = org.Mmu.eg.db)\n",
    "    #nk_up_df_macaca_final\n",
    "    counts <- dataNorm_df[rownames(dataNorm_df) %in% nk_up_df_macaca_final$ENSEMBL,colnames(dataNorm_df) %in% c(\"1\",\"2\",\"3\",\"4\",\"5\",\"6\")]\n",
    "    merge(nk_up_df_macaca_final, counts,by.x = \"ENSEMBL\", by.y = \"row.names\")\n",
    "}"
   ]
  },
  {
   "cell_type": "code",
   "execution_count": null,
   "metadata": {},
   "outputs": [],
   "source": [
    "nk_up <- c('IL10', 'TGFB1', 'CD96', 'TIGIT', 'LIF', 'PDCD1' , 'LAG3', 'KLRC1', 'KLRG1')\n",
    "getMacacaExp(nk_up)"
   ]
  },
  {
   "cell_type": "code",
   "execution_count": null,
   "metadata": {},
   "outputs": [],
   "source": [
    "findBySymbol <- function (input, data){\n",
    "    nanostring_genes <- input\n",
    "    nanostring_genes <- TRANSLATE_easy(nanostring_genes,\"SYMBOL\", \"ENTREZID\")\n",
    "    hom_nanostring_genes <- cbind(nanostring_genes$SYMBOL, nanostring_genes$ENTREZID, getHOMOLOG(nanostring_genes$ENTREZID, 9544, homologeneFile))\n",
    "    colnames(hom_nanostring_genes) <- c(\"SYMBOL_human\", \"ENTREZID_human\",\"ENTREZID_macaca\")\n",
    "    hom_nanostring_genes <- as.data.frame(hom_nanostring_genes)\n",
    "    head(hom_nanostring_genes)\n",
    "    hom_nanostring_genes$ENTREZID_macaca <- unlist(hom_nanostring_genes$ENTREZID_macaca)\n",
    "    hom_nanostring_genes <- merge(hom_nanostring_genes, TRANSLATE_easy_macaca(unlist(hom_nanostring_genes$ENTREZID_macaca),\"ENTREZID\", \"ENSEMBL\"), by.x=\"ENTREZID_macaca\", by.y=\"ENTREZID\")\n",
    "    counts <- xp_data[rownames(xp_data) %in% hom_nanostring_genes$ENSEMBL,colnames(xp_data) %in% c(\"1\",\"2\",\"3\",\"4\",\"5\",\"6\")]\n",
    "    hom_nanostring_genes_final <- merge(hom_nanostring_genes, counts,by.x = \"ENSEMBL\", by.y = \"row.names\")\n",
    "    hom_nanostring_genes_final\n",
    "    #outersect(unlist(hom_nanostring_genes_final$SYMBOL_human), unlist(nanostring_genes$SYMBOL))\n",
    "}\n",
    "    #"
   ]
  },
  {
   "cell_type": "code",
   "execution_count": null,
   "metadata": {},
   "outputs": [],
   "source": [
    "i15 <- findBySymbol(immunosign15, xp_data)"
   ]
  },
  {
   "cell_type": "code",
   "execution_count": null,
   "metadata": {},
   "outputs": [],
   "source": [
    "DESeq_res_annotate <- function(dds_res, cont) {\n",
    "    dds_solo_fem_res <- dds_res\n",
    "    res_.4_3 <- results(dds_solo_fem_res, contrast=cont)\n",
    "    res_.4_3_shr <- lfcShrink(dds_solo_fem_res, contrast=c(\"Day\", \"-4\", \"3\"),  res=res_.4_3, type=\"ashr\")\n",
    "    res_.4_3_final <- as.data.frame(res_.4_3_shr[which(res_.4_3_shr$padj<0.1),])\n",
    "\n",
    "    m1 <- TRANSLATE_easy_macaca(rownames(res_.4_3_final), \"ENSEMBL\", \"ENTREZID\")\n",
    "    hom_genes <- cbind(m1$ENSEMBL, m1$ENTREZID, getHOMOLOG(m1$ENTREZID, 9606, homologeneFile))\n",
    "    colnames(hom_genes) <- c(\"ENSEMBL_m\", \"ENTREZ_m\", \"ENTREZ_h\")\n",
    "    hom_genes <- as.data.frame(hom_genes)\n",
    "    hom_genes$ENTREZ_m <- unlist(hom_genes$ENTREZ_m)\n",
    "    hom_genes$ENSEMBL_m <- unlist(hom_genes$ENSEMBL_m)\n",
    "    hom_genes <- merge(hom_genes, res_.4_3_final, by.x = \"ENSEMBL_m\", by.y = \"row.names\")\n",
    "    hom_genes$ENTREZ_h <- unlist(hom_genes$ENTREZ_h)\n",
    "    m2 <- TRANSLATE_easy(hom_genes$ENTREZ_h, \"ENTREZID\", \"SYMBOL\")\n",
    "    hom_genes_final <- merge(hom_genes, TRANSLATE_easy(hom_genes$ENTREZ_h, \"ENTREZID\", \"SYMBOL\"), by.x = \"ENTREZ_h\", by.y = \"ENTREZID\")\n",
    "    #res_.4_3_final_annot <- hom_genes_final\n",
    "    out_list <- list(\"annotated\" = hom_genes_final, \"shrinked\" = res_.4_3_shr)\n",
    "    return(out_list) \n",
    "}"
   ]
  },
  {
   "cell_type": "code",
   "execution_count": null,
   "metadata": {},
   "outputs": [],
   "source": [
    "res_.4_3 <- DESeq_res_annotate(dds_solo_fem_res, c(\"Day\", \"-4\", \"3\"))"
   ]
  },
  {
   "cell_type": "code",
   "execution_count": null,
   "metadata": {},
   "outputs": [],
   "source": [
    "get_DEG_genes <- function(exp_df, pheno_df){\n",
    " \n",
    "    dds_all_sex_day <- DESeqDataSetFromMatrix(countData = exp_df,\n",
    "                                 colData = pheno_df,\n",
    "                                 design = ~ Sex)\n",
    "\n",
    "    dds_all_sex_day_res <-DESeq(dds_all_sex_day)\n",
    "    all_sex_day_res <- results(dds_all_sex_day_res)\n",
    "    #resultsNames(dds_solo_fem_res)\n",
    "\n",
    "    all_sex_day_res_padj01 <- all_sex_day_res[which(all_sex_day_res$padj<0.1),]\n",
    "    all_sex_day_res_padj01_lfc1 <- all_sex_day_res_padj01[which(abs(all_sex_day_res_padj01$log2FoldChange)>1),]\n",
    "    return(all_sex_day_res_padj01_lfc1)\n",
    "}"
   ]
  },
  {
   "cell_type": "code",
   "execution_count": null,
   "metadata": {},
   "outputs": [],
   "source": [
    " get_DEG_genes(xp_data[,1:6], coldf[1:6,])"
   ]
  },
  {
   "cell_type": "code",
   "execution_count": null,
   "metadata": {},
   "outputs": [],
   "source": [
    "annotate_geneList <- function(geneList){\n",
    "    m1 <- TRANSLATE_easy_macaca(geneList, \"ENSEMBL\", \"ENTREZID\")\n",
    "    hom_genes <- cbind(m1$ENSEMBL, m1$ENTREZID, getHOMOLOG(m1$ENTREZID, 9606, homologeneFile))\n",
    "    colnames(hom_genes) <- c(\"ENSEMBL_m\", \"ENTREZ_m\", \"ENTREZ_h\")\n",
    "    hom_genes <- as.data.frame(hom_genes)\n",
    "    hom_genes$ENTREZ_m <- unlist(hom_genes$ENTREZ_m)\n",
    "    hom_genes$ENSEMBL_m <- unlist(hom_genes$ENSEMBL_m)\n",
    "    #print(hom_genes)\n",
    "    #hom_genes <- merge(hom_genes, inter_total_limited, by.x = \"ENSEMBL_m\")\n",
    "    hom_genes$ENTREZ_h <- unlist(hom_genes$ENTREZ_h)\n",
    "    m2 <- TRANSLATE_easy(hom_genes$ENTREZ_h, \"ENTREZID\", c(\"SYMBOL\",\"GENENAME\"))\n",
    "    hom_genes_final <- merge(hom_genes, TRANSLATE_easy(hom_genes$ENTREZ_h, \"ENTREZID\", c(\"SYMBOL\",\"GENENAME\")), by.x = \"ENTREZ_h\", by.y = \"ENTREZID\")\n",
    "    return(hom_genes_final)\n",
    "}"
   ]
  },
  {
   "cell_type": "code",
   "execution_count": null,
   "metadata": {},
   "outputs": [],
   "source": [
    "annotate_geneList(intersect(rownames(dds_day1_dose_final_14),rownames(dds_day1_dose_final_24)))"
   ]
  },
  {
   "cell_type": "code",
   "execution_count": null,
   "metadata": {},
   "outputs": [],
   "source": [
    "#j=1\n",
    "#TOTAL table with the amount of genes\n",
    "annotate_all_diff <- function(j){total_df = NULL\n",
    "for (i in 2:5){\n",
    "    total_row=NULL\n",
    "\n",
    "    val <- get(paste(\"dds_day1_dose_final_\",j,i,sep=\"\"))\n",
    "    if(nrow(val)<1){\n",
    "        nam <- paste(\"val_out\", i, sep = \"\")\n",
    "        assign(nam, NULL)\n",
    "        next\n",
    "    }\n",
    "    #print(val)\n",
    "    val_ann <- annotate_geneList(rownames(val))\n",
    "    val1 <- merge(val_ann, as.data.frame(val[,c(2,6)]), by.x=\"ENSEMBL_m\",by.y=\"row.names\")\n",
    "    #print(val1)\n",
    "    colnames_to_add <- colnames(val1)\n",
    "    val_ann_macaca <- outersect(val_ann[,\"ENSEMBL_m\"], rownames(val))\n",
    "    #print(val_ann_macaca)    \n",
    "    val_ann_macaca <- TRANSLATE_easy_macaca(val_ann_macaca, \"ENSEMBL\", c(\"ENTREZID\", \"SYMBOL\",\"GENENAME\"))\n",
    "    #print(val_ann_macaca)\n",
    "    val_ann_macaca <- merge(val_ann_macaca, as.data.frame(val[,c(2,6)]), by.x=\"ENSEMBL\",by.y=\"row.names\")\n",
    "    val_ann_macaca <- add_column(val_ann_macaca, d = \"-\", .after = 1)\n",
    "    colnames(val_ann_macaca) <- colnames_to_add \n",
    "    #print(val_ann_macaca)\n",
    "        \n",
    "    val_not_ann <- outersect(val_ann_macaca[,\"ENSEMBL_m\"],  outersect(val_ann[,\"ENSEMBL_m\"], rownames(val)))\n",
    "    #print(val1)\n",
    "    #print(val_ann_macaca)\n",
    "    #print(val_not_ann)\n",
    "    \n",
    "\n",
    "    if(length(val_not_ann)>0) {\n",
    "            #val_not_ann <- as.data.frame(val[val_not_ann,c(2,6)])\n",
    "            val_not_ann <- cbind(val_not_ann, val[val_not_ann,c(2,6)])\n",
    "            colnames(val_not_ann)[1] <- \"ENSEMBL_m\"\n",
    "            #print(val_not_ann)\n",
    "        val_not_ann <- as.data.frame(val_not_ann)\n",
    "            val_out <- dplyr::bind_rows(rbind(val1,val_ann_macaca),val_not_ann)\n",
    "        } else{\n",
    "        val_out <- rbind(val1,val_ann_macaca)\n",
    "    }\n",
    "        \n",
    "        \n",
    "    #if (is.na(val_out[,1])){\n",
    "    #    val_out[,\"ENSEMBL_m\"] <- rownames(val_out)\n",
    "    #}\n",
    "    nam <- paste(\"val_out\", i, sep = \"\")\n",
    "    assign(nam, val_out)\n",
    "    #return(nam)   \n",
    "    #list(\"integer\" = foo, \"names\" = bar)        \n",
    "\n",
    "    }\n",
    "    list_out <- list(\"3\" = val_out2, \"5\" = val_out3, \"9\" = val_out4, \"16\" = val_out5)\n",
    "    return(list_out)\n",
    "}"
   ]
  },
  {
   "cell_type": "code",
   "execution_count": null,
   "metadata": {},
   "outputs": [],
   "source": [
    "prepareForPathwayAndGO <- function(df){\n",
    "    ############################################################\n",
    "    ### DF MADE OF dataFrame26_64_clean_lfc1: IDs AND log2FC ###\n",
    "    ############################################################\n",
    "\n",
    "    gene_enr_list <- list()\n",
    "    gene_enr_list$ID <- rownames(df)\n",
    "    gene_enr_list$FC <- df$log2FoldChange\n",
    "    gene_enr_list <- as.data.frame(gene_enr_list)\n",
    "    gene_enr_list$ID <- as.character(gene_enr_list$ID)\n",
    "    #head(gene_enr_list)\n",
    "    \n",
    "    # sorting out by the absolute value of log2FC\n",
    "    gene_enr_list <- gene_enr_list[order( -abs(gene_enr_list[,2])), ]\n",
    "    \n",
    "    ##############################################################\n",
    "    ### LIST MADE OF dataFrame26_64_clean_lfc1: IDs AND log2FC ###\n",
    "    ##############################################################\n",
    "\n",
    "    ## feature 1: numeric vector\n",
    "    gene_enr <- gene_enr_list[,2]\n",
    "    ## feature 2: named vector\n",
    "    names(gene_enr) <- as.character(gene_enr_list[,1])\n",
    "    ## feature 3: decreasing order\n",
    "    gene_enr <- sort(gene_enr, decreasing = TRUE)\n",
    "    #gene_enr\n",
    "    \n",
    "    \n",
    "    ############################################################\n",
    "    ### GET SYMBOLS(SYMBOL) AND BRIEF DESCRIPTION (GENENAME) ###\n",
    "    ############################################################\n",
    "\n",
    "    ### In case error for select appears ###\n",
    "    #detach(\"package:dplyr\", unload=TRUE)\n",
    "    cols <- c(\"SYMBOL\", \"GENENAME\")\n",
    "    go_enr1 <- select(org.Mmu.eg.db, keys=names(gene_enr), columns=cols, keytype=\"ENSEMBL\")\n",
    "    \n",
    "    \n",
    "    #################################################################################################\n",
    "    ### SETTING UP MART TO USE FOR GENE ONTOLOGY (compare with the result of the previous block)  ###\n",
    "    #################################################################################################\n",
    "    ensembl=useMart(\"ensembl\")\n",
    "    ensembl = useDataset(\"mmulatta_gene_ensembl\",mart=ensembl)\n",
    "    #searchAttributes(mart=ensembl, pattern = 'mmu')\n",
    "\n",
    "    ###############################################################\n",
    "    ### GET MORE INFO ABOUT ID AND COMPARE WITH THE ABOVE BLOCK ###\n",
    "    ###############################################################\n",
    "\n",
    "    ### In case error for select appears ###\n",
    "    #detach(\"package:dplyr\", unload=TRUE)\n",
    "\n",
    "    go_enr <- select(\n",
    "        ensembl,\n",
    "        keys = names(gene_enr),\n",
    "        keytype = \"ensembl_gene_id\",\n",
    "        columns =  c(\"ensembl_gene_id\",\n",
    "            \"refseq_mrna\", \"hgnc_symbol\",\n",
    "            \"ensembl_transcript_id\",\n",
    "            \"chromosome_name\", \"entrezgene_id\",\n",
    "            \"transcript_start\", \"transcript_end\", \"strand\", \"description\",\"external_gene_name\"\n",
    "        )\n",
    "    )\n",
    "\n",
    "    ######################################################################################################################\n",
    "    ### GET UNIQUE RESULTS ONLY (1 RESULT PER ID): check if those have IDs, might choose the first, not the full line  ###\n",
    "    ######################################################################################################################\n",
    "\n",
    "    #length(go_enr$ensembl_gene_id)\n",
    "    go_enr_final <- go_enr[!duplicated(go_enr$external_gene_name),]\n",
    "    go_enr_final$log2FC = dose140_day9_df$log2FoldChange[match(go_enr_final$ensembl_gene_id, rownames(dose140_day9_df))]\n",
    "    #write.xlsx(go_enr_final, paste(out,\"dataFrame62_64_clean_lfc1_annot.xlsx\",sep=\"\"), row.names = TRUE)\n",
    "\n",
    "    ############################################################\n",
    "    ### GET ENTREZID AND SYMBOL (gene code)  FROM ENSEMBL    ###\n",
    "    ############################################################\n",
    "\n",
    "    gene.df2 <- bitr(names(gene_enr), fromType = \"ENSEMBL\",\n",
    "            toType = c(\"ENTREZID\", \"SYMBOL\"),\n",
    "            OrgDb = org.Mmu.eg.db)\n",
    "\n",
    "    ############################\n",
    "    ### LIST OF ENTREZ IDs   ###\n",
    "    ############################\n",
    "    ggo_ids2 <- gene.df2$ENTREZID\n",
    "\n",
    "    \n",
    "    ###############################################\n",
    "    ### DATAFRAME WITH ENTREZ IDs AND log2FC    ###\n",
    "    ###############################################\n",
    "\n",
    "    gl_ego32 <- list()\n",
    "    gl_ego32$ID <- ggo_ids2\n",
    "    gl_ego32$FC <- gene_enr_list$FC[match(gene.df2$ENSEMBL, gene_enr_list$ID)]\n",
    "    gl_ego32 <- as.data.frame(gl_ego32)\n",
    "\n",
    "\n",
    "    gene_df = gl_ego32 %>% dplyr::mutate(rank = rank(FC,  ties.method = \"random\"))\n",
    "    geneList2 = gene_df[,2]\n",
    "    names(geneList2) = as.character(gene_df[,1])\n",
    "    geneList2 <- sort(geneList2, decreasing = TRUE)\n",
    "    \n",
    "    out_list <- list(\"ggo_ids2\" = ggo_ids2, \"geneList2\" = geneList2)\n",
    "    return(out_list)\n",
    "    \n",
    "}"
   ]
  },
  {
   "cell_type": "code",
   "execution_count": null,
   "metadata": {},
   "outputs": [],
   "source": []
  },
  {
   "cell_type": "code",
   "execution_count": null,
   "metadata": {},
   "outputs": [],
   "source": [
    "fgsea_and_LG <- function(df){\n",
    "    \n",
    "    myGenes.df <- as.data.frame(df$geneList2)\n",
    "\n",
    "    myGenes <- rownames(myGenes.df)\n",
    "    #getHOMOLOG(myGenes, 9606, homologeneFile)\n",
    "    hum_hom <- cbind(myGenes, getHOMOLOG(myGenes, 9606, homologeneFile))\n",
    "    colnames(hum_hom) <- c(\"Macaca\", \"Human\")\n",
    "    hum_hom <- as.data.frame(hum_hom)\n",
    "    lof2FC <- myGenes.df$myGenes.df[match(hum_hom$Macaca,  rownames(myGenes.df))]\n",
    "    hum_hom <- cbind(hum_hom, myGenes.df[match(hum_hom$Macaca,  rownames(myGenes.df)),1])\n",
    "    colnames(hum_hom) <- c(\"Macaca\", \"Human\", \"log2FC\")\n",
    "    hum_hom$Macaca <- as.character(hum_hom$Macaca)\n",
    "    hum_hom$Human <- as.integer(hum_hom$Human)\n",
    "    hum_hom_clean <- hum_hom[,2:3]\n",
    "\n",
    "    hum_hom_clean <- hum_hom_clean[complete.cases(hum_hom_clean),]\n",
    "    hum_hom_clean <- hum_hom_clean[order(hum_hom_clean$log2FC),]\n",
    "    hum_hom_clean <- as.data.frame(hum_hom_clean)\n",
    "    hum_hom_clean$Human <- as.character(hum_hom_clean$Human)\n",
    "    hum_hom_clean$log2FC <- as.numeric(hum_hom_clean$log2FC)\n",
    "    hum_hom_clean <- hum_hom_clean[complete.cases(hum_hom_clean),]\n",
    "\n",
    "    #FOR ORT HUMAN GSEA\n",
    "\n",
    "    #gene symbols in the first column (ID), FC (decreasing)should be in the second column (t).\n",
    "    #hum_hom_clean <- colClasses(c(\"character\", \"numeric\"))\n",
    "    ranks<- hum_hom_clean\n",
    "    ranks <- setNames(ranks$log2FC, ranks$Human)\n",
    "\n",
    "    # pathways INFO https://cran.r-project.org/web/packages/msigdbr/vignettes/msigdbr-intro.html\n",
    "    m_df = msigdbr(species = \"Homo sapiens\")\n",
    "    m_df = m_df %>% dplyr::select(gs_name, entrez_gene) %>% as.data.frame()\n",
    "    m_list = m_df %>% split(x = .$entrez_gene, f = .$gs_name)\n",
    "    fgseaRes <- fgsea(pathways=m_list, ranks, minSize=15, maxSize=500, nperm=10000)\n",
    "    fgsea <- fgseaRes[which(padj<0.2), ]\n",
    "\n",
    "\n",
    "    fgsea_le <-c()\n",
    "\n",
    "    for (val in fgsea$leadingEdge) {\n",
    "        for (v in val){\n",
    "            fgsea_le <- c(fgsea_le, v)\n",
    "        } \n",
    "    }\n",
    "\n",
    "    fgsea_h <- TRANSLATE_easy(fgsea_le,\"ENTREZID\",\"SYMBOL\")\n",
    "    fgsea_ledGenes <- TRANSLATE_easy_macaca(fgsea_h$SYMBOL, \n",
    "                                                     \"SYMBOL\",c(\"ENTREZID\",\"ENSEMBL\",\"GENENAME\"))\n",
    "        \n",
    "    fgsea_ledGenes_ENTREZ_h <- merge(fgsea_h,fgsea_ledGenes, by.x  = \"SYMBOL\", by.y=\"SYMBOL\")\n",
    "    \n",
    "    out_list <- list(\"fgsea_out\" = fgsea, \"fgsea_leadingGenes\" = fgsea_ledGenes_ENTREZ_h)\n",
    "    return(out_list)\n",
    "}"
   ]
  },
  {
   "cell_type": "code",
   "execution_count": null,
   "metadata": {},
   "outputs": [],
   "source": [
    "fgsea_g_.4 <- read.xlsx(paste(out,\"FGSEA_lfc1_rowsums20_6far_day.4.xlsx\",sep=\"\"))\n",
    "\n",
    "\n",
    "fgsea_g_.4$leadingEdge <- lapply(strsplit(as.character(fgsea_g_.4$leadingEdge),\n",
    "                \"[][,]|,\\\\s*\"), function(x) x[nzchar(x)])\n",
    "                                \n",
    "fgsea_le_.4 <-c()\n",
    "\n",
    "for (val in fgsea_g_.4$leadingEdge) {\n",
    "    for (v in val){\n",
    "        fgsea_le_.4 <- c(fgsea_le_.4, v)\n",
    "    } \n",
    "}\n",
    "\n",
    "fgsea_le_.4\n",
    "\n",
    "fgsea_le_.4 <- str_sub(fgsea_le_.4, 2,  str_length(fgsea_le_.4)-1)\n",
    "fgsea_counts_.4 <- findByEntrez(fgsea_le_.4, xp_data)\n",
    "fgsea_annot_.4 <- TRANSLATE_easy(fgsea_le_.4, \"ENTREZID\", c(\"GENENAME\", \"SYMBOL\"))\n",
    "fgsea_day.4_dictionary <- TRANSLATE_easy(fgsea_le_.4, \"ENTREZID\", \"SYMBOL\")\n",
    "                                 \n",
    "                                 \n",
    "symbols_df <- NULL\n",
    "for (val in fgsea_g_.4$leadingEdge){\n",
    "    symbols <- NULL\n",
    "    for (v in val){\n",
    "        #print(v)\n",
    "        #print(str_sub(v, 2,  str_length(v)-1))\n",
    "        symbol <- fgsea_day.4_dictionary$SYMBOL[match(str_sub(v, 2,  str_length(v)-1), fgsea_day.4_dictionary$ENTREZID)]\n",
    "        append(symbols, symbol) -> symbols\n",
    "    }\n",
    "    print(symbols)\n",
    "    symbols_df <- rbind(symbols_df, list(symbols))\n",
    "}\n",
    "                                 \n",
    "symbols_df <- as.data.frame(symbols_df)\n",
    "colnames(symbols_df) <- c(\"symbol\")                              \n",
    "fgsea_g_.4 <- cbind(fgsea_g_.4, symbols_df)\n"
   ]
  },
  {
   "cell_type": "code",
   "execution_count": 83,
   "metadata": {},
   "outputs": [],
   "source": [
    "library(biomaRt)"
   ]
  },
  {
   "cell_type": "code",
   "execution_count": 92,
   "metadata": {},
   "outputs": [
    {
     "data": {
      "text/html": [
       "<table>\n",
       "<caption>A data.frame: 14 × 4</caption>\n",
       "<thead>\n",
       "\t<tr><th scope=col>ensembl_gene_id</th><th scope=col>external_gene_name</th><th scope=col>entrezgene_id</th><th scope=col>description</th></tr>\n",
       "\t<tr><th scope=col>&lt;chr&gt;</th><th scope=col>&lt;chr&gt;</th><th scope=col>&lt;int&gt;</th><th scope=col>&lt;chr&gt;</th></tr>\n",
       "</thead>\n",
       "<tbody>\n",
       "\t<tr><td>ENSMMUG00000004852</td><td>EEF1A1</td><td>   716010</td><td>eukaryotic translation elongation factor 1 alpha 1 [Source:VGNC Symbol;Acc:VGNC:81065]                              </td></tr>\n",
       "\t<tr><td>ENSMMUG00000009425</td><td>      </td><td>   705671</td><td>actin, cytoplasmic 2-like [Source:NCBI gene (formerly Entrezgene);Acc:705671]                                       </td></tr>\n",
       "\t<tr><td>ENSMMUG00000011153</td><td>ACTB  </td><td>   574285</td><td>actin beta [Source:NCBI gene (formerly Entrezgene);Acc:574285]                                                      </td></tr>\n",
       "\t<tr><td>ENSMMUG00000012969</td><td>PSAP  </td><td>   709510</td><td>prosaposin [Source:VGNC Symbol;Acc:VGNC:76434]                                                                      </td></tr>\n",
       "\t<tr><td>ENSMMUG00000013668</td><td>FLNA  </td><td>   699524</td><td>filamin A [Source:VGNC Symbol;Acc:VGNC:72671]                                                                       </td></tr>\n",
       "\t<tr><td>ENSMMUG00000022301</td><td>AHNAK </td><td>   718802</td><td>AHNAK nucleoprotein [Source:VGNC Symbol;Acc:VGNC:99540]                                                             </td></tr>\n",
       "\t<tr><td>ENSMMUG00000054038</td><td>      </td><td>   694372</td><td>class I histocompatibility antigen, Gogo-B*0103 alpha chain-like [Source:NCBI gene (formerly Entrezgene);Acc:694372]</td></tr>\n",
       "\t<tr><td>ENSMMUG00000054038</td><td>      </td><td>106996627</td><td>class I histocompatibility antigen, Gogo-B*0103 alpha chain-like [Source:NCBI gene (formerly Entrezgene);Acc:694372]</td></tr>\n",
       "\t<tr><td>ENSMMUG00000054038</td><td>      </td><td>114677644</td><td>class I histocompatibility antigen, Gogo-B*0103 alpha chain-like [Source:NCBI gene (formerly Entrezgene);Acc:694372]</td></tr>\n",
       "\t<tr><td>ENSMMUG00000055242</td><td>MAMU-E</td><td>   711532</td><td>major histocompatibility complex, class I, E [Source:NCBI gene (formerly Entrezgene);Acc:711532]                    </td></tr>\n",
       "\t<tr><td>ENSMMUG00000056914</td><td>MAMU-A</td><td>   699243</td><td>Macaca mulatta major histocompatibility complex, class I, A (MAMU-A), mRNA. [Source:RefSeq mRNA;Acc:NM_001048246]   </td></tr>\n",
       "\t<tr><td>ENSMMUG00000056914</td><td>MAMU-A</td><td>   711832</td><td>Macaca mulatta major histocompatibility complex, class I, A (MAMU-A), mRNA. [Source:RefSeq mRNA;Acc:NM_001048246]   </td></tr>\n",
       "\t<tr><td>ENSMMUG00000056914</td><td>MAMU-A</td><td>100187576</td><td>Macaca mulatta major histocompatibility complex, class I, A (MAMU-A), mRNA. [Source:RefSeq mRNA;Acc:NM_001048246]   </td></tr>\n",
       "\t<tr><td>ENSMMUG00000060797</td><td>B2M   </td><td>   712428</td><td>beta-2-microglobulin [Source:NCBI gene (formerly Entrezgene);Acc:712428]                                            </td></tr>\n",
       "</tbody>\n",
       "</table>\n"
      ],
      "text/latex": [
       "A data.frame: 14 × 4\n",
       "\\begin{tabular}{llll}\n",
       " ensembl\\_gene\\_id & external\\_gene\\_name & entrezgene\\_id & description\\\\\n",
       " <chr> & <chr> & <int> & <chr>\\\\\n",
       "\\hline\n",
       "\t ENSMMUG00000004852 & EEF1A1 &    716010 & eukaryotic translation elongation factor 1 alpha 1 {[}Source:VGNC Symbol;Acc:VGNC:81065{]}                              \\\\\n",
       "\t ENSMMUG00000009425 &        &    705671 & actin, cytoplasmic 2-like {[}Source:NCBI gene (formerly Entrezgene);Acc:705671{]}                                       \\\\\n",
       "\t ENSMMUG00000011153 & ACTB   &    574285 & actin beta {[}Source:NCBI gene (formerly Entrezgene);Acc:574285{]}                                                      \\\\\n",
       "\t ENSMMUG00000012969 & PSAP   &    709510 & prosaposin {[}Source:VGNC Symbol;Acc:VGNC:76434{]}                                                                      \\\\\n",
       "\t ENSMMUG00000013668 & FLNA   &    699524 & filamin A {[}Source:VGNC Symbol;Acc:VGNC:72671{]}                                                                       \\\\\n",
       "\t ENSMMUG00000022301 & AHNAK  &    718802 & AHNAK nucleoprotein {[}Source:VGNC Symbol;Acc:VGNC:99540{]}                                                             \\\\\n",
       "\t ENSMMUG00000054038 &        &    694372 & class I histocompatibility antigen, Gogo-B*0103 alpha chain-like {[}Source:NCBI gene (formerly Entrezgene);Acc:694372{]}\\\\\n",
       "\t ENSMMUG00000054038 &        & 106996627 & class I histocompatibility antigen, Gogo-B*0103 alpha chain-like {[}Source:NCBI gene (formerly Entrezgene);Acc:694372{]}\\\\\n",
       "\t ENSMMUG00000054038 &        & 114677644 & class I histocompatibility antigen, Gogo-B*0103 alpha chain-like {[}Source:NCBI gene (formerly Entrezgene);Acc:694372{]}\\\\\n",
       "\t ENSMMUG00000055242 & MAMU-E &    711532 & major histocompatibility complex, class I, E {[}Source:NCBI gene (formerly Entrezgene);Acc:711532{]}                    \\\\\n",
       "\t ENSMMUG00000056914 & MAMU-A &    699243 & Macaca mulatta major histocompatibility complex, class I, A (MAMU-A), mRNA. {[}Source:RefSeq mRNA;Acc:NM\\_001048246{]}   \\\\\n",
       "\t ENSMMUG00000056914 & MAMU-A &    711832 & Macaca mulatta major histocompatibility complex, class I, A (MAMU-A), mRNA. {[}Source:RefSeq mRNA;Acc:NM\\_001048246{]}   \\\\\n",
       "\t ENSMMUG00000056914 & MAMU-A & 100187576 & Macaca mulatta major histocompatibility complex, class I, A (MAMU-A), mRNA. {[}Source:RefSeq mRNA;Acc:NM\\_001048246{]}   \\\\\n",
       "\t ENSMMUG00000060797 & B2M    &    712428 & beta-2-microglobulin {[}Source:NCBI gene (formerly Entrezgene);Acc:712428{]}                                            \\\\\n",
       "\\end{tabular}\n"
      ],
      "text/markdown": [
       "\n",
       "A data.frame: 14 × 4\n",
       "\n",
       "| ensembl_gene_id &lt;chr&gt; | external_gene_name &lt;chr&gt; | entrezgene_id &lt;int&gt; | description &lt;chr&gt; |\n",
       "|---|---|---|---|\n",
       "| ENSMMUG00000004852 | EEF1A1 |    716010 | eukaryotic translation elongation factor 1 alpha 1 [Source:VGNC Symbol;Acc:VGNC:81065]                               |\n",
       "| ENSMMUG00000009425 | <!----> |    705671 | actin, cytoplasmic 2-like [Source:NCBI gene (formerly Entrezgene);Acc:705671]                                        |\n",
       "| ENSMMUG00000011153 | ACTB   |    574285 | actin beta [Source:NCBI gene (formerly Entrezgene);Acc:574285]                                                       |\n",
       "| ENSMMUG00000012969 | PSAP   |    709510 | prosaposin [Source:VGNC Symbol;Acc:VGNC:76434]                                                                       |\n",
       "| ENSMMUG00000013668 | FLNA   |    699524 | filamin A [Source:VGNC Symbol;Acc:VGNC:72671]                                                                        |\n",
       "| ENSMMUG00000022301 | AHNAK  |    718802 | AHNAK nucleoprotein [Source:VGNC Symbol;Acc:VGNC:99540]                                                              |\n",
       "| ENSMMUG00000054038 | <!----> |    694372 | class I histocompatibility antigen, Gogo-B*0103 alpha chain-like [Source:NCBI gene (formerly Entrezgene);Acc:694372] |\n",
       "| ENSMMUG00000054038 | <!----> | 106996627 | class I histocompatibility antigen, Gogo-B*0103 alpha chain-like [Source:NCBI gene (formerly Entrezgene);Acc:694372] |\n",
       "| ENSMMUG00000054038 | <!----> | 114677644 | class I histocompatibility antigen, Gogo-B*0103 alpha chain-like [Source:NCBI gene (formerly Entrezgene);Acc:694372] |\n",
       "| ENSMMUG00000055242 | MAMU-E |    711532 | major histocompatibility complex, class I, E [Source:NCBI gene (formerly Entrezgene);Acc:711532]                     |\n",
       "| ENSMMUG00000056914 | MAMU-A |    699243 | Macaca mulatta major histocompatibility complex, class I, A (MAMU-A), mRNA. [Source:RefSeq mRNA;Acc:NM_001048246]    |\n",
       "| ENSMMUG00000056914 | MAMU-A |    711832 | Macaca mulatta major histocompatibility complex, class I, A (MAMU-A), mRNA. [Source:RefSeq mRNA;Acc:NM_001048246]    |\n",
       "| ENSMMUG00000056914 | MAMU-A | 100187576 | Macaca mulatta major histocompatibility complex, class I, A (MAMU-A), mRNA. [Source:RefSeq mRNA;Acc:NM_001048246]    |\n",
       "| ENSMMUG00000060797 | B2M    |    712428 | beta-2-microglobulin [Source:NCBI gene (formerly Entrezgene);Acc:712428]                                             |\n",
       "\n"
      ],
      "text/plain": [
       "   ensembl_gene_id    external_gene_name entrezgene_id\n",
       "1  ENSMMUG00000004852 EEF1A1                716010    \n",
       "2  ENSMMUG00000009425                       705671    \n",
       "3  ENSMMUG00000011153 ACTB                  574285    \n",
       "4  ENSMMUG00000012969 PSAP                  709510    \n",
       "5  ENSMMUG00000013668 FLNA                  699524    \n",
       "6  ENSMMUG00000022301 AHNAK                 718802    \n",
       "7  ENSMMUG00000054038                       694372    \n",
       "8  ENSMMUG00000054038                    106996627    \n",
       "9  ENSMMUG00000054038                    114677644    \n",
       "10 ENSMMUG00000055242 MAMU-E                711532    \n",
       "11 ENSMMUG00000056914 MAMU-A                699243    \n",
       "12 ENSMMUG00000056914 MAMU-A                711832    \n",
       "13 ENSMMUG00000056914 MAMU-A             100187576    \n",
       "14 ENSMMUG00000060797 B2M                   712428    \n",
       "   description                                                                                                         \n",
       "1  eukaryotic translation elongation factor 1 alpha 1 [Source:VGNC Symbol;Acc:VGNC:81065]                              \n",
       "2  actin, cytoplasmic 2-like [Source:NCBI gene (formerly Entrezgene);Acc:705671]                                       \n",
       "3  actin beta [Source:NCBI gene (formerly Entrezgene);Acc:574285]                                                      \n",
       "4  prosaposin [Source:VGNC Symbol;Acc:VGNC:76434]                                                                      \n",
       "5  filamin A [Source:VGNC Symbol;Acc:VGNC:72671]                                                                       \n",
       "6  AHNAK nucleoprotein [Source:VGNC Symbol;Acc:VGNC:99540]                                                             \n",
       "7  class I histocompatibility antigen, Gogo-B*0103 alpha chain-like [Source:NCBI gene (formerly Entrezgene);Acc:694372]\n",
       "8  class I histocompatibility antigen, Gogo-B*0103 alpha chain-like [Source:NCBI gene (formerly Entrezgene);Acc:694372]\n",
       "9  class I histocompatibility antigen, Gogo-B*0103 alpha chain-like [Source:NCBI gene (formerly Entrezgene);Acc:694372]\n",
       "10 major histocompatibility complex, class I, E [Source:NCBI gene (formerly Entrezgene);Acc:711532]                    \n",
       "11 Macaca mulatta major histocompatibility complex, class I, A (MAMU-A), mRNA. [Source:RefSeq mRNA;Acc:NM_001048246]   \n",
       "12 Macaca mulatta major histocompatibility complex, class I, A (MAMU-A), mRNA. [Source:RefSeq mRNA;Acc:NM_001048246]   \n",
       "13 Macaca mulatta major histocompatibility complex, class I, A (MAMU-A), mRNA. [Source:RefSeq mRNA;Acc:NM_001048246]   \n",
       "14 beta-2-microglobulin [Source:NCBI gene (formerly Entrezgene);Acc:712428]                                            "
      ]
     },
     "metadata": {},
     "output_type": "display_data"
    }
   ],
   "source": [
    "ensembl=useMart(\"ensembl\")\n",
    "ensembl1 = useDataset(\"mmulatta_gene_ensembl\",mart=ensembl)\n",
    "\n",
    "#conv_ids_mart(rownames(dataNorm), \"mmulatta_gene_ensembl\")\n",
    "getBM(attributes=c( \"ensembl_gene_id\",\"external_gene_name\", 'entrezgene_id',\"description\"), \n",
    "        filters = \"ensembl_gene_id\",\n",
    "          values = rownames(dataNorm_df[1:10,]), \n",
    "          mart = ensembl1)"
   ]
  },
  {
   "cell_type": "code",
   "execution_count": 113,
   "metadata": {},
   "outputs": [
    {
     "name": "stderr",
     "output_type": "stream",
     "text": [
      "'select()' returned 1:many mapping between keys and columns\n",
      "\n",
      "Warning message in bitr(myGenes, fromType = from, toType = to, OrgDb = db):\n",
      "“20% of input gene IDs are fail to map...”\n"
     ]
    },
    {
     "data": {
      "text/html": [
       "<table>\n",
       "<caption>A data.frame: 12 × 4</caption>\n",
       "<thead>\n",
       "\t<tr><th></th><th scope=col>ENSEMBL</th><th scope=col>SYMBOL</th><th scope=col>ENTREZID</th><th scope=col>GENENAME</th></tr>\n",
       "\t<tr><th></th><th scope=col>&lt;chr&gt;</th><th scope=col>&lt;chr&gt;</th><th scope=col>&lt;chr&gt;</th><th scope=col>&lt;chr&gt;</th></tr>\n",
       "</thead>\n",
       "<tbody>\n",
       "\t<tr><th scope=row>1</th><td>ENSMMUG00000004852</td><td>EEF1A1      </td><td>716010   </td><td>eukaryotic translation elongation factor 1 alpha 1              </td></tr>\n",
       "\t<tr><th scope=row>2</th><td>ENSMMUG00000004852</td><td>LOC100425937</td><td>100425937</td><td>elongation factor 1-alpha 1                                     </td></tr>\n",
       "\t<tr><th scope=row>4</th><td>ENSMMUG00000022301</td><td>AHNAK       </td><td>718802   </td><td>AHNAK nucleoprotein                                             </td></tr>\n",
       "\t<tr><th scope=row>5</th><td>ENSMMUG00000011153</td><td>ACTB        </td><td>574285   </td><td>actin beta                                                      </td></tr>\n",
       "\t<tr><th scope=row>6</th><td>ENSMMUG00000056914</td><td>MAMU-A3     </td><td>699243   </td><td>major histocompatibility complex, class I, A                    </td></tr>\n",
       "\t<tr><th scope=row>7</th><td>ENSMMUG00000056914</td><td>MAMU-A      </td><td>711832   </td><td>major histocompatibility complex, class I, A                    </td></tr>\n",
       "\t<tr><th scope=row>8</th><td>ENSMMUG00000056914</td><td>MAMU-AG     </td><td>100187576</td><td>major histocompatibility complex, class I, AG                   </td></tr>\n",
       "\t<tr><th scope=row>9</th><td>ENSMMUG00000060797</td><td>B2M         </td><td>712428   </td><td>beta-2-microglobulin                                            </td></tr>\n",
       "\t<tr><th scope=row>11</th><td>ENSMMUG00000013668</td><td>FLNA        </td><td>699524   </td><td>filamin A                                                       </td></tr>\n",
       "\t<tr><th scope=row>12</th><td>ENSMMUG00000012969</td><td>PSAP        </td><td>709510   </td><td>prosaposin                                                      </td></tr>\n",
       "\t<tr><th scope=row>13</th><td>ENSMMUG00000054038</td><td>LOC694372   </td><td>694372   </td><td>class I histocompatibility antigen, Gogo-B*0103 alpha chain-like</td></tr>\n",
       "\t<tr><th scope=row>14</th><td>ENSMMUG00000054038</td><td>LOC106996627</td><td>106996627</td><td>HLA class I histocompatibility antigen, B-15 alpha chain-like   </td></tr>\n",
       "</tbody>\n",
       "</table>\n"
      ],
      "text/latex": [
       "A data.frame: 12 × 4\n",
       "\\begin{tabular}{r|llll}\n",
       "  & ENSEMBL & SYMBOL & ENTREZID & GENENAME\\\\\n",
       "  & <chr> & <chr> & <chr> & <chr>\\\\\n",
       "\\hline\n",
       "\t1 & ENSMMUG00000004852 & EEF1A1       & 716010    & eukaryotic translation elongation factor 1 alpha 1              \\\\\n",
       "\t2 & ENSMMUG00000004852 & LOC100425937 & 100425937 & elongation factor 1-alpha 1                                     \\\\\n",
       "\t4 & ENSMMUG00000022301 & AHNAK        & 718802    & AHNAK nucleoprotein                                             \\\\\n",
       "\t5 & ENSMMUG00000011153 & ACTB         & 574285    & actin beta                                                      \\\\\n",
       "\t6 & ENSMMUG00000056914 & MAMU-A3      & 699243    & major histocompatibility complex, class I, A                    \\\\\n",
       "\t7 & ENSMMUG00000056914 & MAMU-A       & 711832    & major histocompatibility complex, class I, A                    \\\\\n",
       "\t8 & ENSMMUG00000056914 & MAMU-AG      & 100187576 & major histocompatibility complex, class I, AG                   \\\\\n",
       "\t9 & ENSMMUG00000060797 & B2M          & 712428    & beta-2-microglobulin                                            \\\\\n",
       "\t11 & ENSMMUG00000013668 & FLNA         & 699524    & filamin A                                                       \\\\\n",
       "\t12 & ENSMMUG00000012969 & PSAP         & 709510    & prosaposin                                                      \\\\\n",
       "\t13 & ENSMMUG00000054038 & LOC694372    & 694372    & class I histocompatibility antigen, Gogo-B*0103 alpha chain-like\\\\\n",
       "\t14 & ENSMMUG00000054038 & LOC106996627 & 106996627 & HLA class I histocompatibility antigen, B-15 alpha chain-like   \\\\\n",
       "\\end{tabular}\n"
      ],
      "text/markdown": [
       "\n",
       "A data.frame: 12 × 4\n",
       "\n",
       "| <!--/--> | ENSEMBL &lt;chr&gt; | SYMBOL &lt;chr&gt; | ENTREZID &lt;chr&gt; | GENENAME &lt;chr&gt; |\n",
       "|---|---|---|---|---|\n",
       "| 1 | ENSMMUG00000004852 | EEF1A1       | 716010    | eukaryotic translation elongation factor 1 alpha 1               |\n",
       "| 2 | ENSMMUG00000004852 | LOC100425937 | 100425937 | elongation factor 1-alpha 1                                      |\n",
       "| 4 | ENSMMUG00000022301 | AHNAK        | 718802    | AHNAK nucleoprotein                                              |\n",
       "| 5 | ENSMMUG00000011153 | ACTB         | 574285    | actin beta                                                       |\n",
       "| 6 | ENSMMUG00000056914 | MAMU-A3      | 699243    | major histocompatibility complex, class I, A                     |\n",
       "| 7 | ENSMMUG00000056914 | MAMU-A       | 711832    | major histocompatibility complex, class I, A                     |\n",
       "| 8 | ENSMMUG00000056914 | MAMU-AG      | 100187576 | major histocompatibility complex, class I, AG                    |\n",
       "| 9 | ENSMMUG00000060797 | B2M          | 712428    | beta-2-microglobulin                                             |\n",
       "| 11 | ENSMMUG00000013668 | FLNA         | 699524    | filamin A                                                        |\n",
       "| 12 | ENSMMUG00000012969 | PSAP         | 709510    | prosaposin                                                       |\n",
       "| 13 | ENSMMUG00000054038 | LOC694372    | 694372    | class I histocompatibility antigen, Gogo-B*0103 alpha chain-like |\n",
       "| 14 | ENSMMUG00000054038 | LOC106996627 | 106996627 | HLA class I histocompatibility antigen, B-15 alpha chain-like    |\n",
       "\n"
      ],
      "text/plain": [
       "   ENSEMBL            SYMBOL       ENTREZID \n",
       "1  ENSMMUG00000004852 EEF1A1       716010   \n",
       "2  ENSMMUG00000004852 LOC100425937 100425937\n",
       "4  ENSMMUG00000022301 AHNAK        718802   \n",
       "5  ENSMMUG00000011153 ACTB         574285   \n",
       "6  ENSMMUG00000056914 MAMU-A3      699243   \n",
       "7  ENSMMUG00000056914 MAMU-A       711832   \n",
       "8  ENSMMUG00000056914 MAMU-AG      100187576\n",
       "9  ENSMMUG00000060797 B2M          712428   \n",
       "11 ENSMMUG00000013668 FLNA         699524   \n",
       "12 ENSMMUG00000012969 PSAP         709510   \n",
       "13 ENSMMUG00000054038 LOC694372    694372   \n",
       "14 ENSMMUG00000054038 LOC106996627 106996627\n",
       "   GENENAME                                                        \n",
       "1  eukaryotic translation elongation factor 1 alpha 1              \n",
       "2  elongation factor 1-alpha 1                                     \n",
       "4  AHNAK nucleoprotein                                             \n",
       "5  actin beta                                                      \n",
       "6  major histocompatibility complex, class I, A                    \n",
       "7  major histocompatibility complex, class I, A                    \n",
       "8  major histocompatibility complex, class I, AG                   \n",
       "9  beta-2-microglobulin                                            \n",
       "11 filamin A                                                       \n",
       "12 prosaposin                                                      \n",
       "13 class I histocompatibility antigen, Gogo-B*0103 alpha chain-like\n",
       "14 HLA class I histocompatibility antigen, B-15 alpha chain-like   "
      ]
     },
     "metadata": {},
     "output_type": "display_data"
    }
   ],
   "source": [
    "ann1 <- conv_ids_cp(rownames(dataNorm_df[1:10,]), \"ENSEMBL\", c(\"SYMBOL\",\"ENTREZID\",\"GENENAME\"), \"org.Mmu.eg.db\")\n",
    "ann1\n",
    "not_annot <- outersect(ann1$ENSEMBL, rownames(dataNorm_df[1:10,]))\n",
    "ann2 <- conv_ids_mart(not_annot, \"mmulatta_gene_ensembl\")\n",
    "ann2\n",
    "colnames(ann2) <- colnames(ann1)\n",
    "ann3 <- rbind(ann1,ann2)\n",
    "not_found <- outersect(ann3$ENSEMBL, rownames(dataNorm_df[1:10,]))\n",
    "not_found <-\"test\"\n",
    "not_found \n",
    "nas <- rep(NA,each=ncol(ann3)-1)\n",
    "not_found <- c(not_found,nas)\n",
    "not_found\n",
    "rbind(ann3, not_found)"
   ]
  },
  {
   "cell_type": "code",
   "execution_count": 114,
   "metadata": {},
   "outputs": [],
   "source": [
    "not_annot <- outersect(ann1$ENSEMBL, rownames(dataNorm_df[1:10,]))\n",
    "ann2 <- conv_ids_mart(not_annot, \"mmulatta_gene_ensembl\")\n",
    "ann2\n",
    "colnames(ann2) <- colnames(ann1)\n",
    "ann3 <- rbind(ann1,ann2)\n",
    "not_found <- outersect(ann3$ENSEMBL, rownames(dataNorm_df[1:10,]))\n",
    "not_found <-\"test\"\n",
    "not_found \n",
    "nas <- rep(NA,each=ncol(ann3)-1)\n",
    "not_found <- c(not_found,nas)\n",
    "not_found\n",
    "rbind(ann3, not_found)"
   ]
  },
  {
   "cell_type": "code",
   "execution_count": 115,
   "metadata": {},
   "outputs": [
    {
     "name": "stderr",
     "output_type": "stream",
     "text": [
      "Cache found\n",
      "\n"
     ]
    },
    {
     "data": {
      "text/html": [
       "<table>\n",
       "<caption>A data.frame: 2 × 4</caption>\n",
       "<thead>\n",
       "\t<tr><th scope=col>ensembl_gene_id</th><th scope=col>external_gene_name</th><th scope=col>entrezgene_id</th><th scope=col>description</th></tr>\n",
       "\t<tr><th scope=col>&lt;chr&gt;</th><th scope=col>&lt;chr&gt;</th><th scope=col>&lt;int&gt;</th><th scope=col>&lt;chr&gt;</th></tr>\n",
       "</thead>\n",
       "<tbody>\n",
       "\t<tr><td>ENSMMUG00000009425</td><td>      </td><td>705671</td><td>actin, cytoplasmic 2-like [Source:NCBI gene (formerly Entrezgene);Acc:705671]                   </td></tr>\n",
       "\t<tr><td>ENSMMUG00000055242</td><td>MAMU-E</td><td>711532</td><td>major histocompatibility complex, class I, E [Source:NCBI gene (formerly Entrezgene);Acc:711532]</td></tr>\n",
       "</tbody>\n",
       "</table>\n"
      ],
      "text/latex": [
       "A data.frame: 2 × 4\n",
       "\\begin{tabular}{llll}\n",
       " ensembl\\_gene\\_id & external\\_gene\\_name & entrezgene\\_id & description\\\\\n",
       " <chr> & <chr> & <int> & <chr>\\\\\n",
       "\\hline\n",
       "\t ENSMMUG00000009425 &        & 705671 & actin, cytoplasmic 2-like {[}Source:NCBI gene (formerly Entrezgene);Acc:705671{]}                   \\\\\n",
       "\t ENSMMUG00000055242 & MAMU-E & 711532 & major histocompatibility complex, class I, E {[}Source:NCBI gene (formerly Entrezgene);Acc:711532{]}\\\\\n",
       "\\end{tabular}\n"
      ],
      "text/markdown": [
       "\n",
       "A data.frame: 2 × 4\n",
       "\n",
       "| ensembl_gene_id &lt;chr&gt; | external_gene_name &lt;chr&gt; | entrezgene_id &lt;int&gt; | description &lt;chr&gt; |\n",
       "|---|---|---|---|\n",
       "| ENSMMUG00000009425 | <!----> | 705671 | actin, cytoplasmic 2-like [Source:NCBI gene (formerly Entrezgene);Acc:705671]                    |\n",
       "| ENSMMUG00000055242 | MAMU-E | 711532 | major histocompatibility complex, class I, E [Source:NCBI gene (formerly Entrezgene);Acc:711532] |\n",
       "\n"
      ],
      "text/plain": [
       "  ensembl_gene_id    external_gene_name entrezgene_id\n",
       "1 ENSMMUG00000009425                    705671       \n",
       "2 ENSMMUG00000055242 MAMU-E             711532       \n",
       "  description                                                                                     \n",
       "1 actin, cytoplasmic 2-like [Source:NCBI gene (formerly Entrezgene);Acc:705671]                   \n",
       "2 major histocompatibility complex, class I, E [Source:NCBI gene (formerly Entrezgene);Acc:711532]"
      ]
     },
     "metadata": {},
     "output_type": "display_data"
    }
   ],
   "source": [
    "ann2 <- conv_ids_mart(not_annot, \"mmulatta_gene_ensembl\")\n",
    "ann2\n",
    "colnames(ann2) <- colnames(ann1)\n",
    "ann3 <- rbind(ann1,ann2)\n",
    "not_found <- outersect(ann3$ENSEMBL, rownames(dataNorm_df[1:10,]))\n",
    "not_found <-\"test\"\n",
    "not_found \n",
    "nas <- rep(NA,each=ncol(ann3)-1)\n",
    "not_found <- c(not_found,nas)\n",
    "not_found\n",
    "rbind(ann3, not_found)"
   ]
  },
  {
   "cell_type": "code",
   "execution_count": 116,
   "metadata": {},
   "outputs": [],
   "source": [
    "colnames(ann2) <- colnames(ann1)\n",
    "ann3 <- rbind(ann1,ann2)\n",
    "not_found <- outersect(ann3$ENSEMBL, rownames(dataNorm_df[1:10,]))\n",
    "not_found <-\"test\"\n",
    "not_found \n",
    "nas <- rep(NA,each=ncol(ann3)-1)\n",
    "not_found <- c(not_found,nas)\n",
    "not_found\n",
    "rbind(ann3, not_found)"
   ]
  },
  {
   "cell_type": "code",
   "execution_count": 119,
   "metadata": {},
   "outputs": [],
   "source": [
    "ann3 <- rbind(ann1,ann2)\n",
    "not_found <- outersect(ann3$ENSEMBL, rownames(dataNorm_df[1:10,]))\n",
    "not_found <-\"test\"\n",
    "not_found \n",
    "nas <- rep(NA,each=ncol(ann3)-1)\n",
    "not_found <- c(not_found,nas)\n",
    "not_found\n",
    "rbind(ann3, not_found)"
   ]
  },
  {
   "cell_type": "code",
   "execution_count": 120,
   "metadata": {},
   "outputs": [
    {
     "data": {
      "text/html": [
       "<table>\n",
       "<caption>A data.frame: 14 × 4</caption>\n",
       "<thead>\n",
       "\t<tr><th></th><th scope=col>ENSEMBL</th><th scope=col>SYMBOL</th><th scope=col>ENTREZID</th><th scope=col>GENENAME</th></tr>\n",
       "\t<tr><th></th><th scope=col>&lt;chr&gt;</th><th scope=col>&lt;chr&gt;</th><th scope=col>&lt;chr&gt;</th><th scope=col>&lt;chr&gt;</th></tr>\n",
       "</thead>\n",
       "<tbody>\n",
       "\t<tr><th scope=row>1</th><td>ENSMMUG00000004852</td><td>EEF1A1      </td><td>716010   </td><td>eukaryotic translation elongation factor 1 alpha 1                                              </td></tr>\n",
       "\t<tr><th scope=row>2</th><td>ENSMMUG00000004852</td><td>LOC100425937</td><td>100425937</td><td>elongation factor 1-alpha 1                                                                     </td></tr>\n",
       "\t<tr><th scope=row>4</th><td>ENSMMUG00000022301</td><td>AHNAK       </td><td>718802   </td><td>AHNAK nucleoprotein                                                                             </td></tr>\n",
       "\t<tr><th scope=row>5</th><td>ENSMMUG00000011153</td><td>ACTB        </td><td>574285   </td><td>actin beta                                                                                      </td></tr>\n",
       "\t<tr><th scope=row>6</th><td>ENSMMUG00000056914</td><td>MAMU-A3     </td><td>699243   </td><td>major histocompatibility complex, class I, A                                                    </td></tr>\n",
       "\t<tr><th scope=row>7</th><td>ENSMMUG00000056914</td><td>MAMU-A      </td><td>711832   </td><td>major histocompatibility complex, class I, A                                                    </td></tr>\n",
       "\t<tr><th scope=row>8</th><td>ENSMMUG00000056914</td><td>MAMU-AG     </td><td>100187576</td><td>major histocompatibility complex, class I, AG                                                   </td></tr>\n",
       "\t<tr><th scope=row>9</th><td>ENSMMUG00000060797</td><td>B2M         </td><td>712428   </td><td>beta-2-microglobulin                                                                            </td></tr>\n",
       "\t<tr><th scope=row>11</th><td>ENSMMUG00000013668</td><td>FLNA        </td><td>699524   </td><td>filamin A                                                                                       </td></tr>\n",
       "\t<tr><th scope=row>12</th><td>ENSMMUG00000012969</td><td>PSAP        </td><td>709510   </td><td>prosaposin                                                                                      </td></tr>\n",
       "\t<tr><th scope=row>13</th><td>ENSMMUG00000054038</td><td>LOC694372   </td><td>694372   </td><td>class I histocompatibility antigen, Gogo-B*0103 alpha chain-like                                </td></tr>\n",
       "\t<tr><th scope=row>14</th><td>ENSMMUG00000054038</td><td>LOC106996627</td><td>106996627</td><td>HLA class I histocompatibility antigen, B-15 alpha chain-like                                   </td></tr>\n",
       "\t<tr><th scope=row>15</th><td>ENSMMUG00000009425</td><td>            </td><td>705671   </td><td>actin, cytoplasmic 2-like [Source:NCBI gene (formerly Entrezgene);Acc:705671]                   </td></tr>\n",
       "\t<tr><th scope=row>21</th><td>ENSMMUG00000055242</td><td>MAMU-E      </td><td>711532   </td><td>major histocompatibility complex, class I, E [Source:NCBI gene (formerly Entrezgene);Acc:711532]</td></tr>\n",
       "</tbody>\n",
       "</table>\n"
      ],
      "text/latex": [
       "A data.frame: 14 × 4\n",
       "\\begin{tabular}{r|llll}\n",
       "  & ENSEMBL & SYMBOL & ENTREZID & GENENAME\\\\\n",
       "  & <chr> & <chr> & <chr> & <chr>\\\\\n",
       "\\hline\n",
       "\t1 & ENSMMUG00000004852 & EEF1A1       & 716010    & eukaryotic translation elongation factor 1 alpha 1                                              \\\\\n",
       "\t2 & ENSMMUG00000004852 & LOC100425937 & 100425937 & elongation factor 1-alpha 1                                                                     \\\\\n",
       "\t4 & ENSMMUG00000022301 & AHNAK        & 718802    & AHNAK nucleoprotein                                                                             \\\\\n",
       "\t5 & ENSMMUG00000011153 & ACTB         & 574285    & actin beta                                                                                      \\\\\n",
       "\t6 & ENSMMUG00000056914 & MAMU-A3      & 699243    & major histocompatibility complex, class I, A                                                    \\\\\n",
       "\t7 & ENSMMUG00000056914 & MAMU-A       & 711832    & major histocompatibility complex, class I, A                                                    \\\\\n",
       "\t8 & ENSMMUG00000056914 & MAMU-AG      & 100187576 & major histocompatibility complex, class I, AG                                                   \\\\\n",
       "\t9 & ENSMMUG00000060797 & B2M          & 712428    & beta-2-microglobulin                                                                            \\\\\n",
       "\t11 & ENSMMUG00000013668 & FLNA         & 699524    & filamin A                                                                                       \\\\\n",
       "\t12 & ENSMMUG00000012969 & PSAP         & 709510    & prosaposin                                                                                      \\\\\n",
       "\t13 & ENSMMUG00000054038 & LOC694372    & 694372    & class I histocompatibility antigen, Gogo-B*0103 alpha chain-like                                \\\\\n",
       "\t14 & ENSMMUG00000054038 & LOC106996627 & 106996627 & HLA class I histocompatibility antigen, B-15 alpha chain-like                                   \\\\\n",
       "\t15 & ENSMMUG00000009425 &              & 705671    & actin, cytoplasmic 2-like {[}Source:NCBI gene (formerly Entrezgene);Acc:705671{]}                   \\\\\n",
       "\t21 & ENSMMUG00000055242 & MAMU-E       & 711532    & major histocompatibility complex, class I, E {[}Source:NCBI gene (formerly Entrezgene);Acc:711532{]}\\\\\n",
       "\\end{tabular}\n"
      ],
      "text/markdown": [
       "\n",
       "A data.frame: 14 × 4\n",
       "\n",
       "| <!--/--> | ENSEMBL &lt;chr&gt; | SYMBOL &lt;chr&gt; | ENTREZID &lt;chr&gt; | GENENAME &lt;chr&gt; |\n",
       "|---|---|---|---|---|\n",
       "| 1 | ENSMMUG00000004852 | EEF1A1       | 716010    | eukaryotic translation elongation factor 1 alpha 1                                               |\n",
       "| 2 | ENSMMUG00000004852 | LOC100425937 | 100425937 | elongation factor 1-alpha 1                                                                      |\n",
       "| 4 | ENSMMUG00000022301 | AHNAK        | 718802    | AHNAK nucleoprotein                                                                              |\n",
       "| 5 | ENSMMUG00000011153 | ACTB         | 574285    | actin beta                                                                                       |\n",
       "| 6 | ENSMMUG00000056914 | MAMU-A3      | 699243    | major histocompatibility complex, class I, A                                                     |\n",
       "| 7 | ENSMMUG00000056914 | MAMU-A       | 711832    | major histocompatibility complex, class I, A                                                     |\n",
       "| 8 | ENSMMUG00000056914 | MAMU-AG      | 100187576 | major histocompatibility complex, class I, AG                                                    |\n",
       "| 9 | ENSMMUG00000060797 | B2M          | 712428    | beta-2-microglobulin                                                                             |\n",
       "| 11 | ENSMMUG00000013668 | FLNA         | 699524    | filamin A                                                                                        |\n",
       "| 12 | ENSMMUG00000012969 | PSAP         | 709510    | prosaposin                                                                                       |\n",
       "| 13 | ENSMMUG00000054038 | LOC694372    | 694372    | class I histocompatibility antigen, Gogo-B*0103 alpha chain-like                                 |\n",
       "| 14 | ENSMMUG00000054038 | LOC106996627 | 106996627 | HLA class I histocompatibility antigen, B-15 alpha chain-like                                    |\n",
       "| 15 | ENSMMUG00000009425 | <!----> | 705671    | actin, cytoplasmic 2-like [Source:NCBI gene (formerly Entrezgene);Acc:705671]                    |\n",
       "| 21 | ENSMMUG00000055242 | MAMU-E       | 711532    | major histocompatibility complex, class I, E [Source:NCBI gene (formerly Entrezgene);Acc:711532] |\n",
       "\n"
      ],
      "text/plain": [
       "   ENSEMBL            SYMBOL       ENTREZID \n",
       "1  ENSMMUG00000004852 EEF1A1       716010   \n",
       "2  ENSMMUG00000004852 LOC100425937 100425937\n",
       "4  ENSMMUG00000022301 AHNAK        718802   \n",
       "5  ENSMMUG00000011153 ACTB         574285   \n",
       "6  ENSMMUG00000056914 MAMU-A3      699243   \n",
       "7  ENSMMUG00000056914 MAMU-A       711832   \n",
       "8  ENSMMUG00000056914 MAMU-AG      100187576\n",
       "9  ENSMMUG00000060797 B2M          712428   \n",
       "11 ENSMMUG00000013668 FLNA         699524   \n",
       "12 ENSMMUG00000012969 PSAP         709510   \n",
       "13 ENSMMUG00000054038 LOC694372    694372   \n",
       "14 ENSMMUG00000054038 LOC106996627 106996627\n",
       "15 ENSMMUG00000009425              705671   \n",
       "21 ENSMMUG00000055242 MAMU-E       711532   \n",
       "   GENENAME                                                                                        \n",
       "1  eukaryotic translation elongation factor 1 alpha 1                                              \n",
       "2  elongation factor 1-alpha 1                                                                     \n",
       "4  AHNAK nucleoprotein                                                                             \n",
       "5  actin beta                                                                                      \n",
       "6  major histocompatibility complex, class I, A                                                    \n",
       "7  major histocompatibility complex, class I, A                                                    \n",
       "8  major histocompatibility complex, class I, AG                                                   \n",
       "9  beta-2-microglobulin                                                                            \n",
       "11 filamin A                                                                                       \n",
       "12 prosaposin                                                                                      \n",
       "13 class I histocompatibility antigen, Gogo-B*0103 alpha chain-like                                \n",
       "14 HLA class I histocompatibility antigen, B-15 alpha chain-like                                   \n",
       "15 actin, cytoplasmic 2-like [Source:NCBI gene (formerly Entrezgene);Acc:705671]                   \n",
       "21 major histocompatibility complex, class I, E [Source:NCBI gene (formerly Entrezgene);Acc:711532]"
      ]
     },
     "metadata": {},
     "output_type": "display_data"
    }
   ],
   "source": [
    "ann3\n"
   ]
  },
  {
   "cell_type": "code",
   "execution_count": 140,
   "metadata": {},
   "outputs": [],
   "source": [
    "not_found <- outersect(ann3$ENSEMBL, rownames(dataNorm_df[1:10,]))\n",
    "not_found <-\"test\"\n",
    "not_found \n",
    "nas <- rep(NA,each=ncol(ann3)-1)\n",
    "not_found <- c(not_found,nas)\n",
    "not_found\n",
    "rbind(ann3, not_found)"
   ]
  },
  {
   "cell_type": "code",
   "execution_count": 141,
   "metadata": {},
   "outputs": [
    {
     "data": {
      "text/html": [
       "'test'"
      ],
      "text/latex": [
       "'test'"
      ],
      "text/markdown": [
       "'test'"
      ],
      "text/plain": [
       "[1] \"test\""
      ]
     },
     "metadata": {},
     "output_type": "display_data"
    },
    {
     "data": {
      "text/html": [
       "<style>\n",
       ".list-inline {list-style: none; margin:0; padding: 0}\n",
       ".list-inline>li {display: inline-block}\n",
       ".list-inline>li:not(:last-child)::after {content: \"\\00b7\"; padding: 0 .5ex}\n",
       "</style>\n",
       "<ol class=list-inline><li>'test'</li><li>NA</li><li>NA</li><li>NA</li></ol>\n"
      ],
      "text/latex": [
       "\\begin{enumerate*}\n",
       "\\item 'test'\n",
       "\\item NA\n",
       "\\item NA\n",
       "\\item NA\n",
       "\\end{enumerate*}\n"
      ],
      "text/markdown": [
       "1. 'test'\n",
       "2. NA\n",
       "3. NA\n",
       "4. NA\n",
       "\n",
       "\n"
      ],
      "text/plain": [
       "[1] \"test\" NA     NA     NA    "
      ]
     },
     "metadata": {},
     "output_type": "display_data"
    }
   ],
   "source": [
    "not_found \n",
    "nas <- rep(NA,each=ncol(ann3)-1)\n",
    "not_found <- c(not_found,nas)\n",
    "not_found\n",
    "rbind(ann3, not_found)"
   ]
  },
  {
   "cell_type": "code",
   "execution_count": 142,
   "metadata": {},
   "outputs": [
    {
     "data": {
      "text/html": [
       "<table>\n",
       "<caption>A data.frame: 15 × 4</caption>\n",
       "<thead>\n",
       "\t<tr><th></th><th scope=col>ENSEMBL</th><th scope=col>SYMBOL</th><th scope=col>ENTREZID</th><th scope=col>GENENAME</th></tr>\n",
       "\t<tr><th></th><th scope=col>&lt;chr&gt;</th><th scope=col>&lt;chr&gt;</th><th scope=col>&lt;chr&gt;</th><th scope=col>&lt;chr&gt;</th></tr>\n",
       "</thead>\n",
       "<tbody>\n",
       "\t<tr><th scope=row>1</th><td>ENSMMUG00000004852</td><td>EEF1A1      </td><td>716010   </td><td>eukaryotic translation elongation factor 1 alpha 1                                              </td></tr>\n",
       "\t<tr><th scope=row>2</th><td>ENSMMUG00000004852</td><td>LOC100425937</td><td>100425937</td><td>elongation factor 1-alpha 1                                                                     </td></tr>\n",
       "\t<tr><th scope=row>4</th><td>ENSMMUG00000022301</td><td>AHNAK       </td><td>718802   </td><td>AHNAK nucleoprotein                                                                             </td></tr>\n",
       "\t<tr><th scope=row>5</th><td>ENSMMUG00000011153</td><td>ACTB        </td><td>574285   </td><td>actin beta                                                                                      </td></tr>\n",
       "\t<tr><th scope=row>6</th><td>ENSMMUG00000056914</td><td>MAMU-A3     </td><td>699243   </td><td>major histocompatibility complex, class I, A                                                    </td></tr>\n",
       "\t<tr><th scope=row>7</th><td>ENSMMUG00000056914</td><td>MAMU-A      </td><td>711832   </td><td>major histocompatibility complex, class I, A                                                    </td></tr>\n",
       "\t<tr><th scope=row>8</th><td>ENSMMUG00000056914</td><td>MAMU-AG     </td><td>100187576</td><td>major histocompatibility complex, class I, AG                                                   </td></tr>\n",
       "\t<tr><th scope=row>9</th><td>ENSMMUG00000060797</td><td>B2M         </td><td>712428   </td><td>beta-2-microglobulin                                                                            </td></tr>\n",
       "\t<tr><th scope=row>11</th><td>ENSMMUG00000013668</td><td>FLNA        </td><td>699524   </td><td>filamin A                                                                                       </td></tr>\n",
       "\t<tr><th scope=row>12</th><td>ENSMMUG00000012969</td><td>PSAP        </td><td>709510   </td><td>prosaposin                                                                                      </td></tr>\n",
       "\t<tr><th scope=row>13</th><td>ENSMMUG00000054038</td><td>LOC694372   </td><td>694372   </td><td>class I histocompatibility antigen, Gogo-B*0103 alpha chain-like                                </td></tr>\n",
       "\t<tr><th scope=row>14</th><td>ENSMMUG00000054038</td><td>LOC106996627</td><td>106996627</td><td>HLA class I histocompatibility antigen, B-15 alpha chain-like                                   </td></tr>\n",
       "\t<tr><th scope=row>15</th><td>ENSMMUG00000009425</td><td>            </td><td>705671   </td><td>actin, cytoplasmic 2-like [Source:NCBI gene (formerly Entrezgene);Acc:705671]                   </td></tr>\n",
       "\t<tr><th scope=row>21</th><td>ENSMMUG00000055242</td><td>MAMU-E      </td><td>711532   </td><td>major histocompatibility complex, class I, E [Source:NCBI gene (formerly Entrezgene);Acc:711532]</td></tr>\n",
       "\t<tr><th scope=row>151</th><td>test              </td><td>NA          </td><td>NA       </td><td>NA                                                                                              </td></tr>\n",
       "</tbody>\n",
       "</table>\n"
      ],
      "text/latex": [
       "A data.frame: 15 × 4\n",
       "\\begin{tabular}{r|llll}\n",
       "  & ENSEMBL & SYMBOL & ENTREZID & GENENAME\\\\\n",
       "  & <chr> & <chr> & <chr> & <chr>\\\\\n",
       "\\hline\n",
       "\t1 & ENSMMUG00000004852 & EEF1A1       & 716010    & eukaryotic translation elongation factor 1 alpha 1                                              \\\\\n",
       "\t2 & ENSMMUG00000004852 & LOC100425937 & 100425937 & elongation factor 1-alpha 1                                                                     \\\\\n",
       "\t4 & ENSMMUG00000022301 & AHNAK        & 718802    & AHNAK nucleoprotein                                                                             \\\\\n",
       "\t5 & ENSMMUG00000011153 & ACTB         & 574285    & actin beta                                                                                      \\\\\n",
       "\t6 & ENSMMUG00000056914 & MAMU-A3      & 699243    & major histocompatibility complex, class I, A                                                    \\\\\n",
       "\t7 & ENSMMUG00000056914 & MAMU-A       & 711832    & major histocompatibility complex, class I, A                                                    \\\\\n",
       "\t8 & ENSMMUG00000056914 & MAMU-AG      & 100187576 & major histocompatibility complex, class I, AG                                                   \\\\\n",
       "\t9 & ENSMMUG00000060797 & B2M          & 712428    & beta-2-microglobulin                                                                            \\\\\n",
       "\t11 & ENSMMUG00000013668 & FLNA         & 699524    & filamin A                                                                                       \\\\\n",
       "\t12 & ENSMMUG00000012969 & PSAP         & 709510    & prosaposin                                                                                      \\\\\n",
       "\t13 & ENSMMUG00000054038 & LOC694372    & 694372    & class I histocompatibility antigen, Gogo-B*0103 alpha chain-like                                \\\\\n",
       "\t14 & ENSMMUG00000054038 & LOC106996627 & 106996627 & HLA class I histocompatibility antigen, B-15 alpha chain-like                                   \\\\\n",
       "\t15 & ENSMMUG00000009425 &              & 705671    & actin, cytoplasmic 2-like {[}Source:NCBI gene (formerly Entrezgene);Acc:705671{]}                   \\\\\n",
       "\t21 & ENSMMUG00000055242 & MAMU-E       & 711532    & major histocompatibility complex, class I, E {[}Source:NCBI gene (formerly Entrezgene);Acc:711532{]}\\\\\n",
       "\t151 & test               & NA           & NA        & NA                                                                                              \\\\\n",
       "\\end{tabular}\n"
      ],
      "text/markdown": [
       "\n",
       "A data.frame: 15 × 4\n",
       "\n",
       "| <!--/--> | ENSEMBL &lt;chr&gt; | SYMBOL &lt;chr&gt; | ENTREZID &lt;chr&gt; | GENENAME &lt;chr&gt; |\n",
       "|---|---|---|---|---|\n",
       "| 1 | ENSMMUG00000004852 | EEF1A1       | 716010    | eukaryotic translation elongation factor 1 alpha 1                                               |\n",
       "| 2 | ENSMMUG00000004852 | LOC100425937 | 100425937 | elongation factor 1-alpha 1                                                                      |\n",
       "| 4 | ENSMMUG00000022301 | AHNAK        | 718802    | AHNAK nucleoprotein                                                                              |\n",
       "| 5 | ENSMMUG00000011153 | ACTB         | 574285    | actin beta                                                                                       |\n",
       "| 6 | ENSMMUG00000056914 | MAMU-A3      | 699243    | major histocompatibility complex, class I, A                                                     |\n",
       "| 7 | ENSMMUG00000056914 | MAMU-A       | 711832    | major histocompatibility complex, class I, A                                                     |\n",
       "| 8 | ENSMMUG00000056914 | MAMU-AG      | 100187576 | major histocompatibility complex, class I, AG                                                    |\n",
       "| 9 | ENSMMUG00000060797 | B2M          | 712428    | beta-2-microglobulin                                                                             |\n",
       "| 11 | ENSMMUG00000013668 | FLNA         | 699524    | filamin A                                                                                        |\n",
       "| 12 | ENSMMUG00000012969 | PSAP         | 709510    | prosaposin                                                                                       |\n",
       "| 13 | ENSMMUG00000054038 | LOC694372    | 694372    | class I histocompatibility antigen, Gogo-B*0103 alpha chain-like                                 |\n",
       "| 14 | ENSMMUG00000054038 | LOC106996627 | 106996627 | HLA class I histocompatibility antigen, B-15 alpha chain-like                                    |\n",
       "| 15 | ENSMMUG00000009425 | <!----> | 705671    | actin, cytoplasmic 2-like [Source:NCBI gene (formerly Entrezgene);Acc:705671]                    |\n",
       "| 21 | ENSMMUG00000055242 | MAMU-E       | 711532    | major histocompatibility complex, class I, E [Source:NCBI gene (formerly Entrezgene);Acc:711532] |\n",
       "| 151 | test               | NA           | NA        | NA                                                                                               |\n",
       "\n"
      ],
      "text/plain": [
       "    ENSEMBL            SYMBOL       ENTREZID \n",
       "1   ENSMMUG00000004852 EEF1A1       716010   \n",
       "2   ENSMMUG00000004852 LOC100425937 100425937\n",
       "4   ENSMMUG00000022301 AHNAK        718802   \n",
       "5   ENSMMUG00000011153 ACTB         574285   \n",
       "6   ENSMMUG00000056914 MAMU-A3      699243   \n",
       "7   ENSMMUG00000056914 MAMU-A       711832   \n",
       "8   ENSMMUG00000056914 MAMU-AG      100187576\n",
       "9   ENSMMUG00000060797 B2M          712428   \n",
       "11  ENSMMUG00000013668 FLNA         699524   \n",
       "12  ENSMMUG00000012969 PSAP         709510   \n",
       "13  ENSMMUG00000054038 LOC694372    694372   \n",
       "14  ENSMMUG00000054038 LOC106996627 106996627\n",
       "15  ENSMMUG00000009425              705671   \n",
       "21  ENSMMUG00000055242 MAMU-E       711532   \n",
       "151 test               NA           NA       \n",
       "    GENENAME                                                                                        \n",
       "1   eukaryotic translation elongation factor 1 alpha 1                                              \n",
       "2   elongation factor 1-alpha 1                                                                     \n",
       "4   AHNAK nucleoprotein                                                                             \n",
       "5   actin beta                                                                                      \n",
       "6   major histocompatibility complex, class I, A                                                    \n",
       "7   major histocompatibility complex, class I, A                                                    \n",
       "8   major histocompatibility complex, class I, AG                                                   \n",
       "9   beta-2-microglobulin                                                                            \n",
       "11  filamin A                                                                                       \n",
       "12  prosaposin                                                                                      \n",
       "13  class I histocompatibility antigen, Gogo-B*0103 alpha chain-like                                \n",
       "14  HLA class I histocompatibility antigen, B-15 alpha chain-like                                   \n",
       "15  actin, cytoplasmic 2-like [Source:NCBI gene (formerly Entrezgene);Acc:705671]                   \n",
       "21  major histocompatibility complex, class I, E [Source:NCBI gene (formerly Entrezgene);Acc:711532]\n",
       "151 NA                                                                                              "
      ]
     },
     "metadata": {},
     "output_type": "display_data"
    }
   ],
   "source": [
    "rbind(ann3, not_found)"
   ]
  },
  {
   "cell_type": "code",
   "execution_count": null,
   "metadata": {},
   "outputs": [],
   "source": []
  },
  {
   "cell_type": "code",
   "execution_count": null,
   "metadata": {},
   "outputs": [],
   "source": []
  },
  {
   "cell_type": "code",
   "execution_count": null,
   "metadata": {},
   "outputs": [],
   "source": []
  },
  {
   "cell_type": "code",
   "execution_count": null,
   "metadata": {},
   "outputs": [],
   "source": []
  },
  {
   "cell_type": "code",
   "execution_count": null,
   "metadata": {},
   "outputs": [],
   "source": [
    "fgsea_lg_tr <- function(df){\n",
    "        \n",
    "    not_annot = NULL\n",
    "    annot_else = NULL\n",
    "    fgsea_ledGenes_ENTREZ_h = NULL\n",
    "    out_list = NULL\n",
    "    \n",
    "    fgsea_h <- fgsea_lg_an(df, from, to)\n",
    "    \n",
    "    fgsea_ledGenes <- conv_ids_cp(fgsea_h$SYMBOL, \"SYMBOL\",c(\"ENTREZID\",\"ENSEMBL\",\"GENENAME\"), \"org.Mmu.eg.db\")    \n",
    "    fgsea_ledGenes_ENTREZ_h <- merge(fgsea_h,fgsea_ledGenes, by.x  = \"SYMBOL\", by.y=\"SYMBOL\")\n",
    "    \n",
    "    \n",
    "    not_annot <- outersect(fgsea_h$ENTREZID,fgsea_ledGenes_ENTREZ_h$ENTREZID.x)\n",
    "    colnames(fgsea_ledGenes_ENTREZ_h) <- c(\"SYMBOL\", \"ENTREZID_h\",\"ENTREZID_m\", \"ENSEMBL\",\"GENENAME\")\n",
    "    \n",
    "    if (is.null(not_annot) == 0){\n",
    "        out_list <- list(\"fgsea_out\" = fgsea, \"fgsea_leadingGenes\" = fgsea_ledGenes_ENTREZ_h)\n",
    "    \n",
    "    } else if (length(not_annot) >0){\n",
    "\n",
    "        annot_else <- getBM(attributes=c( \"external_gene_name\", 'entrezgene_id',\"description\"), \n",
    "        filters = \"entrezgene_id\",\n",
    "          values = not_annot, \n",
    "          mart = ensembl1)\n",
    "\n",
    "        annot_else[,4] <- hum_hom[hum_hom$Human %in% annot_else$entrezgene_id,1]\n",
    "        colnames(annot_else) <- c(\"SYMBOL\", \"ENTREZID_h\", \"GENENAME\",\"ENTREZID_m\")\n",
    "\n",
    "        annot_else <- merge(conv_ids_cp(annot_else$ENTREZID_m, \"ENTREZID\",c(\"ENSEMBL\"),\"org.Mmu.eg.db\"),\n",
    "                            annot_else, by.x  = \"ENTREZID\", by.y=\"ENTREZID_m\")\n",
    "        colnames(annot_else) <- c(\"ENTREZID_m\", \"ENSEMBL\", \"SYMBOL\", \"ENTREZID_h\", \"GENENAME\")\n",
    "            if (is.null(annot_else)){\n",
    "                out_list <- list(\"fgsea_out\" = fgsea, \"fgsea_leadingGenes\" = fgsea_ledGenes_ENTREZ_h)\n",
    "            } else if (nrow(annot_else)>0){\n",
    "                fgsea_ledGenes_ENTREZ_h <- rbind(fgsea_ledGenes_ENTREZ_h, annot_else[,c(3,4,1,2,5)])\n",
    "                out_list <- list(\"fgsea_out\" = fgsea, \"fgsea_leadingGenes\" = fgsea_ledGenes_ENTREZ_h)\n",
    "            }\n",
    "    }\n",
    "\n",
    "    return(out_list)\n",
    "}"
   ]
  },
  {
   "cell_type": "code",
   "execution_count": null,
   "metadata": {
    "code_folding": []
   },
   "outputs": [],
   "source": [
    "ann1 <- conv_ids_cp(rownames(dataNorm_df[1:10,]), \"ENSEMBL\", c(\"SYMBOL\",\"ENTREZID\",\"GENENAME\"), \"org.Mmu.eg.db\")\n",
    "not_annot <- outersect(ann1$ENSEMBL, rownames(dataNorm_df[1:10,]))\n",
    "if (is.null(not_annot) == 0){\n",
    "        return(ann1)\n",
    "} else if (length(not_annot) >0){\n",
    "        ann2 <- conv_ids_mart(not_annot, \"mmulatta_gene_ensembl\")\n",
    "        if (is.null(ann2)){\n",
    "            return(ann1)\n",
    "        } else if (nrow(annot_else)>0){\n",
    "            colnames(ann2) <- colnames(ann1)\n",
    "            ann3 <- rbind(ann1,ann2)\n",
    "    }\n",
    "not_found <- outersect(ann3$ENSEMBL, rownames(dataNorm_df[1:10,]))\n",
    "if (is.null(not_annot) == 0){\n",
    "     return(ann3)\n",
    "} else if (nrow(ann3)>0){\n",
    "    #not_found <-\"test\"\n",
    "    #not_found \n",
    "    #nas <- rep(NA,each=ncol(ann3)-1)\n",
    "    #not_found <- c(not_found,nas)\n",
    "    #not_found\n",
    "    ann3 <- rbind(ann3, c(not_found,rep(NA,each=ncol(ann3)-1)))\n",
    "}\n",
    "return(ann3)"
   ]
  },
  {
   "cell_type": "code",
   "execution_count": 164,
   "metadata": {},
   "outputs": [
    {
     "data": {
      "text/html": [
       "<pre class=language-r><code>function (input, mart) \n",
       "{\n",
       "<span style=white-space:pre-wrap>    ensembl = useMart(\"ensembl\")</span>\n",
       "<span style=white-space:pre-wrap>    ensembl_used = useDataset(mart, mart = ensembl)</span>\n",
       "<span style=white-space:pre-wrap>    getBM(attributes = c(\"ensembl_gene_id\", \"external_gene_name\", </span>\n",
       "<span style=white-space:pre-wrap>        \"entrezgene_id\", \"description\"), filters = \"ensembl_gene_id\", </span>\n",
       "<span style=white-space:pre-wrap>        values = input, mart = ensembl_used)</span>\n",
       "}</code></pre>"
      ],
      "text/latex": [
       "\\begin{minted}{r}\n",
       "function (input, mart) \n",
       "\\{\n",
       "    ensembl = useMart(\"ensembl\")\n",
       "    ensembl\\_used = useDataset(mart, mart = ensembl)\n",
       "    getBM(attributes = c(\"ensembl\\_gene\\_id\", \"external\\_gene\\_name\", \n",
       "        \"entrezgene\\_id\", \"description\"), filters = \"ensembl\\_gene\\_id\", \n",
       "        values = input, mart = ensembl\\_used)\n",
       "\\}\n",
       "\\end{minted}"
      ],
      "text/markdown": [
       "```r\n",
       "function (input, mart) \n",
       "{\n",
       "    ensembl = useMart(\"ensembl\")\n",
       "    ensembl_used = useDataset(mart, mart = ensembl)\n",
       "    getBM(attributes = c(\"ensembl_gene_id\", \"external_gene_name\", \n",
       "        \"entrezgene_id\", \"description\"), filters = \"ensembl_gene_id\", \n",
       "        values = input, mart = ensembl_used)\n",
       "}\n",
       "```"
      ],
      "text/plain": [
       "function (input, mart) \n",
       "{\n",
       "    ensembl = useMart(\"ensembl\")\n",
       "    ensembl_used = useDataset(mart, mart = ensembl)\n",
       "    getBM(attributes = c(\"ensembl_gene_id\", \"external_gene_name\", \n",
       "        \"entrezgene_id\", \"description\"), filters = \"ensembl_gene_id\", \n",
       "        values = input, mart = ensembl_used)\n",
       "}\n",
       "<bytecode: 0x7f5770977e88>\n",
       "<environment: namespace:bioEAT>"
      ]
     },
     "metadata": {},
     "output_type": "display_data"
    }
   ],
   "source": [
    "conv_ids_mart"
   ]
  },
  {
   "cell_type": "code",
   "execution_count": 162,
   "metadata": {},
   "outputs": [
    {
     "name": "stderr",
     "output_type": "stream",
     "text": [
      "'select()' returned 1:many mapping between keys and columns\n",
      "\n",
      "Warning message in bitr(myGenes, fromType = from, toType = to, OrgDb = db):\n",
      "“20% of input gene IDs are fail to map...”\n",
      "Cache found\n",
      "\n"
     ]
    },
    {
     "data": {
      "text/plain": [
       "NULL"
      ]
     },
     "metadata": {},
     "output_type": "display_data"
    },
    {
     "data": {
      "text/plain": [
       "NULL"
      ]
     },
     "metadata": {},
     "output_type": "display_data"
    },
    {
     "data": {
      "text/plain": [
       "NULL"
      ]
     },
     "metadata": {},
     "output_type": "display_data"
    },
    {
     "name": "stdout",
     "output_type": "stream",
     "text": [
      "[1] \"5\"\n",
      "[1] \"4\"\n"
     ]
    },
    {
     "data": {
      "text/html": [
       "<table>\n",
       "<caption>A data.frame: 15 × 4</caption>\n",
       "<thead>\n",
       "\t<tr><th></th><th scope=col>ENSEMBL</th><th scope=col>SYMBOL</th><th scope=col>ENTREZID</th><th scope=col>GENENAME</th></tr>\n",
       "\t<tr><th></th><th scope=col>&lt;chr&gt;</th><th scope=col>&lt;chr&gt;</th><th scope=col>&lt;chr&gt;</th><th scope=col>&lt;chr&gt;</th></tr>\n",
       "</thead>\n",
       "<tbody>\n",
       "\t<tr><th scope=row>1</th><td>ENSMMUG00000004852</td><td>EEF1A1      </td><td>716010   </td><td>eukaryotic translation elongation factor 1 alpha 1                                              </td></tr>\n",
       "\t<tr><th scope=row>2</th><td>ENSMMUG00000004852</td><td>LOC100425937</td><td>100425937</td><td>elongation factor 1-alpha 1                                                                     </td></tr>\n",
       "\t<tr><th scope=row>4</th><td>ENSMMUG00000022301</td><td>AHNAK       </td><td>718802   </td><td>AHNAK nucleoprotein                                                                             </td></tr>\n",
       "\t<tr><th scope=row>5</th><td>ENSMMUG00000011153</td><td>ACTB        </td><td>574285   </td><td>actin beta                                                                                      </td></tr>\n",
       "\t<tr><th scope=row>6</th><td>ENSMMUG00000056914</td><td>MAMU-A3     </td><td>699243   </td><td>major histocompatibility complex, class I, A                                                    </td></tr>\n",
       "\t<tr><th scope=row>7</th><td>ENSMMUG00000056914</td><td>MAMU-A      </td><td>711832   </td><td>major histocompatibility complex, class I, A                                                    </td></tr>\n",
       "\t<tr><th scope=row>8</th><td>ENSMMUG00000056914</td><td>MAMU-AG     </td><td>100187576</td><td>major histocompatibility complex, class I, AG                                                   </td></tr>\n",
       "\t<tr><th scope=row>9</th><td>ENSMMUG00000060797</td><td>B2M         </td><td>712428   </td><td>beta-2-microglobulin                                                                            </td></tr>\n",
       "\t<tr><th scope=row>11</th><td>ENSMMUG00000013668</td><td>FLNA        </td><td>699524   </td><td>filamin A                                                                                       </td></tr>\n",
       "\t<tr><th scope=row>12</th><td>ENSMMUG00000012969</td><td>PSAP        </td><td>709510   </td><td>prosaposin                                                                                      </td></tr>\n",
       "\t<tr><th scope=row>13</th><td>ENSMMUG00000054038</td><td>LOC694372   </td><td>694372   </td><td>class I histocompatibility antigen, Gogo-B*0103 alpha chain-like                                </td></tr>\n",
       "\t<tr><th scope=row>14</th><td>ENSMMUG00000054038</td><td>LOC106996627</td><td>106996627</td><td>HLA class I histocompatibility antigen, B-15 alpha chain-like                                   </td></tr>\n",
       "\t<tr><th scope=row>15</th><td>ENSMMUG00000009425</td><td>            </td><td>705671   </td><td>actin, cytoplasmic 2-like [Source:NCBI gene (formerly Entrezgene);Acc:705671]                   </td></tr>\n",
       "\t<tr><th scope=row>21</th><td>ENSMMUG00000055242</td><td>MAMU-E      </td><td>711532   </td><td>major histocompatibility complex, class I, E [Source:NCBI gene (formerly Entrezgene);Acc:711532]</td></tr>\n",
       "\t<tr><th scope=row>151</th><td>test              </td><td>NA          </td><td>NA       </td><td>NA                                                                                              </td></tr>\n",
       "</tbody>\n",
       "</table>\n"
      ],
      "text/latex": [
       "A data.frame: 15 × 4\n",
       "\\begin{tabular}{r|llll}\n",
       "  & ENSEMBL & SYMBOL & ENTREZID & GENENAME\\\\\n",
       "  & <chr> & <chr> & <chr> & <chr>\\\\\n",
       "\\hline\n",
       "\t1 & ENSMMUG00000004852 & EEF1A1       & 716010    & eukaryotic translation elongation factor 1 alpha 1                                              \\\\\n",
       "\t2 & ENSMMUG00000004852 & LOC100425937 & 100425937 & elongation factor 1-alpha 1                                                                     \\\\\n",
       "\t4 & ENSMMUG00000022301 & AHNAK        & 718802    & AHNAK nucleoprotein                                                                             \\\\\n",
       "\t5 & ENSMMUG00000011153 & ACTB         & 574285    & actin beta                                                                                      \\\\\n",
       "\t6 & ENSMMUG00000056914 & MAMU-A3      & 699243    & major histocompatibility complex, class I, A                                                    \\\\\n",
       "\t7 & ENSMMUG00000056914 & MAMU-A       & 711832    & major histocompatibility complex, class I, A                                                    \\\\\n",
       "\t8 & ENSMMUG00000056914 & MAMU-AG      & 100187576 & major histocompatibility complex, class I, AG                                                   \\\\\n",
       "\t9 & ENSMMUG00000060797 & B2M          & 712428    & beta-2-microglobulin                                                                            \\\\\n",
       "\t11 & ENSMMUG00000013668 & FLNA         & 699524    & filamin A                                                                                       \\\\\n",
       "\t12 & ENSMMUG00000012969 & PSAP         & 709510    & prosaposin                                                                                      \\\\\n",
       "\t13 & ENSMMUG00000054038 & LOC694372    & 694372    & class I histocompatibility antigen, Gogo-B*0103 alpha chain-like                                \\\\\n",
       "\t14 & ENSMMUG00000054038 & LOC106996627 & 106996627 & HLA class I histocompatibility antigen, B-15 alpha chain-like                                   \\\\\n",
       "\t15 & ENSMMUG00000009425 &              & 705671    & actin, cytoplasmic 2-like {[}Source:NCBI gene (formerly Entrezgene);Acc:705671{]}                   \\\\\n",
       "\t21 & ENSMMUG00000055242 & MAMU-E       & 711532    & major histocompatibility complex, class I, E {[}Source:NCBI gene (formerly Entrezgene);Acc:711532{]}\\\\\n",
       "\t151 & test               & NA           & NA        & NA                                                                                              \\\\\n",
       "\\end{tabular}\n"
      ],
      "text/markdown": [
       "\n",
       "A data.frame: 15 × 4\n",
       "\n",
       "| <!--/--> | ENSEMBL &lt;chr&gt; | SYMBOL &lt;chr&gt; | ENTREZID &lt;chr&gt; | GENENAME &lt;chr&gt; |\n",
       "|---|---|---|---|---|\n",
       "| 1 | ENSMMUG00000004852 | EEF1A1       | 716010    | eukaryotic translation elongation factor 1 alpha 1                                               |\n",
       "| 2 | ENSMMUG00000004852 | LOC100425937 | 100425937 | elongation factor 1-alpha 1                                                                      |\n",
       "| 4 | ENSMMUG00000022301 | AHNAK        | 718802    | AHNAK nucleoprotein                                                                              |\n",
       "| 5 | ENSMMUG00000011153 | ACTB         | 574285    | actin beta                                                                                       |\n",
       "| 6 | ENSMMUG00000056914 | MAMU-A3      | 699243    | major histocompatibility complex, class I, A                                                     |\n",
       "| 7 | ENSMMUG00000056914 | MAMU-A       | 711832    | major histocompatibility complex, class I, A                                                     |\n",
       "| 8 | ENSMMUG00000056914 | MAMU-AG      | 100187576 | major histocompatibility complex, class I, AG                                                    |\n",
       "| 9 | ENSMMUG00000060797 | B2M          | 712428    | beta-2-microglobulin                                                                             |\n",
       "| 11 | ENSMMUG00000013668 | FLNA         | 699524    | filamin A                                                                                        |\n",
       "| 12 | ENSMMUG00000012969 | PSAP         | 709510    | prosaposin                                                                                       |\n",
       "| 13 | ENSMMUG00000054038 | LOC694372    | 694372    | class I histocompatibility antigen, Gogo-B*0103 alpha chain-like                                 |\n",
       "| 14 | ENSMMUG00000054038 | LOC106996627 | 106996627 | HLA class I histocompatibility antigen, B-15 alpha chain-like                                    |\n",
       "| 15 | ENSMMUG00000009425 | <!----> | 705671    | actin, cytoplasmic 2-like [Source:NCBI gene (formerly Entrezgene);Acc:705671]                    |\n",
       "| 21 | ENSMMUG00000055242 | MAMU-E       | 711532    | major histocompatibility complex, class I, E [Source:NCBI gene (formerly Entrezgene);Acc:711532] |\n",
       "| 151 | test               | NA           | NA        | NA                                                                                               |\n",
       "\n"
      ],
      "text/plain": [
       "    ENSEMBL            SYMBOL       ENTREZID \n",
       "1   ENSMMUG00000004852 EEF1A1       716010   \n",
       "2   ENSMMUG00000004852 LOC100425937 100425937\n",
       "4   ENSMMUG00000022301 AHNAK        718802   \n",
       "5   ENSMMUG00000011153 ACTB         574285   \n",
       "6   ENSMMUG00000056914 MAMU-A3      699243   \n",
       "7   ENSMMUG00000056914 MAMU-A       711832   \n",
       "8   ENSMMUG00000056914 MAMU-AG      100187576\n",
       "9   ENSMMUG00000060797 B2M          712428   \n",
       "11  ENSMMUG00000013668 FLNA         699524   \n",
       "12  ENSMMUG00000012969 PSAP         709510   \n",
       "13  ENSMMUG00000054038 LOC694372    694372   \n",
       "14  ENSMMUG00000054038 LOC106996627 106996627\n",
       "15  ENSMMUG00000009425              705671   \n",
       "21  ENSMMUG00000055242 MAMU-E       711532   \n",
       "151 test               NA           NA       \n",
       "    GENENAME                                                                                        \n",
       "1   eukaryotic translation elongation factor 1 alpha 1                                              \n",
       "2   elongation factor 1-alpha 1                                                                     \n",
       "4   AHNAK nucleoprotein                                                                             \n",
       "5   actin beta                                                                                      \n",
       "6   major histocompatibility complex, class I, A                                                    \n",
       "7   major histocompatibility complex, class I, A                                                    \n",
       "8   major histocompatibility complex, class I, AG                                                   \n",
       "9   beta-2-microglobulin                                                                            \n",
       "11  filamin A                                                                                       \n",
       "12  prosaposin                                                                                      \n",
       "13  class I histocompatibility antigen, Gogo-B*0103 alpha chain-like                                \n",
       "14  HLA class I histocompatibility antigen, B-15 alpha chain-like                                   \n",
       "15  actin, cytoplasmic 2-like [Source:NCBI gene (formerly Entrezgene);Acc:705671]                   \n",
       "21  major histocompatibility complex, class I, E [Source:NCBI gene (formerly Entrezgene);Acc:711532]\n",
       "151 NA                                                                                              "
      ]
     },
     "metadata": {},
     "output_type": "display_data"
    }
   ],
   "source": [
    "conv_ods_full <- function(input, db_cluster_profiler, mart){ \n",
    "    ann1 <- NULL\n",
    "    ann2 <- NULL\n",
    "    ann3 <- NULL\n",
    "    not_found <- NULL\n",
    "    not_annot <- NULL\n",
    "\n",
    "    ann1 <- conv_ids_cp(input, \"ENSEMBL\", c(\"SYMBOL\",\"ENTREZID\",\"GENENAME\"), db_cluster_profiler)\n",
    "    not_annot <- outersect(ann1$ENSEMBL, input)\n",
    "    if (is.null(not_annot)){\n",
    "        return(ann1)\n",
    "    } else {\n",
    "            ann2 <- conv_ids_mart(not_annot, mart)\n",
    "            if (is.null(ann2)){\n",
    "                return(ann1)\n",
    "            } else {\n",
    "                colnames(ann2) <- colnames(ann1)\n",
    "                ann3 <- rbind(ann1,ann2)\n",
    "        }\n",
    "        }\n",
    "\n",
    "    not_found <- outersect(ann3$ENSEMBL, input)\n",
    "\n",
    "    if (is.null(not_found)){\n",
    "        return(ann3)\n",
    "    } else {\n",
    "\n",
    "        ann3 <- rbind(ann3, c(not_found,rep(NA,each=ncol(ann3)-1)))\n",
    "    }\n",
    "    return(ann3)\n",
    "}"
   ]
  },
  {
   "cell_type": "code",
   "execution_count": 215,
   "metadata": {},
   "outputs": [],
   "source": [
    "conv_ids_test <- function(input, db_cluster_profiler, from_cluster_profiler, mart, from_mart){ \n",
    "    ann1 <- NULL\n",
    "    ann2 <- NULL\n",
    "    ann3 <- NULL\n",
    "    not_found <- NULL\n",
    "    not_annot <- NULL\n",
    "    column_to_compare <- from_cluster_profiler\n",
    "\n",
    "    ann1 <- conv_ids_cp(input, from_cluster_profiler, c(\"ENSEMBL\",\"SYMBOL\",\"ENTREZID\",\"GENENAME\"), db_cluster_profiler)\n",
    "    ann1 <- ann1[c(\"ENSEMBL\",\"SYMBOL\",\"ENTREZID\",\"GENENAME\")]\n",
    "    not_annot <- outersect(ann1$column_to_compare, input)\n",
    "    if (is.null(not_annot)){\n",
    "        print(1)\n",
    "        #return(ann1)\n",
    "    } else {\n",
    "            ann2 <- conv_ids_mart(not_annot, mart, from_mart,\n",
    "                                  c(\"ensembl_gene_id\",\"external_gene_name\", 'entrezgene_id',\"description\"))\n",
    "            if (is.null(ann2)){\n",
    "                print(2)\n",
    "                #return(ann1)\n",
    "            } else {\n",
    "                colnames(ann2) <- colnames(ann1)\n",
    "                ann3 <- rbind(ann1,ann2)\n",
    "        }\n",
    "        }\n",
    "\n",
    "    not_found <- outersect(ann3$column_to_compare, input)\n",
    "\n",
    "    if (is.null(not_found)){\n",
    "        print(3)\n",
    "        #return(ann3)\n",
    "    } else {\n",
    "        print(4)\n",
    "        for (i in not_found){\n",
    "        ann3 <- rbind(ann3, c(i,rep(NA,each=ncol(ann3)-1)))\n",
    "        }\n",
    "    }\n",
    "    print(5)\n",
    "    return(ann3)\n",
    "}"
   ]
  },
  {
   "cell_type": "code",
   "execution_count": 216,
   "metadata": {},
   "outputs": [
    {
     "name": "stderr",
     "output_type": "stream",
     "text": [
      "'select()' returned 1:many mapping between keys and columns\n",
      "\n",
      "Cache found\n",
      "\n"
     ]
    },
    {
     "name": "stdout",
     "output_type": "stream",
     "text": [
      "[1] 4\n",
      "[1] 5\n"
     ]
    },
    {
     "data": {
      "text/html": [
       "<table>\n",
       "<caption>A data.frame: 7 × 4</caption>\n",
       "<thead>\n",
       "\t<tr><th scope=col>ENSEMBL</th><th scope=col>SYMBOL</th><th scope=col>ENTREZID</th><th scope=col>GENENAME</th></tr>\n",
       "\t<tr><th scope=col>&lt;chr&gt;</th><th scope=col>&lt;chr&gt;</th><th scope=col>&lt;chr&gt;</th><th scope=col>&lt;chr&gt;</th></tr>\n",
       "</thead>\n",
       "<tbody>\n",
       "\t<tr><td>ENSMMUG00000004852</td><td>EEF1A1</td><td>716010</td><td>eukaryotic translation elongation factor 1 alpha 1                                              </td></tr>\n",
       "\t<tr><td>ENSMMUG00000039470</td><td>MAMU-E</td><td>711532</td><td>major histocompatibility complex, class I, E                                                    </td></tr>\n",
       "\t<tr><td>ENSMMUG00000039519</td><td>MAMU-E</td><td>711532</td><td>major histocompatibility complex, class I, E                                                    </td></tr>\n",
       "\t<tr><td>ENSMMUG00000055242</td><td>MAMU-E</td><td>711532</td><td>major histocompatibility complex, class I, E [Source:NCBI gene (formerly Entrezgene);Acc:711532]</td></tr>\n",
       "\t<tr><td>ENSMMUG00000004852</td><td>EEF1A1</td><td>716010</td><td>eukaryotic translation elongation factor 1 alpha 1 [Source:VGNC Symbol;Acc:VGNC:81065]          </td></tr>\n",
       "\t<tr><td>711532            </td><td>NA    </td><td>NA    </td><td>NA                                                                                              </td></tr>\n",
       "\t<tr><td>716010            </td><td>NA    </td><td>NA    </td><td>NA                                                                                              </td></tr>\n",
       "</tbody>\n",
       "</table>\n"
      ],
      "text/latex": [
       "A data.frame: 7 × 4\n",
       "\\begin{tabular}{llll}\n",
       " ENSEMBL & SYMBOL & ENTREZID & GENENAME\\\\\n",
       " <chr> & <chr> & <chr> & <chr>\\\\\n",
       "\\hline\n",
       "\t ENSMMUG00000004852 & EEF1A1 & 716010 & eukaryotic translation elongation factor 1 alpha 1                                              \\\\\n",
       "\t ENSMMUG00000039470 & MAMU-E & 711532 & major histocompatibility complex, class I, E                                                    \\\\\n",
       "\t ENSMMUG00000039519 & MAMU-E & 711532 & major histocompatibility complex, class I, E                                                    \\\\\n",
       "\t ENSMMUG00000055242 & MAMU-E & 711532 & major histocompatibility complex, class I, E {[}Source:NCBI gene (formerly Entrezgene);Acc:711532{]}\\\\\n",
       "\t ENSMMUG00000004852 & EEF1A1 & 716010 & eukaryotic translation elongation factor 1 alpha 1 {[}Source:VGNC Symbol;Acc:VGNC:81065{]}          \\\\\n",
       "\t 711532             & NA     & NA     & NA                                                                                              \\\\\n",
       "\t 716010             & NA     & NA     & NA                                                                                              \\\\\n",
       "\\end{tabular}\n"
      ],
      "text/markdown": [
       "\n",
       "A data.frame: 7 × 4\n",
       "\n",
       "| ENSEMBL &lt;chr&gt; | SYMBOL &lt;chr&gt; | ENTREZID &lt;chr&gt; | GENENAME &lt;chr&gt; |\n",
       "|---|---|---|---|\n",
       "| ENSMMUG00000004852 | EEF1A1 | 716010 | eukaryotic translation elongation factor 1 alpha 1                                               |\n",
       "| ENSMMUG00000039470 | MAMU-E | 711532 | major histocompatibility complex, class I, E                                                     |\n",
       "| ENSMMUG00000039519 | MAMU-E | 711532 | major histocompatibility complex, class I, E                                                     |\n",
       "| ENSMMUG00000055242 | MAMU-E | 711532 | major histocompatibility complex, class I, E [Source:NCBI gene (formerly Entrezgene);Acc:711532] |\n",
       "| ENSMMUG00000004852 | EEF1A1 | 716010 | eukaryotic translation elongation factor 1 alpha 1 [Source:VGNC Symbol;Acc:VGNC:81065]           |\n",
       "| 711532             | NA     | NA     | NA                                                                                               |\n",
       "| 716010             | NA     | NA     | NA                                                                                               |\n",
       "\n"
      ],
      "text/plain": [
       "  ENSEMBL            SYMBOL ENTREZID\n",
       "1 ENSMMUG00000004852 EEF1A1 716010  \n",
       "2 ENSMMUG00000039470 MAMU-E 711532  \n",
       "3 ENSMMUG00000039519 MAMU-E 711532  \n",
       "4 ENSMMUG00000055242 MAMU-E 711532  \n",
       "5 ENSMMUG00000004852 EEF1A1 716010  \n",
       "6 711532             NA     NA      \n",
       "7 716010             NA     NA      \n",
       "  GENENAME                                                                                        \n",
       "1 eukaryotic translation elongation factor 1 alpha 1                                              \n",
       "2 major histocompatibility complex, class I, E                                                    \n",
       "3 major histocompatibility complex, class I, E                                                    \n",
       "4 major histocompatibility complex, class I, E [Source:NCBI gene (formerly Entrezgene);Acc:711532]\n",
       "5 eukaryotic translation elongation factor 1 alpha 1 [Source:VGNC Symbol;Acc:VGNC:81065]          \n",
       "6 NA                                                                                              \n",
       "7 NA                                                                                              "
      ]
     },
     "metadata": {},
     "output_type": "display_data"
    }
   ],
   "source": [
    "conv_ids_test(c(716010,711532), \"org.Mmu.eg.db\", \"ENTREZID\", \"mmulatta_gene_ensembl\", \"entrezgene_id\")"
   ]
  },
  {
   "cell_type": "code",
   "execution_count": 188,
   "metadata": {},
   "outputs": [
    {
     "name": "stderr",
     "output_type": "stream",
     "text": [
      "'select()' returned 1:many mapping between keys and columns\n",
      "\n",
      "Warning message in bitr(myGenes, fromType = from, toType = to, OrgDb = db):\n",
      "“20% of input gene IDs are fail to map...”\n",
      "Cache found\n",
      "\n"
     ]
    },
    {
     "name": "stdout",
     "output_type": "stream",
     "text": [
      "[1] 3\n",
      "[1] 5\n"
     ]
    },
    {
     "data": {
      "text/html": [
       "<table>\n",
       "<caption>A data.frame: 14 × 4</caption>\n",
       "<thead>\n",
       "\t<tr><th></th><th scope=col>ENSEMBL</th><th scope=col>SYMBOL</th><th scope=col>ENTREZID</th><th scope=col>GENENAME</th></tr>\n",
       "\t<tr><th></th><th scope=col>&lt;chr&gt;</th><th scope=col>&lt;chr&gt;</th><th scope=col>&lt;chr&gt;</th><th scope=col>&lt;chr&gt;</th></tr>\n",
       "</thead>\n",
       "<tbody>\n",
       "\t<tr><th scope=row>1</th><td>ENSMMUG00000004852</td><td>EEF1A1      </td><td>716010   </td><td>eukaryotic translation elongation factor 1 alpha 1                                              </td></tr>\n",
       "\t<tr><th scope=row>2</th><td>ENSMMUG00000004852</td><td>LOC100425937</td><td>100425937</td><td>elongation factor 1-alpha 1                                                                     </td></tr>\n",
       "\t<tr><th scope=row>4</th><td>ENSMMUG00000022301</td><td>AHNAK       </td><td>718802   </td><td>AHNAK nucleoprotein                                                                             </td></tr>\n",
       "\t<tr><th scope=row>5</th><td>ENSMMUG00000011153</td><td>ACTB        </td><td>574285   </td><td>actin beta                                                                                      </td></tr>\n",
       "\t<tr><th scope=row>6</th><td>ENSMMUG00000056914</td><td>MAMU-A3     </td><td>699243   </td><td>major histocompatibility complex, class I, A                                                    </td></tr>\n",
       "\t<tr><th scope=row>7</th><td>ENSMMUG00000056914</td><td>MAMU-A      </td><td>711832   </td><td>major histocompatibility complex, class I, A                                                    </td></tr>\n",
       "\t<tr><th scope=row>8</th><td>ENSMMUG00000056914</td><td>MAMU-AG     </td><td>100187576</td><td>major histocompatibility complex, class I, AG                                                   </td></tr>\n",
       "\t<tr><th scope=row>9</th><td>ENSMMUG00000060797</td><td>B2M         </td><td>712428   </td><td>beta-2-microglobulin                                                                            </td></tr>\n",
       "\t<tr><th scope=row>11</th><td>ENSMMUG00000013668</td><td>FLNA        </td><td>699524   </td><td>filamin A                                                                                       </td></tr>\n",
       "\t<tr><th scope=row>12</th><td>ENSMMUG00000012969</td><td>PSAP        </td><td>709510   </td><td>prosaposin                                                                                      </td></tr>\n",
       "\t<tr><th scope=row>13</th><td>ENSMMUG00000054038</td><td>LOC694372   </td><td>694372   </td><td>class I histocompatibility antigen, Gogo-B*0103 alpha chain-like                                </td></tr>\n",
       "\t<tr><th scope=row>14</th><td>ENSMMUG00000054038</td><td>LOC106996627</td><td>106996627</td><td>HLA class I histocompatibility antigen, B-15 alpha chain-like                                   </td></tr>\n",
       "\t<tr><th scope=row>15</th><td>ENSMMUG00000009425</td><td>            </td><td>705671   </td><td>actin, cytoplasmic 2-like [Source:NCBI gene (formerly Entrezgene);Acc:705671]                   </td></tr>\n",
       "\t<tr><th scope=row>21</th><td>ENSMMUG00000055242</td><td>MAMU-E      </td><td>711532   </td><td>major histocompatibility complex, class I, E [Source:NCBI gene (formerly Entrezgene);Acc:711532]</td></tr>\n",
       "</tbody>\n",
       "</table>\n"
      ],
      "text/latex": [
       "A data.frame: 14 × 4\n",
       "\\begin{tabular}{r|llll}\n",
       "  & ENSEMBL & SYMBOL & ENTREZID & GENENAME\\\\\n",
       "  & <chr> & <chr> & <chr> & <chr>\\\\\n",
       "\\hline\n",
       "\t1 & ENSMMUG00000004852 & EEF1A1       & 716010    & eukaryotic translation elongation factor 1 alpha 1                                              \\\\\n",
       "\t2 & ENSMMUG00000004852 & LOC100425937 & 100425937 & elongation factor 1-alpha 1                                                                     \\\\\n",
       "\t4 & ENSMMUG00000022301 & AHNAK        & 718802    & AHNAK nucleoprotein                                                                             \\\\\n",
       "\t5 & ENSMMUG00000011153 & ACTB         & 574285    & actin beta                                                                                      \\\\\n",
       "\t6 & ENSMMUG00000056914 & MAMU-A3      & 699243    & major histocompatibility complex, class I, A                                                    \\\\\n",
       "\t7 & ENSMMUG00000056914 & MAMU-A       & 711832    & major histocompatibility complex, class I, A                                                    \\\\\n",
       "\t8 & ENSMMUG00000056914 & MAMU-AG      & 100187576 & major histocompatibility complex, class I, AG                                                   \\\\\n",
       "\t9 & ENSMMUG00000060797 & B2M          & 712428    & beta-2-microglobulin                                                                            \\\\\n",
       "\t11 & ENSMMUG00000013668 & FLNA         & 699524    & filamin A                                                                                       \\\\\n",
       "\t12 & ENSMMUG00000012969 & PSAP         & 709510    & prosaposin                                                                                      \\\\\n",
       "\t13 & ENSMMUG00000054038 & LOC694372    & 694372    & class I histocompatibility antigen, Gogo-B*0103 alpha chain-like                                \\\\\n",
       "\t14 & ENSMMUG00000054038 & LOC106996627 & 106996627 & HLA class I histocompatibility antigen, B-15 alpha chain-like                                   \\\\\n",
       "\t15 & ENSMMUG00000009425 &              & 705671    & actin, cytoplasmic 2-like {[}Source:NCBI gene (formerly Entrezgene);Acc:705671{]}                   \\\\\n",
       "\t21 & ENSMMUG00000055242 & MAMU-E       & 711532    & major histocompatibility complex, class I, E {[}Source:NCBI gene (formerly Entrezgene);Acc:711532{]}\\\\\n",
       "\\end{tabular}\n"
      ],
      "text/markdown": [
       "\n",
       "A data.frame: 14 × 4\n",
       "\n",
       "| <!--/--> | ENSEMBL &lt;chr&gt; | SYMBOL &lt;chr&gt; | ENTREZID &lt;chr&gt; | GENENAME &lt;chr&gt; |\n",
       "|---|---|---|---|---|\n",
       "| 1 | ENSMMUG00000004852 | EEF1A1       | 716010    | eukaryotic translation elongation factor 1 alpha 1                                               |\n",
       "| 2 | ENSMMUG00000004852 | LOC100425937 | 100425937 | elongation factor 1-alpha 1                                                                      |\n",
       "| 4 | ENSMMUG00000022301 | AHNAK        | 718802    | AHNAK nucleoprotein                                                                              |\n",
       "| 5 | ENSMMUG00000011153 | ACTB         | 574285    | actin beta                                                                                       |\n",
       "| 6 | ENSMMUG00000056914 | MAMU-A3      | 699243    | major histocompatibility complex, class I, A                                                     |\n",
       "| 7 | ENSMMUG00000056914 | MAMU-A       | 711832    | major histocompatibility complex, class I, A                                                     |\n",
       "| 8 | ENSMMUG00000056914 | MAMU-AG      | 100187576 | major histocompatibility complex, class I, AG                                                    |\n",
       "| 9 | ENSMMUG00000060797 | B2M          | 712428    | beta-2-microglobulin                                                                             |\n",
       "| 11 | ENSMMUG00000013668 | FLNA         | 699524    | filamin A                                                                                        |\n",
       "| 12 | ENSMMUG00000012969 | PSAP         | 709510    | prosaposin                                                                                       |\n",
       "| 13 | ENSMMUG00000054038 | LOC694372    | 694372    | class I histocompatibility antigen, Gogo-B*0103 alpha chain-like                                 |\n",
       "| 14 | ENSMMUG00000054038 | LOC106996627 | 106996627 | HLA class I histocompatibility antigen, B-15 alpha chain-like                                    |\n",
       "| 15 | ENSMMUG00000009425 | <!----> | 705671    | actin, cytoplasmic 2-like [Source:NCBI gene (formerly Entrezgene);Acc:705671]                    |\n",
       "| 21 | ENSMMUG00000055242 | MAMU-E       | 711532    | major histocompatibility complex, class I, E [Source:NCBI gene (formerly Entrezgene);Acc:711532] |\n",
       "\n"
      ],
      "text/plain": [
       "   ENSEMBL            SYMBOL       ENTREZID \n",
       "1  ENSMMUG00000004852 EEF1A1       716010   \n",
       "2  ENSMMUG00000004852 LOC100425937 100425937\n",
       "4  ENSMMUG00000022301 AHNAK        718802   \n",
       "5  ENSMMUG00000011153 ACTB         574285   \n",
       "6  ENSMMUG00000056914 MAMU-A3      699243   \n",
       "7  ENSMMUG00000056914 MAMU-A       711832   \n",
       "8  ENSMMUG00000056914 MAMU-AG      100187576\n",
       "9  ENSMMUG00000060797 B2M          712428   \n",
       "11 ENSMMUG00000013668 FLNA         699524   \n",
       "12 ENSMMUG00000012969 PSAP         709510   \n",
       "13 ENSMMUG00000054038 LOC694372    694372   \n",
       "14 ENSMMUG00000054038 LOC106996627 106996627\n",
       "15 ENSMMUG00000009425              705671   \n",
       "21 ENSMMUG00000055242 MAMU-E       711532   \n",
       "   GENENAME                                                                                        \n",
       "1  eukaryotic translation elongation factor 1 alpha 1                                              \n",
       "2  elongation factor 1-alpha 1                                                                     \n",
       "4  AHNAK nucleoprotein                                                                             \n",
       "5  actin beta                                                                                      \n",
       "6  major histocompatibility complex, class I, A                                                    \n",
       "7  major histocompatibility complex, class I, A                                                    \n",
       "8  major histocompatibility complex, class I, AG                                                   \n",
       "9  beta-2-microglobulin                                                                            \n",
       "11 filamin A                                                                                       \n",
       "12 prosaposin                                                                                      \n",
       "13 class I histocompatibility antigen, Gogo-B*0103 alpha chain-like                                \n",
       "14 HLA class I histocompatibility antigen, B-15 alpha chain-like                                   \n",
       "15 actin, cytoplasmic 2-like [Source:NCBI gene (formerly Entrezgene);Acc:705671]                   \n",
       "21 major histocompatibility complex, class I, E [Source:NCBI gene (formerly Entrezgene);Acc:711532]"
      ]
     },
     "metadata": {},
     "output_type": "display_data"
    }
   ],
   "source": [
    "conv_ids_test(rownames(dataNorm_df[1:10,]), \"org.Mmu.eg.db\", \"ENSEMBL\", \"mmulatta_gene_ensembl\", \"ensembl_gene_id\")"
   ]
  },
  {
   "cell_type": "code",
   "execution_count": 201,
   "metadata": {},
   "outputs": [],
   "source": [
    "#' CONVERTING IDS USING orgDB and maRt\n",
    "#' This function returns a dataframe with annotated genes and NA row for not anootated genes. \n",
    "#' \n",
    "#' @examples\n",
    "#' conv_ids_full(rownames(dataNorm_df), \"org.Mmu.eg.db\",  \"ENSEMBL\", \"mmulatta_gene_ensembl\", \"ensembl_gene_id\") \n",
    "#' @param input vector of IDs\n",
    "#' @param from_cluster_profiler input clusterProfiler ID type\n",
    "#' @param from_mart input maRt ID type\n",
    "#' @param db_cluster_profiler annotation clusterProfiler database\n",
    "#' @param from_mart annotation mart\n",
    "#' @import clusterProfiler\n",
    "#' @import biomaRt\n",
    "#' @return dataframe with the ENSEMBL ID, SYMBOL, ENTREZID, GENENAME(description)\n",
    "#' @export\n",
    "conv_ids_full <- function(input, db_cluster_profiler, from_cluster_profiler, mart, from_mart){ \n",
    "    ann1 <- NULL\n",
    "    ann2 <- NULL\n",
    "    ann3 <- NULL\n",
    "    not_found <- NULL\n",
    "    not_annot <- NULL\n",
    "\n",
    "    ann1 <- conv_ids_cp(input, from_cluster_profiler, c(\"SYMBOL\",\"ENTREZID\",\"GENENAME\"), db_cluster_profiler)\n",
    "    not_annot <- outersect(ann1$ENSEMBL, input)\n",
    "    if (is.null(not_annot)){\n",
    "        return(ann1)\n",
    "    } else {\n",
    "            ann2 <- conv_ids_mart(not_annot, mart, from_mart,\n",
    "                                  c(\"ensembl_gene_id\",\"external_gene_name\", 'entrezgene_id',\"description\"))\n",
    "            if (is.null(ann2)){\n",
    "                return(ann1)\n",
    "            } else {\n",
    "                colnames(ann2) <- colnames(ann1)\n",
    "                ann3 <- rbind(ann1,ann2)\n",
    "        }\n",
    "        }\n",
    "\n",
    "    not_found <- outersect(ann3$ENSEMBL, input)\n",
    "\n",
    "    if (is.null(not_found)){\n",
    "        return(ann3)\n",
    "    } else {\n",
    "\n",
    "        ann3 <- rbind(ann3, c(not_found,rep(NA,each=ncol(ann3)-1)))\n",
    "    }\n",
    "    return(ann3)\n",
    "}"
   ]
  },
  {
   "cell_type": "code",
   "execution_count": 204,
   "metadata": {},
   "outputs": [],
   "source": [
    "rm(conv_ids_full)\n"
   ]
  },
  {
   "cell_type": "code",
   "execution_count": 220,
   "metadata": {},
   "outputs": [
    {
     "data": {
      "text/html": [
       "<pre class=language-r><code>function (input, from, to, db) \n",
       "{\n",
       "<span style=white-space:pre-wrap>    if (!requireNamespace(db, quietly = TRUE)) {</span>\n",
       "<span style=white-space:pre-wrap>        stop(paste(\"Package\", db, \" needed for this function to work. Please install it.\"), </span>\n",
       "<span style=white-space:pre-wrap>            call. = FALSE)</span>\n",
       "<span style=white-space:pre-wrap>    }</span>\n",
       "<span style=white-space:pre-wrap>    myGenes &lt;- input</span>\n",
       "<span style=white-space:pre-wrap>    tryCatch({</span>\n",
       "<span style=white-space:pre-wrap>        bitr(myGenes, fromType = from, toType = to, OrgDb = db)</span>\n",
       "<span style=white-space:pre-wrap>    }, error = function(msg) {</span>\n",
       "<span style=white-space:pre-wrap>        return(NA)</span>\n",
       "<span style=white-space:pre-wrap>    })</span>\n",
       "}</code></pre>"
      ],
      "text/latex": [
       "\\begin{minted}{r}\n",
       "function (input, from, to, db) \n",
       "\\{\n",
       "    if (!requireNamespace(db, quietly = TRUE)) \\{\n",
       "        stop(paste(\"Package\", db, \" needed for this function to work. Please install it.\"), \n",
       "            call. = FALSE)\n",
       "    \\}\n",
       "    myGenes <- input\n",
       "    tryCatch(\\{\n",
       "        bitr(myGenes, fromType = from, toType = to, OrgDb = db)\n",
       "    \\}, error = function(msg) \\{\n",
       "        return(NA)\n",
       "    \\})\n",
       "\\}\n",
       "\\end{minted}"
      ],
      "text/markdown": [
       "```r\n",
       "function (input, from, to, db) \n",
       "{\n",
       "    if (!requireNamespace(db, quietly = TRUE)) {\n",
       "        stop(paste(\"Package\", db, \" needed for this function to work. Please install it.\"), \n",
       "            call. = FALSE)\n",
       "    }\n",
       "    myGenes <- input\n",
       "    tryCatch({\n",
       "        bitr(myGenes, fromType = from, toType = to, OrgDb = db)\n",
       "    }, error = function(msg) {\n",
       "        return(NA)\n",
       "    })\n",
       "}\n",
       "```"
      ],
      "text/plain": [
       "function (input, from, to, db) \n",
       "{\n",
       "    if (!requireNamespace(db, quietly = TRUE)) {\n",
       "        stop(paste(\"Package\", db, \" needed for this function to work. Please install it.\"), \n",
       "            call. = FALSE)\n",
       "    }\n",
       "    myGenes <- input\n",
       "    tryCatch({\n",
       "        bitr(myGenes, fromType = from, toType = to, OrgDb = db)\n",
       "    }, error = function(msg) {\n",
       "        return(NA)\n",
       "    })\n",
       "}\n",
       "<bytecode: 0x7f576f3d9640>\n",
       "<environment: namespace:bioEAT>"
      ]
     },
     "metadata": {},
     "output_type": "display_data"
    }
   ],
   "source": [
    "conv_ids_cp"
   ]
  },
  {
   "cell_type": "code",
   "execution_count": 221,
   "metadata": {},
   "outputs": [
    {
     "data": {
      "text/html": [
       "&lt;NA&gt;"
      ],
      "text/latex": [
       "<NA>"
      ],
      "text/markdown": [
       "&lt;NA&gt;"
      ],
      "text/plain": [
       "[1] NA"
      ]
     },
     "metadata": {},
     "output_type": "display_data"
    }
   ],
   "source": [
    "conv_ids_cp(\"ENSMMUG00000002764\",  \"ENSEMBL\", \"SYMBOL\", \"org.Mmu.eg.db\") "
   ]
  },
  {
   "cell_type": "code",
   "execution_count": 171,
   "metadata": {},
   "outputs": [
    {
     "name": "stderr",
     "output_type": "stream",
     "text": [
      "'select()' returned 1:many mapping between keys and columns\n",
      "\n",
      "Warning message in bitr(myGenes, fromType = from, toType = to, OrgDb = db):\n",
      "“27.27% of input gene IDs are fail to map...”\n"
     ]
    },
    {
     "data": {
      "text/html": [
       "<table>\n",
       "<caption>A data.frame: 15 × 4</caption>\n",
       "<thead>\n",
       "\t<tr><th></th><th scope=col>ENSEMBL</th><th scope=col>SYMBOL</th><th scope=col>ENTREZID</th><th scope=col>GENENAME</th></tr>\n",
       "\t<tr><th></th><th scope=col>&lt;chr&gt;</th><th scope=col>&lt;chr&gt;</th><th scope=col>&lt;chr&gt;</th><th scope=col>&lt;chr&gt;</th></tr>\n",
       "</thead>\n",
       "<tbody>\n",
       "\t<tr><th scope=row>1</th><td>ENSMMUG00000004852</td><td>EEF1A1      </td><td>716010   </td><td>eukaryotic translation elongation factor 1 alpha 1                                              </td></tr>\n",
       "\t<tr><th scope=row>2</th><td>ENSMMUG00000004852</td><td>LOC100425937</td><td>100425937</td><td>elongation factor 1-alpha 1                                                                     </td></tr>\n",
       "\t<tr><th scope=row>4</th><td>ENSMMUG00000022301</td><td>AHNAK       </td><td>718802   </td><td>AHNAK nucleoprotein                                                                             </td></tr>\n",
       "\t<tr><th scope=row>5</th><td>ENSMMUG00000011153</td><td>ACTB        </td><td>574285   </td><td>actin beta                                                                                      </td></tr>\n",
       "\t<tr><th scope=row>6</th><td>ENSMMUG00000056914</td><td>MAMU-A3     </td><td>699243   </td><td>major histocompatibility complex, class I, A                                                    </td></tr>\n",
       "\t<tr><th scope=row>7</th><td>ENSMMUG00000056914</td><td>MAMU-A      </td><td>711832   </td><td>major histocompatibility complex, class I, A                                                    </td></tr>\n",
       "\t<tr><th scope=row>8</th><td>ENSMMUG00000056914</td><td>MAMU-AG     </td><td>100187576</td><td>major histocompatibility complex, class I, AG                                                   </td></tr>\n",
       "\t<tr><th scope=row>9</th><td>ENSMMUG00000060797</td><td>B2M         </td><td>712428   </td><td>beta-2-microglobulin                                                                            </td></tr>\n",
       "\t<tr><th scope=row>11</th><td>ENSMMUG00000013668</td><td>FLNA        </td><td>699524   </td><td>filamin A                                                                                       </td></tr>\n",
       "\t<tr><th scope=row>12</th><td>ENSMMUG00000012969</td><td>PSAP        </td><td>709510   </td><td>prosaposin                                                                                      </td></tr>\n",
       "\t<tr><th scope=row>13</th><td>ENSMMUG00000054038</td><td>LOC694372   </td><td>694372   </td><td>class I histocompatibility antigen, Gogo-B*0103 alpha chain-like                                </td></tr>\n",
       "\t<tr><th scope=row>14</th><td>ENSMMUG00000054038</td><td>LOC106996627</td><td>106996627</td><td>HLA class I histocompatibility antigen, B-15 alpha chain-like                                   </td></tr>\n",
       "\t<tr><th scope=row>15</th><td>ENSMMUG00000009425</td><td>            </td><td>705671   </td><td>actin, cytoplasmic 2-like [Source:NCBI gene (formerly Entrezgene);Acc:705671]                   </td></tr>\n",
       "\t<tr><th scope=row>21</th><td>ENSMMUG00000055242</td><td>MAMU-E      </td><td>711532   </td><td>major histocompatibility complex, class I, E [Source:NCBI gene (formerly Entrezgene);Acc:711532]</td></tr>\n",
       "\t<tr><th scope=row>151</th><td>test              </td><td>NA          </td><td>NA       </td><td>NA                                                                                              </td></tr>\n",
       "</tbody>\n",
       "</table>\n"
      ],
      "text/latex": [
       "A data.frame: 15 × 4\n",
       "\\begin{tabular}{r|llll}\n",
       "  & ENSEMBL & SYMBOL & ENTREZID & GENENAME\\\\\n",
       "  & <chr> & <chr> & <chr> & <chr>\\\\\n",
       "\\hline\n",
       "\t1 & ENSMMUG00000004852 & EEF1A1       & 716010    & eukaryotic translation elongation factor 1 alpha 1                                              \\\\\n",
       "\t2 & ENSMMUG00000004852 & LOC100425937 & 100425937 & elongation factor 1-alpha 1                                                                     \\\\\n",
       "\t4 & ENSMMUG00000022301 & AHNAK        & 718802    & AHNAK nucleoprotein                                                                             \\\\\n",
       "\t5 & ENSMMUG00000011153 & ACTB         & 574285    & actin beta                                                                                      \\\\\n",
       "\t6 & ENSMMUG00000056914 & MAMU-A3      & 699243    & major histocompatibility complex, class I, A                                                    \\\\\n",
       "\t7 & ENSMMUG00000056914 & MAMU-A       & 711832    & major histocompatibility complex, class I, A                                                    \\\\\n",
       "\t8 & ENSMMUG00000056914 & MAMU-AG      & 100187576 & major histocompatibility complex, class I, AG                                                   \\\\\n",
       "\t9 & ENSMMUG00000060797 & B2M          & 712428    & beta-2-microglobulin                                                                            \\\\\n",
       "\t11 & ENSMMUG00000013668 & FLNA         & 699524    & filamin A                                                                                       \\\\\n",
       "\t12 & ENSMMUG00000012969 & PSAP         & 709510    & prosaposin                                                                                      \\\\\n",
       "\t13 & ENSMMUG00000054038 & LOC694372    & 694372    & class I histocompatibility antigen, Gogo-B*0103 alpha chain-like                                \\\\\n",
       "\t14 & ENSMMUG00000054038 & LOC106996627 & 106996627 & HLA class I histocompatibility antigen, B-15 alpha chain-like                                   \\\\\n",
       "\t15 & ENSMMUG00000009425 &              & 705671    & actin, cytoplasmic 2-like {[}Source:NCBI gene (formerly Entrezgene);Acc:705671{]}                   \\\\\n",
       "\t21 & ENSMMUG00000055242 & MAMU-E       & 711532    & major histocompatibility complex, class I, E {[}Source:NCBI gene (formerly Entrezgene);Acc:711532{]}\\\\\n",
       "\t151 & test               & NA           & NA        & NA                                                                                              \\\\\n",
       "\\end{tabular}\n"
      ],
      "text/markdown": [
       "\n",
       "A data.frame: 15 × 4\n",
       "\n",
       "| <!--/--> | ENSEMBL &lt;chr&gt; | SYMBOL &lt;chr&gt; | ENTREZID &lt;chr&gt; | GENENAME &lt;chr&gt; |\n",
       "|---|---|---|---|---|\n",
       "| 1 | ENSMMUG00000004852 | EEF1A1       | 716010    | eukaryotic translation elongation factor 1 alpha 1                                               |\n",
       "| 2 | ENSMMUG00000004852 | LOC100425937 | 100425937 | elongation factor 1-alpha 1                                                                      |\n",
       "| 4 | ENSMMUG00000022301 | AHNAK        | 718802    | AHNAK nucleoprotein                                                                              |\n",
       "| 5 | ENSMMUG00000011153 | ACTB         | 574285    | actin beta                                                                                       |\n",
       "| 6 | ENSMMUG00000056914 | MAMU-A3      | 699243    | major histocompatibility complex, class I, A                                                     |\n",
       "| 7 | ENSMMUG00000056914 | MAMU-A       | 711832    | major histocompatibility complex, class I, A                                                     |\n",
       "| 8 | ENSMMUG00000056914 | MAMU-AG      | 100187576 | major histocompatibility complex, class I, AG                                                    |\n",
       "| 9 | ENSMMUG00000060797 | B2M          | 712428    | beta-2-microglobulin                                                                             |\n",
       "| 11 | ENSMMUG00000013668 | FLNA         | 699524    | filamin A                                                                                        |\n",
       "| 12 | ENSMMUG00000012969 | PSAP         | 709510    | prosaposin                                                                                       |\n",
       "| 13 | ENSMMUG00000054038 | LOC694372    | 694372    | class I histocompatibility antigen, Gogo-B*0103 alpha chain-like                                 |\n",
       "| 14 | ENSMMUG00000054038 | LOC106996627 | 106996627 | HLA class I histocompatibility antigen, B-15 alpha chain-like                                    |\n",
       "| 15 | ENSMMUG00000009425 | <!----> | 705671    | actin, cytoplasmic 2-like [Source:NCBI gene (formerly Entrezgene);Acc:705671]                    |\n",
       "| 21 | ENSMMUG00000055242 | MAMU-E       | 711532    | major histocompatibility complex, class I, E [Source:NCBI gene (formerly Entrezgene);Acc:711532] |\n",
       "| 151 | test               | NA           | NA        | NA                                                                                               |\n",
       "\n"
      ],
      "text/plain": [
       "    ENSEMBL            SYMBOL       ENTREZID \n",
       "1   ENSMMUG00000004852 EEF1A1       716010   \n",
       "2   ENSMMUG00000004852 LOC100425937 100425937\n",
       "4   ENSMMUG00000022301 AHNAK        718802   \n",
       "5   ENSMMUG00000011153 ACTB         574285   \n",
       "6   ENSMMUG00000056914 MAMU-A3      699243   \n",
       "7   ENSMMUG00000056914 MAMU-A       711832   \n",
       "8   ENSMMUG00000056914 MAMU-AG      100187576\n",
       "9   ENSMMUG00000060797 B2M          712428   \n",
       "11  ENSMMUG00000013668 FLNA         699524   \n",
       "12  ENSMMUG00000012969 PSAP         709510   \n",
       "13  ENSMMUG00000054038 LOC694372    694372   \n",
       "14  ENSMMUG00000054038 LOC106996627 106996627\n",
       "15  ENSMMUG00000009425              705671   \n",
       "21  ENSMMUG00000055242 MAMU-E       711532   \n",
       "151 test               NA           NA       \n",
       "    GENENAME                                                                                        \n",
       "1   eukaryotic translation elongation factor 1 alpha 1                                              \n",
       "2   elongation factor 1-alpha 1                                                                     \n",
       "4   AHNAK nucleoprotein                                                                             \n",
       "5   actin beta                                                                                      \n",
       "6   major histocompatibility complex, class I, A                                                    \n",
       "7   major histocompatibility complex, class I, A                                                    \n",
       "8   major histocompatibility complex, class I, AG                                                   \n",
       "9   beta-2-microglobulin                                                                            \n",
       "11  filamin A                                                                                       \n",
       "12  prosaposin                                                                                      \n",
       "13  class I histocompatibility antigen, Gogo-B*0103 alpha chain-like                                \n",
       "14  HLA class I histocompatibility antigen, B-15 alpha chain-like                                   \n",
       "15  actin, cytoplasmic 2-like [Source:NCBI gene (formerly Entrezgene);Acc:705671]                   \n",
       "21  major histocompatibility complex, class I, E [Source:NCBI gene (formerly Entrezgene);Acc:711532]\n",
       "151 NA                                                                                              "
      ]
     },
     "metadata": {},
     "output_type": "display_data"
    }
   ],
   "source": [
    "#conv_ids_full(rownames(dataNorm_df[1:10,]), \"org.Mmu.eg.db\",  \"ENSEMBL\", \"mmulatta_gene_ensembl\", \"ensembl_gene_id\") "
   ]
  },
  {
   "cell_type": "code",
   "execution_count": 205,
   "metadata": {},
   "outputs": [
    {
     "name": "stderr",
     "output_type": "stream",
     "text": [
      "'select()' returned 1:many mapping between keys and columns\n",
      "\n",
      "Warning message in bitr(myGenes, fromType = from, toType = to, OrgDb = db):\n",
      "“20% of input gene IDs are fail to map...”\n",
      "Cache found\n",
      "\n"
     ]
    },
    {
     "data": {
      "text/html": [
       "<table>\n",
       "<caption>A data.frame: 14 × 4</caption>\n",
       "<thead>\n",
       "\t<tr><th></th><th scope=col>ENSEMBL</th><th scope=col>SYMBOL</th><th scope=col>ENTREZID</th><th scope=col>GENENAME</th></tr>\n",
       "\t<tr><th></th><th scope=col>&lt;chr&gt;</th><th scope=col>&lt;chr&gt;</th><th scope=col>&lt;chr&gt;</th><th scope=col>&lt;chr&gt;</th></tr>\n",
       "</thead>\n",
       "<tbody>\n",
       "\t<tr><th scope=row>1</th><td>ENSMMUG00000004852</td><td>EEF1A1      </td><td>716010   </td><td>eukaryotic translation elongation factor 1 alpha 1                                              </td></tr>\n",
       "\t<tr><th scope=row>2</th><td>ENSMMUG00000004852</td><td>LOC100425937</td><td>100425937</td><td>elongation factor 1-alpha 1                                                                     </td></tr>\n",
       "\t<tr><th scope=row>4</th><td>ENSMMUG00000022301</td><td>AHNAK       </td><td>718802   </td><td>AHNAK nucleoprotein                                                                             </td></tr>\n",
       "\t<tr><th scope=row>5</th><td>ENSMMUG00000011153</td><td>ACTB        </td><td>574285   </td><td>actin beta                                                                                      </td></tr>\n",
       "\t<tr><th scope=row>6</th><td>ENSMMUG00000056914</td><td>MAMU-A3     </td><td>699243   </td><td>major histocompatibility complex, class I, A                                                    </td></tr>\n",
       "\t<tr><th scope=row>7</th><td>ENSMMUG00000056914</td><td>MAMU-A      </td><td>711832   </td><td>major histocompatibility complex, class I, A                                                    </td></tr>\n",
       "\t<tr><th scope=row>8</th><td>ENSMMUG00000056914</td><td>MAMU-AG     </td><td>100187576</td><td>major histocompatibility complex, class I, AG                                                   </td></tr>\n",
       "\t<tr><th scope=row>9</th><td>ENSMMUG00000060797</td><td>B2M         </td><td>712428   </td><td>beta-2-microglobulin                                                                            </td></tr>\n",
       "\t<tr><th scope=row>11</th><td>ENSMMUG00000013668</td><td>FLNA        </td><td>699524   </td><td>filamin A                                                                                       </td></tr>\n",
       "\t<tr><th scope=row>12</th><td>ENSMMUG00000012969</td><td>PSAP        </td><td>709510   </td><td>prosaposin                                                                                      </td></tr>\n",
       "\t<tr><th scope=row>13</th><td>ENSMMUG00000054038</td><td>LOC694372   </td><td>694372   </td><td>class I histocompatibility antigen, Gogo-B*0103 alpha chain-like                                </td></tr>\n",
       "\t<tr><th scope=row>14</th><td>ENSMMUG00000054038</td><td>LOC106996627</td><td>106996627</td><td>HLA class I histocompatibility antigen, B-15 alpha chain-like                                   </td></tr>\n",
       "\t<tr><th scope=row>15</th><td>ENSMMUG00000009425</td><td>            </td><td>705671   </td><td>actin, cytoplasmic 2-like [Source:NCBI gene (formerly Entrezgene);Acc:705671]                   </td></tr>\n",
       "\t<tr><th scope=row>21</th><td>ENSMMUG00000055242</td><td>MAMU-E      </td><td>711532   </td><td>major histocompatibility complex, class I, E [Source:NCBI gene (formerly Entrezgene);Acc:711532]</td></tr>\n",
       "</tbody>\n",
       "</table>\n"
      ],
      "text/latex": [
       "A data.frame: 14 × 4\n",
       "\\begin{tabular}{r|llll}\n",
       "  & ENSEMBL & SYMBOL & ENTREZID & GENENAME\\\\\n",
       "  & <chr> & <chr> & <chr> & <chr>\\\\\n",
       "\\hline\n",
       "\t1 & ENSMMUG00000004852 & EEF1A1       & 716010    & eukaryotic translation elongation factor 1 alpha 1                                              \\\\\n",
       "\t2 & ENSMMUG00000004852 & LOC100425937 & 100425937 & elongation factor 1-alpha 1                                                                     \\\\\n",
       "\t4 & ENSMMUG00000022301 & AHNAK        & 718802    & AHNAK nucleoprotein                                                                             \\\\\n",
       "\t5 & ENSMMUG00000011153 & ACTB         & 574285    & actin beta                                                                                      \\\\\n",
       "\t6 & ENSMMUG00000056914 & MAMU-A3      & 699243    & major histocompatibility complex, class I, A                                                    \\\\\n",
       "\t7 & ENSMMUG00000056914 & MAMU-A       & 711832    & major histocompatibility complex, class I, A                                                    \\\\\n",
       "\t8 & ENSMMUG00000056914 & MAMU-AG      & 100187576 & major histocompatibility complex, class I, AG                                                   \\\\\n",
       "\t9 & ENSMMUG00000060797 & B2M          & 712428    & beta-2-microglobulin                                                                            \\\\\n",
       "\t11 & ENSMMUG00000013668 & FLNA         & 699524    & filamin A                                                                                       \\\\\n",
       "\t12 & ENSMMUG00000012969 & PSAP         & 709510    & prosaposin                                                                                      \\\\\n",
       "\t13 & ENSMMUG00000054038 & LOC694372    & 694372    & class I histocompatibility antigen, Gogo-B*0103 alpha chain-like                                \\\\\n",
       "\t14 & ENSMMUG00000054038 & LOC106996627 & 106996627 & HLA class I histocompatibility antigen, B-15 alpha chain-like                                   \\\\\n",
       "\t15 & ENSMMUG00000009425 &              & 705671    & actin, cytoplasmic 2-like {[}Source:NCBI gene (formerly Entrezgene);Acc:705671{]}                   \\\\\n",
       "\t21 & ENSMMUG00000055242 & MAMU-E       & 711532    & major histocompatibility complex, class I, E {[}Source:NCBI gene (formerly Entrezgene);Acc:711532{]}\\\\\n",
       "\\end{tabular}\n"
      ],
      "text/markdown": [
       "\n",
       "A data.frame: 14 × 4\n",
       "\n",
       "| <!--/--> | ENSEMBL &lt;chr&gt; | SYMBOL &lt;chr&gt; | ENTREZID &lt;chr&gt; | GENENAME &lt;chr&gt; |\n",
       "|---|---|---|---|---|\n",
       "| 1 | ENSMMUG00000004852 | EEF1A1       | 716010    | eukaryotic translation elongation factor 1 alpha 1                                               |\n",
       "| 2 | ENSMMUG00000004852 | LOC100425937 | 100425937 | elongation factor 1-alpha 1                                                                      |\n",
       "| 4 | ENSMMUG00000022301 | AHNAK        | 718802    | AHNAK nucleoprotein                                                                              |\n",
       "| 5 | ENSMMUG00000011153 | ACTB         | 574285    | actin beta                                                                                       |\n",
       "| 6 | ENSMMUG00000056914 | MAMU-A3      | 699243    | major histocompatibility complex, class I, A                                                     |\n",
       "| 7 | ENSMMUG00000056914 | MAMU-A       | 711832    | major histocompatibility complex, class I, A                                                     |\n",
       "| 8 | ENSMMUG00000056914 | MAMU-AG      | 100187576 | major histocompatibility complex, class I, AG                                                    |\n",
       "| 9 | ENSMMUG00000060797 | B2M          | 712428    | beta-2-microglobulin                                                                             |\n",
       "| 11 | ENSMMUG00000013668 | FLNA         | 699524    | filamin A                                                                                        |\n",
       "| 12 | ENSMMUG00000012969 | PSAP         | 709510    | prosaposin                                                                                       |\n",
       "| 13 | ENSMMUG00000054038 | LOC694372    | 694372    | class I histocompatibility antigen, Gogo-B*0103 alpha chain-like                                 |\n",
       "| 14 | ENSMMUG00000054038 | LOC106996627 | 106996627 | HLA class I histocompatibility antigen, B-15 alpha chain-like                                    |\n",
       "| 15 | ENSMMUG00000009425 | <!----> | 705671    | actin, cytoplasmic 2-like [Source:NCBI gene (formerly Entrezgene);Acc:705671]                    |\n",
       "| 21 | ENSMMUG00000055242 | MAMU-E       | 711532    | major histocompatibility complex, class I, E [Source:NCBI gene (formerly Entrezgene);Acc:711532] |\n",
       "\n"
      ],
      "text/plain": [
       "   ENSEMBL            SYMBOL       ENTREZID \n",
       "1  ENSMMUG00000004852 EEF1A1       716010   \n",
       "2  ENSMMUG00000004852 LOC100425937 100425937\n",
       "4  ENSMMUG00000022301 AHNAK        718802   \n",
       "5  ENSMMUG00000011153 ACTB         574285   \n",
       "6  ENSMMUG00000056914 MAMU-A3      699243   \n",
       "7  ENSMMUG00000056914 MAMU-A       711832   \n",
       "8  ENSMMUG00000056914 MAMU-AG      100187576\n",
       "9  ENSMMUG00000060797 B2M          712428   \n",
       "11 ENSMMUG00000013668 FLNA         699524   \n",
       "12 ENSMMUG00000012969 PSAP         709510   \n",
       "13 ENSMMUG00000054038 LOC694372    694372   \n",
       "14 ENSMMUG00000054038 LOC106996627 106996627\n",
       "15 ENSMMUG00000009425              705671   \n",
       "21 ENSMMUG00000055242 MAMU-E       711532   \n",
       "   GENENAME                                                                                        \n",
       "1  eukaryotic translation elongation factor 1 alpha 1                                              \n",
       "2  elongation factor 1-alpha 1                                                                     \n",
       "4  AHNAK nucleoprotein                                                                             \n",
       "5  actin beta                                                                                      \n",
       "6  major histocompatibility complex, class I, A                                                    \n",
       "7  major histocompatibility complex, class I, A                                                    \n",
       "8  major histocompatibility complex, class I, AG                                                   \n",
       "9  beta-2-microglobulin                                                                            \n",
       "11 filamin A                                                                                       \n",
       "12 prosaposin                                                                                      \n",
       "13 class I histocompatibility antigen, Gogo-B*0103 alpha chain-like                                \n",
       "14 HLA class I histocompatibility antigen, B-15 alpha chain-like                                   \n",
       "15 actin, cytoplasmic 2-like [Source:NCBI gene (formerly Entrezgene);Acc:705671]                   \n",
       "21 major histocompatibility complex, class I, E [Source:NCBI gene (formerly Entrezgene);Acc:711532]"
      ]
     },
     "metadata": {},
     "output_type": "display_data"
    }
   ],
   "source": [
    "conv_ids_full(rownames(dataNorm_df[1:10,]), \"org.Mmu.eg.db\", \"ENSEMBL\", \"mmulatta_gene_ensembl\", \"ensembl_gene_id\")"
   ]
  },
  {
   "cell_type": "code",
   "execution_count": 206,
   "metadata": {},
   "outputs": [
    {
     "data": {
      "text/html": [
       "<pre class=language-r><code>function (input, db_cluster_profiler, from_cluster_profiler, \n",
       "<span style=white-space:pre-wrap>    mart, from_mart) </span>\n",
       "{\n",
       "<span style=white-space:pre-wrap>    ann1 &lt;- NULL</span>\n",
       "<span style=white-space:pre-wrap>    ann2 &lt;- NULL</span>\n",
       "<span style=white-space:pre-wrap>    ann3 &lt;- NULL</span>\n",
       "<span style=white-space:pre-wrap>    not_found &lt;- NULL</span>\n",
       "<span style=white-space:pre-wrap>    not_annot &lt;- NULL</span>\n",
       "<span style=white-space:pre-wrap>    ann1 &lt;- conv_ids_cp(input, from_cluster_profiler, c(\"SYMBOL\", </span>\n",
       "<span style=white-space:pre-wrap>        \"ENTREZID\", \"GENENAME\"), db_cluster_profiler)</span>\n",
       "<span style=white-space:pre-wrap>    not_annot &lt;- outersect(ann1$ENSEMBL, input)</span>\n",
       "<span style=white-space:pre-wrap>    if (is.null(not_annot)) {</span>\n",
       "<span style=white-space:pre-wrap>        return(ann1)</span>\n",
       "<span style=white-space:pre-wrap>    }</span>\n",
       "<span style=white-space:pre-wrap>    else {</span>\n",
       "<span style=white-space:pre-wrap>        ann2 &lt;- conv_ids_mart(not_annot, mart, from_mart, c(\"ensembl_gene_id\", </span>\n",
       "<span style=white-space:pre-wrap>            \"external_gene_name\", \"entrezgene_id\", \"description\"))</span>\n",
       "<span style=white-space:pre-wrap>        if (is.null(ann2)) {</span>\n",
       "<span style=white-space:pre-wrap>            return(ann1)</span>\n",
       "<span style=white-space:pre-wrap>        }</span>\n",
       "<span style=white-space:pre-wrap>        else {</span>\n",
       "<span style=white-space:pre-wrap>            colnames(ann2) &lt;- colnames(ann1)</span>\n",
       "<span style=white-space:pre-wrap>            ann3 &lt;- rbind(ann1, ann2)</span>\n",
       "<span style=white-space:pre-wrap>        }</span>\n",
       "<span style=white-space:pre-wrap>    }</span>\n",
       "<span style=white-space:pre-wrap>    not_found &lt;- outersect(ann3$ENSEMBL, input)</span>\n",
       "<span style=white-space:pre-wrap>    if (is.null(not_found)) {</span>\n",
       "<span style=white-space:pre-wrap>        return(ann3)</span>\n",
       "<span style=white-space:pre-wrap>    }</span>\n",
       "<span style=white-space:pre-wrap>    else {</span>\n",
       "<span style=white-space:pre-wrap>        ann3 &lt;- rbind(ann3, c(not_found, rep(NA, each = ncol(ann3) - </span>\n",
       "<span style=white-space:pre-wrap>            1)))</span>\n",
       "<span style=white-space:pre-wrap>    }</span>\n",
       "<span style=white-space:pre-wrap>    return(ann3)</span>\n",
       "}</code></pre>"
      ],
      "text/latex": [
       "\\begin{minted}{r}\n",
       "function (input, db\\_cluster\\_profiler, from\\_cluster\\_profiler, \n",
       "    mart, from\\_mart) \n",
       "\\{\n",
       "    ann1 <- NULL\n",
       "    ann2 <- NULL\n",
       "    ann3 <- NULL\n",
       "    not\\_found <- NULL\n",
       "    not\\_annot <- NULL\n",
       "    ann1 <- conv\\_ids\\_cp(input, from\\_cluster\\_profiler, c(\"SYMBOL\", \n",
       "        \"ENTREZID\", \"GENENAME\"), db\\_cluster\\_profiler)\n",
       "    not\\_annot <- outersect(ann1\\$ENSEMBL, input)\n",
       "    if (is.null(not\\_annot)) \\{\n",
       "        return(ann1)\n",
       "    \\}\n",
       "    else \\{\n",
       "        ann2 <- conv\\_ids\\_mart(not\\_annot, mart, from\\_mart, c(\"ensembl\\_gene\\_id\", \n",
       "            \"external\\_gene\\_name\", \"entrezgene\\_id\", \"description\"))\n",
       "        if (is.null(ann2)) \\{\n",
       "            return(ann1)\n",
       "        \\}\n",
       "        else \\{\n",
       "            colnames(ann2) <- colnames(ann1)\n",
       "            ann3 <- rbind(ann1, ann2)\n",
       "        \\}\n",
       "    \\}\n",
       "    not\\_found <- outersect(ann3\\$ENSEMBL, input)\n",
       "    if (is.null(not\\_found)) \\{\n",
       "        return(ann3)\n",
       "    \\}\n",
       "    else \\{\n",
       "        ann3 <- rbind(ann3, c(not\\_found, rep(NA, each = ncol(ann3) - \n",
       "            1)))\n",
       "    \\}\n",
       "    return(ann3)\n",
       "\\}\n",
       "\\end{minted}"
      ],
      "text/markdown": [
       "```r\n",
       "function (input, db_cluster_profiler, from_cluster_profiler, \n",
       "    mart, from_mart) \n",
       "{\n",
       "    ann1 <- NULL\n",
       "    ann2 <- NULL\n",
       "    ann3 <- NULL\n",
       "    not_found <- NULL\n",
       "    not_annot <- NULL\n",
       "    ann1 <- conv_ids_cp(input, from_cluster_profiler, c(\"SYMBOL\", \n",
       "        \"ENTREZID\", \"GENENAME\"), db_cluster_profiler)\n",
       "    not_annot <- outersect(ann1$ENSEMBL, input)\n",
       "    if (is.null(not_annot)) {\n",
       "        return(ann1)\n",
       "    }\n",
       "    else {\n",
       "        ann2 <- conv_ids_mart(not_annot, mart, from_mart, c(\"ensembl_gene_id\", \n",
       "            \"external_gene_name\", \"entrezgene_id\", \"description\"))\n",
       "        if (is.null(ann2)) {\n",
       "            return(ann1)\n",
       "        }\n",
       "        else {\n",
       "            colnames(ann2) <- colnames(ann1)\n",
       "            ann3 <- rbind(ann1, ann2)\n",
       "        }\n",
       "    }\n",
       "    not_found <- outersect(ann3$ENSEMBL, input)\n",
       "    if (is.null(not_found)) {\n",
       "        return(ann3)\n",
       "    }\n",
       "    else {\n",
       "        ann3 <- rbind(ann3, c(not_found, rep(NA, each = ncol(ann3) - \n",
       "            1)))\n",
       "    }\n",
       "    return(ann3)\n",
       "}\n",
       "```"
      ],
      "text/plain": [
       "function (input, db_cluster_profiler, from_cluster_profiler, \n",
       "    mart, from_mart) \n",
       "{\n",
       "    ann1 <- NULL\n",
       "    ann2 <- NULL\n",
       "    ann3 <- NULL\n",
       "    not_found <- NULL\n",
       "    not_annot <- NULL\n",
       "    ann1 <- conv_ids_cp(input, from_cluster_profiler, c(\"SYMBOL\", \n",
       "        \"ENTREZID\", \"GENENAME\"), db_cluster_profiler)\n",
       "    not_annot <- outersect(ann1$ENSEMBL, input)\n",
       "    if (is.null(not_annot)) {\n",
       "        return(ann1)\n",
       "    }\n",
       "    else {\n",
       "        ann2 <- conv_ids_mart(not_annot, mart, from_mart, c(\"ensembl_gene_id\", \n",
       "            \"external_gene_name\", \"entrezgene_id\", \"description\"))\n",
       "        if (is.null(ann2)) {\n",
       "            return(ann1)\n",
       "        }\n",
       "        else {\n",
       "            colnames(ann2) <- colnames(ann1)\n",
       "            ann3 <- rbind(ann1, ann2)\n",
       "        }\n",
       "    }\n",
       "    not_found <- outersect(ann3$ENSEMBL, input)\n",
       "    if (is.null(not_found)) {\n",
       "        return(ann3)\n",
       "    }\n",
       "    else {\n",
       "        ann3 <- rbind(ann3, c(not_found, rep(NA, each = ncol(ann3) - \n",
       "            1)))\n",
       "    }\n",
       "    return(ann3)\n",
       "}\n",
       "<bytecode: 0x7f574c6968d0>\n",
       "<environment: namespace:bioEAT>"
      ]
     },
     "metadata": {},
     "output_type": "display_data"
    }
   ],
   "source": [
    "conv_ids_full"
   ]
  },
  {
   "cell_type": "code",
   "execution_count": 200,
   "metadata": {},
   "outputs": [
    {
     "data": {
      "text/html": [
       "<pre class=language-r><code>function (input, db_cluster_profiler, mart) \n",
       "{\n",
       "<span style=white-space:pre-wrap>    ann1 &lt;- NULL</span>\n",
       "<span style=white-space:pre-wrap>    ann2 &lt;- NULL</span>\n",
       "<span style=white-space:pre-wrap>    ann3 &lt;- NULL</span>\n",
       "<span style=white-space:pre-wrap>    not_found &lt;- NULL</span>\n",
       "<span style=white-space:pre-wrap>    not_annot &lt;- NULL</span>\n",
       "<span style=white-space:pre-wrap>    ann1 &lt;- conv_ids_cp(input, \"ENSEMBL\", c(\"SYMBOL\", \"ENTREZID\", </span>\n",
       "<span style=white-space:pre-wrap>        \"GENENAME\"), db_cluster_profiler)</span>\n",
       "<span style=white-space:pre-wrap>    not_annot &lt;- outersect(ann1$ENSEMBL, input)</span>\n",
       "<span style=white-space:pre-wrap>    if (is.null(not_annot)) {</span>\n",
       "<span style=white-space:pre-wrap>        return(ann1)</span>\n",
       "<span style=white-space:pre-wrap>    }</span>\n",
       "<span style=white-space:pre-wrap>    else {</span>\n",
       "<span style=white-space:pre-wrap>        ann2 &lt;- conv_ids_mart(not_annot, mart)</span>\n",
       "<span style=white-space:pre-wrap>        if (is.null(ann2)) {</span>\n",
       "<span style=white-space:pre-wrap>            return(ann1)</span>\n",
       "<span style=white-space:pre-wrap>        }</span>\n",
       "<span style=white-space:pre-wrap>        else {</span>\n",
       "<span style=white-space:pre-wrap>            colnames(ann2) &lt;- colnames(ann1)</span>\n",
       "<span style=white-space:pre-wrap>            ann3 &lt;- rbind(ann1, ann2)</span>\n",
       "<span style=white-space:pre-wrap>        }</span>\n",
       "<span style=white-space:pre-wrap>    }</span>\n",
       "<span style=white-space:pre-wrap>    not_found &lt;- outersect(ann3$ENSEMBL, input)</span>\n",
       "<span style=white-space:pre-wrap>    if (is.null(not_found)) {</span>\n",
       "<span style=white-space:pre-wrap>        return(ann3)</span>\n",
       "<span style=white-space:pre-wrap>    }</span>\n",
       "<span style=white-space:pre-wrap>    else {</span>\n",
       "<span style=white-space:pre-wrap>        ann3 &lt;- rbind(ann3, c(not_found, rep(NA, each = ncol(ann3) - </span>\n",
       "<span style=white-space:pre-wrap>            1)))</span>\n",
       "<span style=white-space:pre-wrap>    }</span>\n",
       "<span style=white-space:pre-wrap>    return(ann3)</span>\n",
       "}</code></pre>"
      ],
      "text/latex": [
       "\\begin{minted}{r}\n",
       "function (input, db\\_cluster\\_profiler, mart) \n",
       "\\{\n",
       "    ann1 <- NULL\n",
       "    ann2 <- NULL\n",
       "    ann3 <- NULL\n",
       "    not\\_found <- NULL\n",
       "    not\\_annot <- NULL\n",
       "    ann1 <- conv\\_ids\\_cp(input, \"ENSEMBL\", c(\"SYMBOL\", \"ENTREZID\", \n",
       "        \"GENENAME\"), db\\_cluster\\_profiler)\n",
       "    not\\_annot <- outersect(ann1\\$ENSEMBL, input)\n",
       "    if (is.null(not\\_annot)) \\{\n",
       "        return(ann1)\n",
       "    \\}\n",
       "    else \\{\n",
       "        ann2 <- conv\\_ids\\_mart(not\\_annot, mart)\n",
       "        if (is.null(ann2)) \\{\n",
       "            return(ann1)\n",
       "        \\}\n",
       "        else \\{\n",
       "            colnames(ann2) <- colnames(ann1)\n",
       "            ann3 <- rbind(ann1, ann2)\n",
       "        \\}\n",
       "    \\}\n",
       "    not\\_found <- outersect(ann3\\$ENSEMBL, input)\n",
       "    if (is.null(not\\_found)) \\{\n",
       "        return(ann3)\n",
       "    \\}\n",
       "    else \\{\n",
       "        ann3 <- rbind(ann3, c(not\\_found, rep(NA, each = ncol(ann3) - \n",
       "            1)))\n",
       "    \\}\n",
       "    return(ann3)\n",
       "\\}\n",
       "\\end{minted}"
      ],
      "text/markdown": [
       "```r\n",
       "function (input, db_cluster_profiler, mart) \n",
       "{\n",
       "    ann1 <- NULL\n",
       "    ann2 <- NULL\n",
       "    ann3 <- NULL\n",
       "    not_found <- NULL\n",
       "    not_annot <- NULL\n",
       "    ann1 <- conv_ids_cp(input, \"ENSEMBL\", c(\"SYMBOL\", \"ENTREZID\", \n",
       "        \"GENENAME\"), db_cluster_profiler)\n",
       "    not_annot <- outersect(ann1$ENSEMBL, input)\n",
       "    if (is.null(not_annot)) {\n",
       "        return(ann1)\n",
       "    }\n",
       "    else {\n",
       "        ann2 <- conv_ids_mart(not_annot, mart)\n",
       "        if (is.null(ann2)) {\n",
       "            return(ann1)\n",
       "        }\n",
       "        else {\n",
       "            colnames(ann2) <- colnames(ann1)\n",
       "            ann3 <- rbind(ann1, ann2)\n",
       "        }\n",
       "    }\n",
       "    not_found <- outersect(ann3$ENSEMBL, input)\n",
       "    if (is.null(not_found)) {\n",
       "        return(ann3)\n",
       "    }\n",
       "    else {\n",
       "        ann3 <- rbind(ann3, c(not_found, rep(NA, each = ncol(ann3) - \n",
       "            1)))\n",
       "    }\n",
       "    return(ann3)\n",
       "}\n",
       "```"
      ],
      "text/plain": [
       "function(input, db_cluster_profiler, mart){ \n",
       "    ann1 <- NULL\n",
       "    ann2 <- NULL\n",
       "    ann3 <- NULL\n",
       "    not_found <- NULL\n",
       "    not_annot <- NULL\n",
       "\n",
       "    ann1 <- conv_ids_cp(input, \"ENSEMBL\", c(\"SYMBOL\",\"ENTREZID\",\"GENENAME\"), db_cluster_profiler)\n",
       "    not_annot <- outersect(ann1$ENSEMBL, input)\n",
       "    if (is.null(not_annot)){\n",
       "        return(ann1)\n",
       "    } else {\n",
       "            ann2 <- conv_ids_mart(not_annot, mart)\n",
       "            if (is.null(ann2)){\n",
       "                return(ann1)\n",
       "            } else {\n",
       "                colnames(ann2) <- colnames(ann1)\n",
       "                ann3 <- rbind(ann1,ann2)\n",
       "        }\n",
       "        }\n",
       "\n",
       "    not_found <- outersect(ann3$ENSEMBL, input)\n",
       "\n",
       "    if (is.null(not_found)){\n",
       "        return(ann3)\n",
       "    } else {\n",
       "\n",
       "        ann3 <- rbind(ann3, c(not_found,rep(NA,each=ncol(ann3)-1)))\n",
       "    }\n",
       "    return(ann3)\n",
       "}\n",
       "<bytecode: 0x7f5764df0c98>"
      ]
     },
     "metadata": {},
     "output_type": "display_data"
    }
   ],
   "source": [
    "conv_ids_full"
   ]
  },
  {
   "cell_type": "code",
   "execution_count": 195,
   "metadata": {},
   "outputs": [
    {
     "name": "stderr",
     "output_type": "stream",
     "text": [
      "Cache found\n",
      "\n"
     ]
    },
    {
     "data": {
      "text/html": [
       "<table>\n",
       "<caption>A data.frame: 14 × 4</caption>\n",
       "<thead>\n",
       "\t<tr><th scope=col>ensembl_gene_id</th><th scope=col>external_gene_name</th><th scope=col>entrezgene_id</th><th scope=col>description</th></tr>\n",
       "\t<tr><th scope=col>&lt;chr&gt;</th><th scope=col>&lt;chr&gt;</th><th scope=col>&lt;int&gt;</th><th scope=col>&lt;chr&gt;</th></tr>\n",
       "</thead>\n",
       "<tbody>\n",
       "\t<tr><td>ENSMMUG00000004852</td><td>EEF1A1</td><td>   716010</td><td>eukaryotic translation elongation factor 1 alpha 1 [Source:VGNC Symbol;Acc:VGNC:81065]                              </td></tr>\n",
       "\t<tr><td>ENSMMUG00000009425</td><td>      </td><td>   705671</td><td>actin, cytoplasmic 2-like [Source:NCBI gene (formerly Entrezgene);Acc:705671]                                       </td></tr>\n",
       "\t<tr><td>ENSMMUG00000011153</td><td>ACTB  </td><td>   574285</td><td>actin beta [Source:NCBI gene (formerly Entrezgene);Acc:574285]                                                      </td></tr>\n",
       "\t<tr><td>ENSMMUG00000012969</td><td>PSAP  </td><td>   709510</td><td>prosaposin [Source:VGNC Symbol;Acc:VGNC:76434]                                                                      </td></tr>\n",
       "\t<tr><td>ENSMMUG00000013668</td><td>FLNA  </td><td>   699524</td><td>filamin A [Source:VGNC Symbol;Acc:VGNC:72671]                                                                       </td></tr>\n",
       "\t<tr><td>ENSMMUG00000022301</td><td>AHNAK </td><td>   718802</td><td>AHNAK nucleoprotein [Source:VGNC Symbol;Acc:VGNC:99540]                                                             </td></tr>\n",
       "\t<tr><td>ENSMMUG00000054038</td><td>      </td><td>   694372</td><td>class I histocompatibility antigen, Gogo-B*0103 alpha chain-like [Source:NCBI gene (formerly Entrezgene);Acc:694372]</td></tr>\n",
       "\t<tr><td>ENSMMUG00000054038</td><td>      </td><td>106996627</td><td>class I histocompatibility antigen, Gogo-B*0103 alpha chain-like [Source:NCBI gene (formerly Entrezgene);Acc:694372]</td></tr>\n",
       "\t<tr><td>ENSMMUG00000054038</td><td>      </td><td>114677644</td><td>class I histocompatibility antigen, Gogo-B*0103 alpha chain-like [Source:NCBI gene (formerly Entrezgene);Acc:694372]</td></tr>\n",
       "\t<tr><td>ENSMMUG00000055242</td><td>MAMU-E</td><td>   711532</td><td>major histocompatibility complex, class I, E [Source:NCBI gene (formerly Entrezgene);Acc:711532]                    </td></tr>\n",
       "\t<tr><td>ENSMMUG00000056914</td><td>MAMU-A</td><td>   699243</td><td>Macaca mulatta major histocompatibility complex, class I, A (MAMU-A), mRNA. [Source:RefSeq mRNA;Acc:NM_001048246]   </td></tr>\n",
       "\t<tr><td>ENSMMUG00000056914</td><td>MAMU-A</td><td>   711832</td><td>Macaca mulatta major histocompatibility complex, class I, A (MAMU-A), mRNA. [Source:RefSeq mRNA;Acc:NM_001048246]   </td></tr>\n",
       "\t<tr><td>ENSMMUG00000056914</td><td>MAMU-A</td><td>100187576</td><td>Macaca mulatta major histocompatibility complex, class I, A (MAMU-A), mRNA. [Source:RefSeq mRNA;Acc:NM_001048246]   </td></tr>\n",
       "\t<tr><td>ENSMMUG00000060797</td><td>B2M   </td><td>   712428</td><td>beta-2-microglobulin [Source:NCBI gene (formerly Entrezgene);Acc:712428]                                            </td></tr>\n",
       "</tbody>\n",
       "</table>\n"
      ],
      "text/latex": [
       "A data.frame: 14 × 4\n",
       "\\begin{tabular}{llll}\n",
       " ensembl\\_gene\\_id & external\\_gene\\_name & entrezgene\\_id & description\\\\\n",
       " <chr> & <chr> & <int> & <chr>\\\\\n",
       "\\hline\n",
       "\t ENSMMUG00000004852 & EEF1A1 &    716010 & eukaryotic translation elongation factor 1 alpha 1 {[}Source:VGNC Symbol;Acc:VGNC:81065{]}                              \\\\\n",
       "\t ENSMMUG00000009425 &        &    705671 & actin, cytoplasmic 2-like {[}Source:NCBI gene (formerly Entrezgene);Acc:705671{]}                                       \\\\\n",
       "\t ENSMMUG00000011153 & ACTB   &    574285 & actin beta {[}Source:NCBI gene (formerly Entrezgene);Acc:574285{]}                                                      \\\\\n",
       "\t ENSMMUG00000012969 & PSAP   &    709510 & prosaposin {[}Source:VGNC Symbol;Acc:VGNC:76434{]}                                                                      \\\\\n",
       "\t ENSMMUG00000013668 & FLNA   &    699524 & filamin A {[}Source:VGNC Symbol;Acc:VGNC:72671{]}                                                                       \\\\\n",
       "\t ENSMMUG00000022301 & AHNAK  &    718802 & AHNAK nucleoprotein {[}Source:VGNC Symbol;Acc:VGNC:99540{]}                                                             \\\\\n",
       "\t ENSMMUG00000054038 &        &    694372 & class I histocompatibility antigen, Gogo-B*0103 alpha chain-like {[}Source:NCBI gene (formerly Entrezgene);Acc:694372{]}\\\\\n",
       "\t ENSMMUG00000054038 &        & 106996627 & class I histocompatibility antigen, Gogo-B*0103 alpha chain-like {[}Source:NCBI gene (formerly Entrezgene);Acc:694372{]}\\\\\n",
       "\t ENSMMUG00000054038 &        & 114677644 & class I histocompatibility antigen, Gogo-B*0103 alpha chain-like {[}Source:NCBI gene (formerly Entrezgene);Acc:694372{]}\\\\\n",
       "\t ENSMMUG00000055242 & MAMU-E &    711532 & major histocompatibility complex, class I, E {[}Source:NCBI gene (formerly Entrezgene);Acc:711532{]}                    \\\\\n",
       "\t ENSMMUG00000056914 & MAMU-A &    699243 & Macaca mulatta major histocompatibility complex, class I, A (MAMU-A), mRNA. {[}Source:RefSeq mRNA;Acc:NM\\_001048246{]}   \\\\\n",
       "\t ENSMMUG00000056914 & MAMU-A &    711832 & Macaca mulatta major histocompatibility complex, class I, A (MAMU-A), mRNA. {[}Source:RefSeq mRNA;Acc:NM\\_001048246{]}   \\\\\n",
       "\t ENSMMUG00000056914 & MAMU-A & 100187576 & Macaca mulatta major histocompatibility complex, class I, A (MAMU-A), mRNA. {[}Source:RefSeq mRNA;Acc:NM\\_001048246{]}   \\\\\n",
       "\t ENSMMUG00000060797 & B2M    &    712428 & beta-2-microglobulin {[}Source:NCBI gene (formerly Entrezgene);Acc:712428{]}                                            \\\\\n",
       "\\end{tabular}\n"
      ],
      "text/markdown": [
       "\n",
       "A data.frame: 14 × 4\n",
       "\n",
       "| ensembl_gene_id &lt;chr&gt; | external_gene_name &lt;chr&gt; | entrezgene_id &lt;int&gt; | description &lt;chr&gt; |\n",
       "|---|---|---|---|\n",
       "| ENSMMUG00000004852 | EEF1A1 |    716010 | eukaryotic translation elongation factor 1 alpha 1 [Source:VGNC Symbol;Acc:VGNC:81065]                               |\n",
       "| ENSMMUG00000009425 | <!----> |    705671 | actin, cytoplasmic 2-like [Source:NCBI gene (formerly Entrezgene);Acc:705671]                                        |\n",
       "| ENSMMUG00000011153 | ACTB   |    574285 | actin beta [Source:NCBI gene (formerly Entrezgene);Acc:574285]                                                       |\n",
       "| ENSMMUG00000012969 | PSAP   |    709510 | prosaposin [Source:VGNC Symbol;Acc:VGNC:76434]                                                                       |\n",
       "| ENSMMUG00000013668 | FLNA   |    699524 | filamin A [Source:VGNC Symbol;Acc:VGNC:72671]                                                                        |\n",
       "| ENSMMUG00000022301 | AHNAK  |    718802 | AHNAK nucleoprotein [Source:VGNC Symbol;Acc:VGNC:99540]                                                              |\n",
       "| ENSMMUG00000054038 | <!----> |    694372 | class I histocompatibility antigen, Gogo-B*0103 alpha chain-like [Source:NCBI gene (formerly Entrezgene);Acc:694372] |\n",
       "| ENSMMUG00000054038 | <!----> | 106996627 | class I histocompatibility antigen, Gogo-B*0103 alpha chain-like [Source:NCBI gene (formerly Entrezgene);Acc:694372] |\n",
       "| ENSMMUG00000054038 | <!----> | 114677644 | class I histocompatibility antigen, Gogo-B*0103 alpha chain-like [Source:NCBI gene (formerly Entrezgene);Acc:694372] |\n",
       "| ENSMMUG00000055242 | MAMU-E |    711532 | major histocompatibility complex, class I, E [Source:NCBI gene (formerly Entrezgene);Acc:711532]                     |\n",
       "| ENSMMUG00000056914 | MAMU-A |    699243 | Macaca mulatta major histocompatibility complex, class I, A (MAMU-A), mRNA. [Source:RefSeq mRNA;Acc:NM_001048246]    |\n",
       "| ENSMMUG00000056914 | MAMU-A |    711832 | Macaca mulatta major histocompatibility complex, class I, A (MAMU-A), mRNA. [Source:RefSeq mRNA;Acc:NM_001048246]    |\n",
       "| ENSMMUG00000056914 | MAMU-A | 100187576 | Macaca mulatta major histocompatibility complex, class I, A (MAMU-A), mRNA. [Source:RefSeq mRNA;Acc:NM_001048246]    |\n",
       "| ENSMMUG00000060797 | B2M    |    712428 | beta-2-microglobulin [Source:NCBI gene (formerly Entrezgene);Acc:712428]                                             |\n",
       "\n"
      ],
      "text/plain": [
       "   ensembl_gene_id    external_gene_name entrezgene_id\n",
       "1  ENSMMUG00000004852 EEF1A1                716010    \n",
       "2  ENSMMUG00000009425                       705671    \n",
       "3  ENSMMUG00000011153 ACTB                  574285    \n",
       "4  ENSMMUG00000012969 PSAP                  709510    \n",
       "5  ENSMMUG00000013668 FLNA                  699524    \n",
       "6  ENSMMUG00000022301 AHNAK                 718802    \n",
       "7  ENSMMUG00000054038                       694372    \n",
       "8  ENSMMUG00000054038                    106996627    \n",
       "9  ENSMMUG00000054038                    114677644    \n",
       "10 ENSMMUG00000055242 MAMU-E                711532    \n",
       "11 ENSMMUG00000056914 MAMU-A                699243    \n",
       "12 ENSMMUG00000056914 MAMU-A                711832    \n",
       "13 ENSMMUG00000056914 MAMU-A             100187576    \n",
       "14 ENSMMUG00000060797 B2M                   712428    \n",
       "   description                                                                                                         \n",
       "1  eukaryotic translation elongation factor 1 alpha 1 [Source:VGNC Symbol;Acc:VGNC:81065]                              \n",
       "2  actin, cytoplasmic 2-like [Source:NCBI gene (formerly Entrezgene);Acc:705671]                                       \n",
       "3  actin beta [Source:NCBI gene (formerly Entrezgene);Acc:574285]                                                      \n",
       "4  prosaposin [Source:VGNC Symbol;Acc:VGNC:76434]                                                                      \n",
       "5  filamin A [Source:VGNC Symbol;Acc:VGNC:72671]                                                                       \n",
       "6  AHNAK nucleoprotein [Source:VGNC Symbol;Acc:VGNC:99540]                                                             \n",
       "7  class I histocompatibility antigen, Gogo-B*0103 alpha chain-like [Source:NCBI gene (formerly Entrezgene);Acc:694372]\n",
       "8  class I histocompatibility antigen, Gogo-B*0103 alpha chain-like [Source:NCBI gene (formerly Entrezgene);Acc:694372]\n",
       "9  class I histocompatibility antigen, Gogo-B*0103 alpha chain-like [Source:NCBI gene (formerly Entrezgene);Acc:694372]\n",
       "10 major histocompatibility complex, class I, E [Source:NCBI gene (formerly Entrezgene);Acc:711532]                    \n",
       "11 Macaca mulatta major histocompatibility complex, class I, A (MAMU-A), mRNA. [Source:RefSeq mRNA;Acc:NM_001048246]   \n",
       "12 Macaca mulatta major histocompatibility complex, class I, A (MAMU-A), mRNA. [Source:RefSeq mRNA;Acc:NM_001048246]   \n",
       "13 Macaca mulatta major histocompatibility complex, class I, A (MAMU-A), mRNA. [Source:RefSeq mRNA;Acc:NM_001048246]   \n",
       "14 beta-2-microglobulin [Source:NCBI gene (formerly Entrezgene);Acc:712428]                                            "
      ]
     },
     "metadata": {},
     "output_type": "display_data"
    }
   ],
   "source": [
    "conv_ids_mart(rownames(dataNorm_df[1:10,]), \"mmulatta_gene_ensembl\", \"ensembl_gene_id\",  c(\"ensembl_gene_id\",\"external_gene_name\", 'entrezgene_id',\"description\"))"
   ]
  },
  {
   "cell_type": "code",
   "execution_count": 192,
   "metadata": {},
   "outputs": [
    {
     "name": "stderr",
     "output_type": "stream",
     "text": [
      "Cache found\n",
      "\n"
     ]
    },
    {
     "data": {
      "text/html": [
       "<table>\n",
       "<caption>A data.frame: 14 × 4</caption>\n",
       "<thead>\n",
       "\t<tr><th scope=col>ensembl_gene_id</th><th scope=col>external_gene_name</th><th scope=col>entrezgene_id</th><th scope=col>description</th></tr>\n",
       "\t<tr><th scope=col>&lt;chr&gt;</th><th scope=col>&lt;chr&gt;</th><th scope=col>&lt;int&gt;</th><th scope=col>&lt;chr&gt;</th></tr>\n",
       "</thead>\n",
       "<tbody>\n",
       "\t<tr><td>ENSMMUG00000004852</td><td>EEF1A1</td><td>   716010</td><td>eukaryotic translation elongation factor 1 alpha 1 [Source:VGNC Symbol;Acc:VGNC:81065]                              </td></tr>\n",
       "\t<tr><td>ENSMMUG00000009425</td><td>      </td><td>   705671</td><td>actin, cytoplasmic 2-like [Source:NCBI gene (formerly Entrezgene);Acc:705671]                                       </td></tr>\n",
       "\t<tr><td>ENSMMUG00000011153</td><td>ACTB  </td><td>   574285</td><td>actin beta [Source:NCBI gene (formerly Entrezgene);Acc:574285]                                                      </td></tr>\n",
       "\t<tr><td>ENSMMUG00000012969</td><td>PSAP  </td><td>   709510</td><td>prosaposin [Source:VGNC Symbol;Acc:VGNC:76434]                                                                      </td></tr>\n",
       "\t<tr><td>ENSMMUG00000013668</td><td>FLNA  </td><td>   699524</td><td>filamin A [Source:VGNC Symbol;Acc:VGNC:72671]                                                                       </td></tr>\n",
       "\t<tr><td>ENSMMUG00000022301</td><td>AHNAK </td><td>   718802</td><td>AHNAK nucleoprotein [Source:VGNC Symbol;Acc:VGNC:99540]                                                             </td></tr>\n",
       "\t<tr><td>ENSMMUG00000054038</td><td>      </td><td>   694372</td><td>class I histocompatibility antigen, Gogo-B*0103 alpha chain-like [Source:NCBI gene (formerly Entrezgene);Acc:694372]</td></tr>\n",
       "\t<tr><td>ENSMMUG00000054038</td><td>      </td><td>106996627</td><td>class I histocompatibility antigen, Gogo-B*0103 alpha chain-like [Source:NCBI gene (formerly Entrezgene);Acc:694372]</td></tr>\n",
       "\t<tr><td>ENSMMUG00000054038</td><td>      </td><td>114677644</td><td>class I histocompatibility antigen, Gogo-B*0103 alpha chain-like [Source:NCBI gene (formerly Entrezgene);Acc:694372]</td></tr>\n",
       "\t<tr><td>ENSMMUG00000055242</td><td>MAMU-E</td><td>   711532</td><td>major histocompatibility complex, class I, E [Source:NCBI gene (formerly Entrezgene);Acc:711532]                    </td></tr>\n",
       "\t<tr><td>ENSMMUG00000056914</td><td>MAMU-A</td><td>   699243</td><td>Macaca mulatta major histocompatibility complex, class I, A (MAMU-A), mRNA. [Source:RefSeq mRNA;Acc:NM_001048246]   </td></tr>\n",
       "\t<tr><td>ENSMMUG00000056914</td><td>MAMU-A</td><td>   711832</td><td>Macaca mulatta major histocompatibility complex, class I, A (MAMU-A), mRNA. [Source:RefSeq mRNA;Acc:NM_001048246]   </td></tr>\n",
       "\t<tr><td>ENSMMUG00000056914</td><td>MAMU-A</td><td>100187576</td><td>Macaca mulatta major histocompatibility complex, class I, A (MAMU-A), mRNA. [Source:RefSeq mRNA;Acc:NM_001048246]   </td></tr>\n",
       "\t<tr><td>ENSMMUG00000060797</td><td>B2M   </td><td>   712428</td><td>beta-2-microglobulin [Source:NCBI gene (formerly Entrezgene);Acc:712428]                                            </td></tr>\n",
       "</tbody>\n",
       "</table>\n"
      ],
      "text/latex": [
       "A data.frame: 14 × 4\n",
       "\\begin{tabular}{llll}\n",
       " ensembl\\_gene\\_id & external\\_gene\\_name & entrezgene\\_id & description\\\\\n",
       " <chr> & <chr> & <int> & <chr>\\\\\n",
       "\\hline\n",
       "\t ENSMMUG00000004852 & EEF1A1 &    716010 & eukaryotic translation elongation factor 1 alpha 1 {[}Source:VGNC Symbol;Acc:VGNC:81065{]}                              \\\\\n",
       "\t ENSMMUG00000009425 &        &    705671 & actin, cytoplasmic 2-like {[}Source:NCBI gene (formerly Entrezgene);Acc:705671{]}                                       \\\\\n",
       "\t ENSMMUG00000011153 & ACTB   &    574285 & actin beta {[}Source:NCBI gene (formerly Entrezgene);Acc:574285{]}                                                      \\\\\n",
       "\t ENSMMUG00000012969 & PSAP   &    709510 & prosaposin {[}Source:VGNC Symbol;Acc:VGNC:76434{]}                                                                      \\\\\n",
       "\t ENSMMUG00000013668 & FLNA   &    699524 & filamin A {[}Source:VGNC Symbol;Acc:VGNC:72671{]}                                                                       \\\\\n",
       "\t ENSMMUG00000022301 & AHNAK  &    718802 & AHNAK nucleoprotein {[}Source:VGNC Symbol;Acc:VGNC:99540{]}                                                             \\\\\n",
       "\t ENSMMUG00000054038 &        &    694372 & class I histocompatibility antigen, Gogo-B*0103 alpha chain-like {[}Source:NCBI gene (formerly Entrezgene);Acc:694372{]}\\\\\n",
       "\t ENSMMUG00000054038 &        & 106996627 & class I histocompatibility antigen, Gogo-B*0103 alpha chain-like {[}Source:NCBI gene (formerly Entrezgene);Acc:694372{]}\\\\\n",
       "\t ENSMMUG00000054038 &        & 114677644 & class I histocompatibility antigen, Gogo-B*0103 alpha chain-like {[}Source:NCBI gene (formerly Entrezgene);Acc:694372{]}\\\\\n",
       "\t ENSMMUG00000055242 & MAMU-E &    711532 & major histocompatibility complex, class I, E {[}Source:NCBI gene (formerly Entrezgene);Acc:711532{]}                    \\\\\n",
       "\t ENSMMUG00000056914 & MAMU-A &    699243 & Macaca mulatta major histocompatibility complex, class I, A (MAMU-A), mRNA. {[}Source:RefSeq mRNA;Acc:NM\\_001048246{]}   \\\\\n",
       "\t ENSMMUG00000056914 & MAMU-A &    711832 & Macaca mulatta major histocompatibility complex, class I, A (MAMU-A), mRNA. {[}Source:RefSeq mRNA;Acc:NM\\_001048246{]}   \\\\\n",
       "\t ENSMMUG00000056914 & MAMU-A & 100187576 & Macaca mulatta major histocompatibility complex, class I, A (MAMU-A), mRNA. {[}Source:RefSeq mRNA;Acc:NM\\_001048246{]}   \\\\\n",
       "\t ENSMMUG00000060797 & B2M    &    712428 & beta-2-microglobulin {[}Source:NCBI gene (formerly Entrezgene);Acc:712428{]}                                            \\\\\n",
       "\\end{tabular}\n"
      ],
      "text/markdown": [
       "\n",
       "A data.frame: 14 × 4\n",
       "\n",
       "| ensembl_gene_id &lt;chr&gt; | external_gene_name &lt;chr&gt; | entrezgene_id &lt;int&gt; | description &lt;chr&gt; |\n",
       "|---|---|---|---|\n",
       "| ENSMMUG00000004852 | EEF1A1 |    716010 | eukaryotic translation elongation factor 1 alpha 1 [Source:VGNC Symbol;Acc:VGNC:81065]                               |\n",
       "| ENSMMUG00000009425 | <!----> |    705671 | actin, cytoplasmic 2-like [Source:NCBI gene (formerly Entrezgene);Acc:705671]                                        |\n",
       "| ENSMMUG00000011153 | ACTB   |    574285 | actin beta [Source:NCBI gene (formerly Entrezgene);Acc:574285]                                                       |\n",
       "| ENSMMUG00000012969 | PSAP   |    709510 | prosaposin [Source:VGNC Symbol;Acc:VGNC:76434]                                                                       |\n",
       "| ENSMMUG00000013668 | FLNA   |    699524 | filamin A [Source:VGNC Symbol;Acc:VGNC:72671]                                                                        |\n",
       "| ENSMMUG00000022301 | AHNAK  |    718802 | AHNAK nucleoprotein [Source:VGNC Symbol;Acc:VGNC:99540]                                                              |\n",
       "| ENSMMUG00000054038 | <!----> |    694372 | class I histocompatibility antigen, Gogo-B*0103 alpha chain-like [Source:NCBI gene (formerly Entrezgene);Acc:694372] |\n",
       "| ENSMMUG00000054038 | <!----> | 106996627 | class I histocompatibility antigen, Gogo-B*0103 alpha chain-like [Source:NCBI gene (formerly Entrezgene);Acc:694372] |\n",
       "| ENSMMUG00000054038 | <!----> | 114677644 | class I histocompatibility antigen, Gogo-B*0103 alpha chain-like [Source:NCBI gene (formerly Entrezgene);Acc:694372] |\n",
       "| ENSMMUG00000055242 | MAMU-E |    711532 | major histocompatibility complex, class I, E [Source:NCBI gene (formerly Entrezgene);Acc:711532]                     |\n",
       "| ENSMMUG00000056914 | MAMU-A |    699243 | Macaca mulatta major histocompatibility complex, class I, A (MAMU-A), mRNA. [Source:RefSeq mRNA;Acc:NM_001048246]    |\n",
       "| ENSMMUG00000056914 | MAMU-A |    711832 | Macaca mulatta major histocompatibility complex, class I, A (MAMU-A), mRNA. [Source:RefSeq mRNA;Acc:NM_001048246]    |\n",
       "| ENSMMUG00000056914 | MAMU-A | 100187576 | Macaca mulatta major histocompatibility complex, class I, A (MAMU-A), mRNA. [Source:RefSeq mRNA;Acc:NM_001048246]    |\n",
       "| ENSMMUG00000060797 | B2M    |    712428 | beta-2-microglobulin [Source:NCBI gene (formerly Entrezgene);Acc:712428]                                             |\n",
       "\n"
      ],
      "text/plain": [
       "   ensembl_gene_id    external_gene_name entrezgene_id\n",
       "1  ENSMMUG00000004852 EEF1A1                716010    \n",
       "2  ENSMMUG00000009425                       705671    \n",
       "3  ENSMMUG00000011153 ACTB                  574285    \n",
       "4  ENSMMUG00000012969 PSAP                  709510    \n",
       "5  ENSMMUG00000013668 FLNA                  699524    \n",
       "6  ENSMMUG00000022301 AHNAK                 718802    \n",
       "7  ENSMMUG00000054038                       694372    \n",
       "8  ENSMMUG00000054038                    106996627    \n",
       "9  ENSMMUG00000054038                    114677644    \n",
       "10 ENSMMUG00000055242 MAMU-E                711532    \n",
       "11 ENSMMUG00000056914 MAMU-A                699243    \n",
       "12 ENSMMUG00000056914 MAMU-A                711832    \n",
       "13 ENSMMUG00000056914 MAMU-A             100187576    \n",
       "14 ENSMMUG00000060797 B2M                   712428    \n",
       "   description                                                                                                         \n",
       "1  eukaryotic translation elongation factor 1 alpha 1 [Source:VGNC Symbol;Acc:VGNC:81065]                              \n",
       "2  actin, cytoplasmic 2-like [Source:NCBI gene (formerly Entrezgene);Acc:705671]                                       \n",
       "3  actin beta [Source:NCBI gene (formerly Entrezgene);Acc:574285]                                                      \n",
       "4  prosaposin [Source:VGNC Symbol;Acc:VGNC:76434]                                                                      \n",
       "5  filamin A [Source:VGNC Symbol;Acc:VGNC:72671]                                                                       \n",
       "6  AHNAK nucleoprotein [Source:VGNC Symbol;Acc:VGNC:99540]                                                             \n",
       "7  class I histocompatibility antigen, Gogo-B*0103 alpha chain-like [Source:NCBI gene (formerly Entrezgene);Acc:694372]\n",
       "8  class I histocompatibility antigen, Gogo-B*0103 alpha chain-like [Source:NCBI gene (formerly Entrezgene);Acc:694372]\n",
       "9  class I histocompatibility antigen, Gogo-B*0103 alpha chain-like [Source:NCBI gene (formerly Entrezgene);Acc:694372]\n",
       "10 major histocompatibility complex, class I, E [Source:NCBI gene (formerly Entrezgene);Acc:711532]                    \n",
       "11 Macaca mulatta major histocompatibility complex, class I, A (MAMU-A), mRNA. [Source:RefSeq mRNA;Acc:NM_001048246]   \n",
       "12 Macaca mulatta major histocompatibility complex, class I, A (MAMU-A), mRNA. [Source:RefSeq mRNA;Acc:NM_001048246]   \n",
       "13 Macaca mulatta major histocompatibility complex, class I, A (MAMU-A), mRNA. [Source:RefSeq mRNA;Acc:NM_001048246]   \n",
       "14 beta-2-microglobulin [Source:NCBI gene (formerly Entrezgene);Acc:712428]                                            "
      ]
     },
     "metadata": {},
     "output_type": "display_data"
    }
   ],
   "source": [
    "conv_ids_mart(rownames(dataNorm_df[1:10,]), \"mmulatta_gene_ensembl\", \"ensembl_gene_id\",\n",
    "                                  c(\"ensembl_gene_id\",\"external_gene_name\", 'entrezgene_id',\"description\"))"
   ]
  },
  {
   "cell_type": "code",
   "execution_count": 185,
   "metadata": {},
   "outputs": [
    {
     "name": "stderr",
     "output_type": "stream",
     "text": [
      "'select()' returned 1:many mapping between keys and columns\n",
      "\n",
      "Warning message in bitr(myGenes, fromType = from, toType = to, OrgDb = db):\n",
      "“20% of input gene IDs are fail to map...”\n"
     ]
    },
    {
     "data": {
      "text/html": [
       "<table>\n",
       "<caption>A data.frame: 12 × 4</caption>\n",
       "<thead>\n",
       "\t<tr><th></th><th scope=col>ENSEMBL</th><th scope=col>SYMBOL</th><th scope=col>ENTREZID</th><th scope=col>GENENAME</th></tr>\n",
       "\t<tr><th></th><th scope=col>&lt;chr&gt;</th><th scope=col>&lt;chr&gt;</th><th scope=col>&lt;chr&gt;</th><th scope=col>&lt;chr&gt;</th></tr>\n",
       "</thead>\n",
       "<tbody>\n",
       "\t<tr><th scope=row>1</th><td>ENSMMUG00000004852</td><td>EEF1A1      </td><td>716010   </td><td>eukaryotic translation elongation factor 1 alpha 1              </td></tr>\n",
       "\t<tr><th scope=row>2</th><td>ENSMMUG00000004852</td><td>LOC100425937</td><td>100425937</td><td>elongation factor 1-alpha 1                                     </td></tr>\n",
       "\t<tr><th scope=row>4</th><td>ENSMMUG00000022301</td><td>AHNAK       </td><td>718802   </td><td>AHNAK nucleoprotein                                             </td></tr>\n",
       "\t<tr><th scope=row>5</th><td>ENSMMUG00000011153</td><td>ACTB        </td><td>574285   </td><td>actin beta                                                      </td></tr>\n",
       "\t<tr><th scope=row>6</th><td>ENSMMUG00000056914</td><td>MAMU-A3     </td><td>699243   </td><td>major histocompatibility complex, class I, A                    </td></tr>\n",
       "\t<tr><th scope=row>7</th><td>ENSMMUG00000056914</td><td>MAMU-A      </td><td>711832   </td><td>major histocompatibility complex, class I, A                    </td></tr>\n",
       "\t<tr><th scope=row>8</th><td>ENSMMUG00000056914</td><td>MAMU-AG     </td><td>100187576</td><td>major histocompatibility complex, class I, AG                   </td></tr>\n",
       "\t<tr><th scope=row>9</th><td>ENSMMUG00000060797</td><td>B2M         </td><td>712428   </td><td>beta-2-microglobulin                                            </td></tr>\n",
       "\t<tr><th scope=row>11</th><td>ENSMMUG00000013668</td><td>FLNA        </td><td>699524   </td><td>filamin A                                                       </td></tr>\n",
       "\t<tr><th scope=row>12</th><td>ENSMMUG00000012969</td><td>PSAP        </td><td>709510   </td><td>prosaposin                                                      </td></tr>\n",
       "\t<tr><th scope=row>13</th><td>ENSMMUG00000054038</td><td>LOC694372   </td><td>694372   </td><td>class I histocompatibility antigen, Gogo-B*0103 alpha chain-like</td></tr>\n",
       "\t<tr><th scope=row>14</th><td>ENSMMUG00000054038</td><td>LOC106996627</td><td>106996627</td><td>HLA class I histocompatibility antigen, B-15 alpha chain-like   </td></tr>\n",
       "</tbody>\n",
       "</table>\n"
      ],
      "text/latex": [
       "A data.frame: 12 × 4\n",
       "\\begin{tabular}{r|llll}\n",
       "  & ENSEMBL & SYMBOL & ENTREZID & GENENAME\\\\\n",
       "  & <chr> & <chr> & <chr> & <chr>\\\\\n",
       "\\hline\n",
       "\t1 & ENSMMUG00000004852 & EEF1A1       & 716010    & eukaryotic translation elongation factor 1 alpha 1              \\\\\n",
       "\t2 & ENSMMUG00000004852 & LOC100425937 & 100425937 & elongation factor 1-alpha 1                                     \\\\\n",
       "\t4 & ENSMMUG00000022301 & AHNAK        & 718802    & AHNAK nucleoprotein                                             \\\\\n",
       "\t5 & ENSMMUG00000011153 & ACTB         & 574285    & actin beta                                                      \\\\\n",
       "\t6 & ENSMMUG00000056914 & MAMU-A3      & 699243    & major histocompatibility complex, class I, A                    \\\\\n",
       "\t7 & ENSMMUG00000056914 & MAMU-A       & 711832    & major histocompatibility complex, class I, A                    \\\\\n",
       "\t8 & ENSMMUG00000056914 & MAMU-AG      & 100187576 & major histocompatibility complex, class I, AG                   \\\\\n",
       "\t9 & ENSMMUG00000060797 & B2M          & 712428    & beta-2-microglobulin                                            \\\\\n",
       "\t11 & ENSMMUG00000013668 & FLNA         & 699524    & filamin A                                                       \\\\\n",
       "\t12 & ENSMMUG00000012969 & PSAP         & 709510    & prosaposin                                                      \\\\\n",
       "\t13 & ENSMMUG00000054038 & LOC694372    & 694372    & class I histocompatibility antigen, Gogo-B*0103 alpha chain-like\\\\\n",
       "\t14 & ENSMMUG00000054038 & LOC106996627 & 106996627 & HLA class I histocompatibility antigen, B-15 alpha chain-like   \\\\\n",
       "\\end{tabular}\n"
      ],
      "text/markdown": [
       "\n",
       "A data.frame: 12 × 4\n",
       "\n",
       "| <!--/--> | ENSEMBL &lt;chr&gt; | SYMBOL &lt;chr&gt; | ENTREZID &lt;chr&gt; | GENENAME &lt;chr&gt; |\n",
       "|---|---|---|---|---|\n",
       "| 1 | ENSMMUG00000004852 | EEF1A1       | 716010    | eukaryotic translation elongation factor 1 alpha 1               |\n",
       "| 2 | ENSMMUG00000004852 | LOC100425937 | 100425937 | elongation factor 1-alpha 1                                      |\n",
       "| 4 | ENSMMUG00000022301 | AHNAK        | 718802    | AHNAK nucleoprotein                                              |\n",
       "| 5 | ENSMMUG00000011153 | ACTB         | 574285    | actin beta                                                       |\n",
       "| 6 | ENSMMUG00000056914 | MAMU-A3      | 699243    | major histocompatibility complex, class I, A                     |\n",
       "| 7 | ENSMMUG00000056914 | MAMU-A       | 711832    | major histocompatibility complex, class I, A                     |\n",
       "| 8 | ENSMMUG00000056914 | MAMU-AG      | 100187576 | major histocompatibility complex, class I, AG                    |\n",
       "| 9 | ENSMMUG00000060797 | B2M          | 712428    | beta-2-microglobulin                                             |\n",
       "| 11 | ENSMMUG00000013668 | FLNA         | 699524    | filamin A                                                        |\n",
       "| 12 | ENSMMUG00000012969 | PSAP         | 709510    | prosaposin                                                       |\n",
       "| 13 | ENSMMUG00000054038 | LOC694372    | 694372    | class I histocompatibility antigen, Gogo-B*0103 alpha chain-like |\n",
       "| 14 | ENSMMUG00000054038 | LOC106996627 | 106996627 | HLA class I histocompatibility antigen, B-15 alpha chain-like    |\n",
       "\n"
      ],
      "text/plain": [
       "   ENSEMBL            SYMBOL       ENTREZID \n",
       "1  ENSMMUG00000004852 EEF1A1       716010   \n",
       "2  ENSMMUG00000004852 LOC100425937 100425937\n",
       "4  ENSMMUG00000022301 AHNAK        718802   \n",
       "5  ENSMMUG00000011153 ACTB         574285   \n",
       "6  ENSMMUG00000056914 MAMU-A3      699243   \n",
       "7  ENSMMUG00000056914 MAMU-A       711832   \n",
       "8  ENSMMUG00000056914 MAMU-AG      100187576\n",
       "9  ENSMMUG00000060797 B2M          712428   \n",
       "11 ENSMMUG00000013668 FLNA         699524   \n",
       "12 ENSMMUG00000012969 PSAP         709510   \n",
       "13 ENSMMUG00000054038 LOC694372    694372   \n",
       "14 ENSMMUG00000054038 LOC106996627 106996627\n",
       "   GENENAME                                                        \n",
       "1  eukaryotic translation elongation factor 1 alpha 1              \n",
       "2  elongation factor 1-alpha 1                                     \n",
       "4  AHNAK nucleoprotein                                             \n",
       "5  actin beta                                                      \n",
       "6  major histocompatibility complex, class I, A                    \n",
       "7  major histocompatibility complex, class I, A                    \n",
       "8  major histocompatibility complex, class I, AG                   \n",
       "9  beta-2-microglobulin                                            \n",
       "11 filamin A                                                       \n",
       "12 prosaposin                                                      \n",
       "13 class I histocompatibility antigen, Gogo-B*0103 alpha chain-like\n",
       "14 HLA class I histocompatibility antigen, B-15 alpha chain-like   "
      ]
     },
     "metadata": {},
     "output_type": "display_data"
    }
   ],
   "source": [
    "conv_ids_cp(rownames(dataNorm_df[1:10,]), \"ENSEMBL\", c(\"ENSEMBL\",\"SYMBOL\",\"ENTREZID\",\"GENENAME\"), \"org.Mmu.eg.db\")"
   ]
  },
  {
   "cell_type": "code",
   "execution_count": 186,
   "metadata": {},
   "outputs": [
    {
     "name": "stderr",
     "output_type": "stream",
     "text": [
      "'select()' returned 1:1 mapping between keys and columns\n",
      "\n"
     ]
    },
    {
     "data": {
      "text/html": [
       "<table>\n",
       "<caption>A data.frame: 1 × 4</caption>\n",
       "<thead>\n",
       "\t<tr><th scope=col>ENTREZID</th><th scope=col>ENSEMBL</th><th scope=col>SYMBOL</th><th scope=col>GENENAME</th></tr>\n",
       "\t<tr><th scope=col>&lt;chr&gt;</th><th scope=col>&lt;chr&gt;</th><th scope=col>&lt;chr&gt;</th><th scope=col>&lt;chr&gt;</th></tr>\n",
       "</thead>\n",
       "<tbody>\n",
       "\t<tr><td>716010</td><td>ENSMMUG00000004852</td><td>EEF1A1</td><td>eukaryotic translation elongation factor 1 alpha 1</td></tr>\n",
       "</tbody>\n",
       "</table>\n"
      ],
      "text/latex": [
       "A data.frame: 1 × 4\n",
       "\\begin{tabular}{llll}\n",
       " ENTREZID & ENSEMBL & SYMBOL & GENENAME\\\\\n",
       " <chr> & <chr> & <chr> & <chr>\\\\\n",
       "\\hline\n",
       "\t 716010 & ENSMMUG00000004852 & EEF1A1 & eukaryotic translation elongation factor 1 alpha 1\\\\\n",
       "\\end{tabular}\n"
      ],
      "text/markdown": [
       "\n",
       "A data.frame: 1 × 4\n",
       "\n",
       "| ENTREZID &lt;chr&gt; | ENSEMBL &lt;chr&gt; | SYMBOL &lt;chr&gt; | GENENAME &lt;chr&gt; |\n",
       "|---|---|---|---|\n",
       "| 716010 | ENSMMUG00000004852 | EEF1A1 | eukaryotic translation elongation factor 1 alpha 1 |\n",
       "\n"
      ],
      "text/plain": [
       "  ENTREZID ENSEMBL            SYMBOL\n",
       "1 716010   ENSMMUG00000004852 EEF1A1\n",
       "  GENENAME                                          \n",
       "1 eukaryotic translation elongation factor 1 alpha 1"
      ]
     },
     "metadata": {},
     "output_type": "display_data"
    }
   ],
   "source": [
    "conv_ids_cp(716010, \"ENTREZID\", c(\"ENSEMBL\",\"SYMBOL\",\"ENTREZID\",\"GENENAME\"), \"org.Mmu.eg.db\")"
   ]
  },
  {
   "cell_type": "code",
   "execution_count": null,
   "metadata": {},
   "outputs": [],
   "source": []
  }
 ],
 "metadata": {
  "kernelspec": {
   "display_name": "R",
   "language": "R",
   "name": "ir"
  },
  "language_info": {
   "codemirror_mode": "r",
   "file_extension": ".r",
   "mimetype": "text/x-r-source",
   "name": "R",
   "pygments_lexer": "r",
   "version": "3.6.3"
  },
  "toc": {
   "base_numbering": 1,
   "nav_menu": {},
   "number_sections": true,
   "sideBar": true,
   "skip_h1_title": false,
   "title_cell": "Table of Contents",
   "title_sidebar": "Contents",
   "toc_cell": false,
   "toc_position": {},
   "toc_section_display": true,
   "toc_window_display": false
  },
  "varInspector": {
   "cols": {
    "lenName": 16,
    "lenType": 16,
    "lenVar": 40
   },
   "kernels_config": {
    "python": {
     "delete_cmd_postfix": "",
     "delete_cmd_prefix": "del ",
     "library": "var_list.py",
     "varRefreshCmd": "print(var_dic_list())"
    },
    "r": {
     "delete_cmd_postfix": ") ",
     "delete_cmd_prefix": "rm(",
     "library": "var_list.r",
     "varRefreshCmd": "cat(var_dic_list()) "
    }
   },
   "types_to_exclude": [
    "module",
    "function",
    "builtin_function_or_method",
    "instance",
    "_Feature"
   ],
   "window_display": false
  }
 },
 "nbformat": 4,
 "nbformat_minor": 4
}
